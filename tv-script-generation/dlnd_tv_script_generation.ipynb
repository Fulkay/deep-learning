{
 "cells": [
  {
   "cell_type": "markdown",
   "metadata": {},
   "source": [
    "# TV Script Generation\n",
    "In this project, you'll generate your own [Simpsons](https://en.wikipedia.org/wiki/The_Simpsons) TV scripts using RNNs.  You'll be using part of the [Simpsons dataset](https://www.kaggle.com/wcukierski/the-simpsons-by-the-data) of scripts from 27 seasons.  The Neural Network you'll build will generate a new TV script for a scene at [Moe's Tavern](https://simpsonswiki.com/wiki/Moe's_Tavern).\n",
    "## Get the Data\n",
    "The data is already provided for you.  You'll be using a subset of the original dataset.  It consists of only the scenes in Moe's Tavern.  This doesn't include other versions of the tavern, like \"Moe's Cavern\", \"Flaming Moe's\", \"Uncle Moe's Family Feed-Bag\", etc.."
   ]
  },
  {
   "cell_type": "code",
   "execution_count": 1,
   "metadata": {},
   "outputs": [],
   "source": [
    "\"\"\"\n",
    "DON'T MODIFY ANYTHING IN THIS CELL\n",
    "\"\"\"\n",
    "import helper\n",
    "\n",
    "data_dir = './data/simpsons/moes_tavern_lines.txt'\n",
    "text = helper.load_data(data_dir)\n",
    "# Ignore notice, since we don't use it for analysing the data\n",
    "text = text[81:]"
   ]
  },
  {
   "cell_type": "markdown",
   "metadata": {},
   "source": [
    "## Explore the Data\n",
    "Play around with `view_sentence_range` to view different parts of the data."
   ]
  },
  {
   "cell_type": "code",
   "execution_count": 2,
   "metadata": {},
   "outputs": [
    {
     "name": "stdout",
     "output_type": "stream",
     "text": [
      "Dataset Stats\n",
      "Roughly the number of unique words: 11492\n",
      "Number of scenes: 262\n",
      "Average number of sentences in each scene: 15.251908396946565\n",
      "Number of lines: 4258\n",
      "Average number of words in each line: 11.50164396430249\n",
      "\n",
      "The sentences 0 to 10:\n",
      "\n",
      "Moe_Szyslak: (INTO PHONE) Moe's Tavern. Where the elite meet to drink.\n",
      "Bart_Simpson: Eh, yeah, hello, is Mike there? Last name, Rotch.\n",
      "Moe_Szyslak: (INTO PHONE) Hold on, I'll check. (TO BARFLIES) Mike Rotch. Mike Rotch. Hey, has anybody seen Mike Rotch, lately?\n",
      "Moe_Szyslak: (INTO PHONE) Listen you little puke. One of these days I'm gonna catch you, and I'm gonna carve my name on your back with an ice pick.\n",
      "Moe_Szyslak: What's the matter Homer? You're not your normal effervescent self.\n",
      "Homer_Simpson: I got my problems, Moe. Give me another one.\n",
      "Moe_Szyslak: Homer, hey, you should not drink to forget your problems.\n",
      "Barney_Gumble: Yeah, you should only drink to enhance your social skills.\n",
      "\n"
     ]
    }
   ],
   "source": [
    "view_sentence_range = (0, 10)\n",
    "\n",
    "\"\"\"\n",
    "DON'T MODIFY ANYTHING IN THIS CELL\n",
    "\"\"\"\n",
    "import numpy as np\n",
    "\n",
    "print('Dataset Stats')\n",
    "print('Roughly the number of unique words: {}'.format(len({word: None for word in text.split()})))\n",
    "scenes = text.split('\\n\\n')\n",
    "print('Number of scenes: {}'.format(len(scenes)))\n",
    "sentence_count_scene = [scene.count('\\n') for scene in scenes]\n",
    "print('Average number of sentences in each scene: {}'.format(np.average(sentence_count_scene)))\n",
    "\n",
    "sentences = [sentence for scene in scenes for sentence in scene.split('\\n')]\n",
    "print('Number of lines: {}'.format(len(sentences)))\n",
    "word_count_sentence = [len(sentence.split()) for sentence in sentences]\n",
    "print('Average number of words in each line: {}'.format(np.average(word_count_sentence)))\n",
    "\n",
    "print()\n",
    "print('The sentences {} to {}:'.format(*view_sentence_range))\n",
    "print('\\n'.join(text.split('\\n')[view_sentence_range[0]:view_sentence_range[1]]))"
   ]
  },
  {
   "cell_type": "markdown",
   "metadata": {},
   "source": [
    "## Implement Preprocessing Functions\n",
    "The first thing to do to any dataset is preprocessing.  Implement the following preprocessing functions below:\n",
    "- Lookup Table\n",
    "- Tokenize Punctuation\n",
    "\n",
    "### Lookup Table\n",
    "To create a word embedding, you first need to transform the words to ids.  In this function, create two dictionaries:\n",
    "- Dictionary to go from the words to an id, we'll call `vocab_to_int`\n",
    "- Dictionary to go from the id to word, we'll call `int_to_vocab`\n",
    "\n",
    "Return these dictionaries in the following tuple `(vocab_to_int, int_to_vocab)`"
   ]
  },
  {
   "cell_type": "code",
   "execution_count": 35,
   "metadata": {},
   "outputs": [
    {
     "name": "stdout",
     "output_type": "stream",
     "text": [
      "Tests Passed\n"
     ]
    }
   ],
   "source": [
    "import numpy as np\n",
    "import problem_unittests as tests\n",
    "from collections import Counter\n",
    "\n",
    "def create_lookup_tables(text):\n",
    "    \"\"\"\n",
    "    Create lookup tables for vocabulary\n",
    "    :param text: The text of tv scripts split into words\n",
    "    :return: A tuple of dicts (vocab_to_int, int_to_vocab)\n",
    "    \"\"\"\n",
    "    # TODO: Implement Function\n",
    "    word_counts = Counter(text)\n",
    "    #print(word_counts)\n",
    "    sorted_vocab = sorted(word_counts, key=word_counts.get, reverse=True)\n",
    "    #print(\"sorted_vocab\")\n",
    "    #print(sorted_vocab)\n",
    "    int_to_vocab = { ii: word for ii, word in enumerate(sorted_vocab)}\n",
    "    vocab_to_int = {word: ii for ii, word in int_to_vocab.items()}\n",
    "    #print(\"test\")\n",
    "    #print(list(int_to_vocab.items())[:5])\n",
    "    return vocab_to_int, int_to_vocab\n",
    "\n",
    "\n",
    "\"\"\"\n",
    "DON'T MODIFY ANYTHING IN THIS CELL THAT IS BELOW THIS LINE\n",
    "\"\"\"\n",
    "tests.test_create_lookup_tables(create_lookup_tables)"
   ]
  },
  {
   "cell_type": "markdown",
   "metadata": {},
   "source": [
    "### Tokenize Punctuation\n",
    "We'll be splitting the script into a word array using spaces as delimiters.  However, punctuations like periods and exclamation marks make it hard for the neural network to distinguish between the word \"bye\" and \"bye!\".\n",
    "\n",
    "Implement the function `token_lookup` to return a dict that will be used to tokenize symbols like \"!\" into \"||Exclamation_Mark||\".  Create a dictionary for the following symbols where the symbol is the key and value is the token:\n",
    "- Period ( . )\n",
    "- Comma ( , )\n",
    "- Quotation Mark ( \" )\n",
    "- Semicolon ( ; )\n",
    "- Exclamation mark ( ! )\n",
    "- Question mark ( ? )\n",
    "- Left Parentheses ( ( )\n",
    "- Right Parentheses ( ) )\n",
    "- Dash ( -- )\n",
    "- Return ( \\n )\n",
    "\n",
    "This dictionary will be used to token the symbols and add the delimiter (space) around it.  This separates the symbols as it's own word, making it easier for the neural network to predict on the next word. Make sure you don't use a token that could be confused as a word. Instead of using the token \"dash\", try using something like \"||dash||\"."
   ]
  },
  {
   "cell_type": "code",
   "execution_count": 11,
   "metadata": {},
   "outputs": [
    {
     "name": "stdout",
     "output_type": "stream",
     "text": [
      "Tests Passed\n"
     ]
    }
   ],
   "source": [
    "def token_lookup():\n",
    "    \"\"\"\n",
    "    Generate a dict to turn punctuation into a token.\n",
    "    :return: Tokenize dictionary where the key is the punctuation and the value is the token\n",
    "    \"\"\"\n",
    "    # TODO: Implement Function\n",
    "    token_dict = {'.': '||PERIOD||',\n",
    "              ',': '||COMMA||',\n",
    "              '\"': '||QUOTATION_MARK||',\n",
    "              ';': '||SEMICOLON||',\n",
    "              '!': '||EXCLAMATION_MARK||',\n",
    "              '?': '||QUESTION_MARK||',\n",
    "              '(': '||LEFT_PAREN||',\n",
    "              ')': '||RIGHT_PAREN||',\n",
    "              '--': '||DASH||',\n",
    "              '\\n': '||RETURN||'\n",
    "              }\n",
    "    return token_dict\n",
    "\n",
    "\"\"\"\n",
    "DON'T MODIFY ANYTHING IN THIS CELL THAT IS BELOW THIS LINE\n",
    "\"\"\"\n",
    "tests.test_tokenize(token_lookup)"
   ]
  },
  {
   "cell_type": "markdown",
   "metadata": {},
   "source": [
    "## Preprocess all the data and save it\n",
    "Running the code cell below will preprocess all the data and save it to file."
   ]
  },
  {
   "cell_type": "code",
   "execution_count": 12,
   "metadata": {},
   "outputs": [
    {
     "name": "stdout",
     "output_type": "stream",
     "text": [
      "Counter({'||period||': 6024, '||return||': 4518, '||comma||': 3574, '||left_paren||': 1550, '||right_paren||': 1549, 'the': 1302, 'i': 1275, 'you': 1251, '||exclamation_mark||': 1242, 'moe_szyslak:': 1180, '||question_mark||': 1100, 'a': 1059, 'homer_simpson:': 975, 'to': 938, 'and': 631, 'of': 488, 'my': 474, 'it': 465, 'that': 441, 'in': 432, '||quotation_mark||': 418, 'me': 412, 'is': 376, 'this': 373, \"i'm\": 334, 'for': 327, 'your': 324, 'homer': 307, 'on': 289, 'hey': 289, 'moe': 273, 'oh': 272, 'no': 261, 'lenny_leonard:': 247, 'what': 246, 'with': 235, 'yeah': 233, 'all': 231, 'just': 218, 'like': 214, 'but': 213, 'barney_gumble:': 207, 'so': 205, 'be': 204, 'here': 196, 'carl_carlson:': 194, \"don't\": 193, 'have': 192, 'up': 188, \"it's\": 188, 'well': 186, 'out': 185, 'do': 180, 'was': 179, 'got': 176, 'are': 175, 'get': 175, 'we': 172, 'uh': 168, \"that's\": 168, 'one': 164, \"you're\": 158, 'not': 156, 'now': 156, 'can': 155, 'know': 155, '||dash||': 151, 'at': 145, 'right': 144, '/': 135, 'how': 132, 'if': 125, 'back': 119, 'marge_simpson:': 117, 'about': 115, 'from': 112, 'he': 112, 'go': 110, 'gonna': 107, 'they': 105, 'there': 105, 'beer': 100, 'good': 98, 'who': 97, 'an': 94, 'man': 93, 'okay': 91, 'his': 90, 'little': 90, 'as': 89, 'some': 88, 'then': 87, \"can't\": 87, 'never': 85, \"i'll\": 84, 'come': 84, 'think': 84, 'could': 83, 'him': 81, \"i've\": 81, 'see': 80, 'want': 80, 'really': 80, 'look': 80, 'too': 79, 'guys': 78, 'been': 78, 'make': 77, 'when': 77, 'why': 76, 'ya': 75, 'bar': 75, 'her': 74, 'did': 73, 'say': 72, 'time': 72, 'or': 71, 'marge': 71, 'gotta': 71, 'ah': 71, 'take': 70, 'love': 68, 'down': 68, 'into': 68, 'more': 67, 'our': 65, 'am': 64, 'off': 64, 'guy': 63, 'sure': 62, 'barney': 60, 'two': 60, \"there's\": 59, 'thing': 58, 'lisa_simpson:': 57, 'would': 57, \"we're\": 56, 'tell': 55, 'let': 55, 'need': 55, \"he's\": 55, 'where': 55, 'had': 55, 'big': 55, 'money': 54, 'us': 53, 'over': 53, 'bart_simpson:': 53, 'sorry': 53, 'something': 53, \"what's\": 53, 'drink': 53, 'only': 51, 'by': 51, 'ever': 51, 'way': 50, 'day': 50, 'will': 50, 'wait': 49, 'she': 48, 'chief_wiggum:': 48, 'give': 47, 'even': 47, 'huh': 46, \"i'd\": 46, 'new': 46, 'god': 46, \"ain't\": 45, 'those': 45, \"didn't\": 45, 'people': 44, 'great': 44, 'phone': 42, 'much': 42, 'eh': 42, \"moe's\": 42, 'has': 42, 'lenny': 42, 'maybe': 42, 'were': 42, 'life': 42, 'than': 41, 'going': 41, 'mean': 41, 'place': 40, \"you've\": 39, 'should': 39, 'mr': 39, 'around': 39, 'these': 39, 'better': 39, 'still': 39, 'wanna': 39, 'friend': 38, 'home': 38, \"'em\": 38, 'old': 38, 'help': 38, 'please': 37, 'before': 37, 'name': 37, 'noise': 37, 'night': 37, 'last': 36, 'whoa': 36, 'tv': 36, 'aw': 36, 'seymour_skinner:': 36, 'made': 35, 'face': 35, 'boy': 35, 'any': 35, 'call': 34, 'drunk': 34, \"'cause\": 34, 'put': 34, 'duff': 34, 'hello': 34, 'thanks': 34, 'three': 34, 'looking': 33, 'bad': 33, 'car': 33, 'their': 33, 'again': 33, 'listen': 33, \"let's\": 32, 'very': 32, 'best': 32, 'first': 32, 'does': 31, 'yes': 31, 'wow': 31, 'them': 30, 'another': 30, 'while': 30, 'looks': 30, 'ooh': 30, 'every': 30, 'kent_brockman:': 30, 'said': 30, 'other': 29, 'wife': 29, 'work': 29, 'apu_nahasapeemapetilon:': 29, 'guess': 29, 'feel': 28, 'sweet': 28, 'dad': 28, \"won't\": 28, 'years': 28, 'springfield': 28, 'play': 28, 'tonight': 28, 'singing': 28, 'everybody': 27, 'find': 27, 'after': 27, 'voice': 27, \"they're\": 27, 'dr': 27, 'sobs': 27, 'thought': 27, 'kids': 26, 'things': 26, 'buy': 26, 'might': 26, 'girl': 25, 'happy': 25, 'since': 25, 'shut': 25, 'check': 25, 'beat': 25, 'keep': 25, 'nice': 25, 'head': 25, 'minute': 25, 'world': 25, 'because': 25, 'show': 25, \"who's\": 24, 'lisa': 24, 'bart': 24, 'chuckle': 24, 'use': 24, 'sighs': 24, 'friends': 24, 'always': 24, 'sings': 24, 'carl': 23, 'which': 23, 'ow': 23, 'someone': 23, 'kid': 23, \"you'll\": 23, 'krusty_the_clown:': 23, 'c': 23, 'stupid': 23, \"isn't\": 23, 'anything': 22, 'hundred': 22, 'remember': 22, 'laugh': 22, 'seen': 22, \"here's\": 22, 'lot': 22, 'talk': 22, 'simpson': 21, 'job': 21, 'glass': 21, 'laughs': 21, 'hell': 21, 'thank': 21, 'chuckles': 21, 'through': 21, 'next': 21, 'away': 20, 'happened': 20, 'matter': 20, 'five': 20, 'hope': 20, 'believe': 20, 'outta': 20, 'kind': 20, 'lost': 20, 'pretty': 20, 'says': 20, 'woman': 20, 'house': 20, 'long': 20, 'hear': 20, \"nothin'\": 20, 'turn': 19, 'tavern': 19, 'once': 19, \"homer's\": 19, 'stop': 19, 'wish': 19, 'fat': 19, 'comes': 19, 'book': 19, '_montgomery_burns:': 19, 'waylon_smithers:': 19, 'real': 19, 'family': 19, 'nervous': 19, 'ned_flanders:': 19, \"c'mon\": 19, 'four': 19, 'wants': 18, 'wrong': 18, \"goin'\": 18, 'grampa_simpson:': 18, \"doin'\": 18, 'game': 18, 'ask': 18, 'idea': 18, 'business': 18, 'myself': 18, 'actually': 18, 'party': 17, 'loud': 17, 'town': 17, 'must': 17, \"wouldn't\": 17, 'many': 17, 'enough': 17, 'today': 17, 'getting': 17, 'everything': 17, 'nobody': 17, 'done': 17, \"she's\": 17, \"comin'\": 17, 'problem': 17, 'used': 17, 'duffman:': 17, 'burns': 17, \"we've\": 17, 'free': 16, 'na': 16, 'nah': 16, 'took': 16, 'woo': 16, 'watch': 16, 'hold': 16, 'gee': 16, 'um': 16, 'bucks': 16, 'sounds': 16, 'sound': 16, 'dollars': 16, 'thinking': 16, 'doing': 16, 'maggie': 16, 'reading': 16, 'try': 16, 'true': 16, 'baby': 15, 'secret': 15, 'gimme': 15, 'kill': 15, 'excuse': 15, 'stuff': 15, 'makes': 15, 'pants': 15, 'being': 15, 'chief': 15, 'wanted': 15, 'everyone': 15, 'edna': 15, 'most': 15, 'canyonero': 15, 'yourself': 15, 'leave': 15, 'under': 15, 'pay': 15, 'sell': 15, \"where's\": 15, 'beautiful': 15, 'kemi:': 15, 'daughter': 15, 'care': 15, 'dead': 14, 'knew': 14, 'dinner': 14, 'went': 14, 'smithers': 14, 'points': 14, 'sad': 14, 'pick': 14, 'mouth': 14, 'tipsy': 14, 'save': 14, 'own': 14, 'tough': 14, 'pal': 14, 'left': 14, \"you'd\": 14, 'worry': 14, 'hurt': 14, 'quickly': 14, 'eyes': 13, 'booze': 13, 'ladies': 13, 'feeling': 13, 'funny': 13, 'sign': 13, 'came': 13, 'excited': 13, 'school': 13, 'gave': 13, 'break': 13, 'drinking': 13, 'fine': 13, 'heard': 13, 'gets': 13, 'till': 13, 'hi': 13, 'die': 13, 'quit': 13, 'dog': 13, 'tomorrow': 13, 'hoo': 13, 'camera': 13, 'skinner': 13, 'told': 13, 'win': 13, 'saw': 13, 'hate': 13, 'small': 12, 'clean': 12, 'forget': 12, 'noises': 12, 'eat': 12, 'million': 12, 'sir': 12, 'loser': 12, 'mad': 12, 'nuts': 12, 'easy': 12, 'jacques:': 12, \"aren't\": 12, \"couldn't\": 12, 'super': 12, 'fire': 12, 'burn': 12, 'alcohol': 12, 'fight': 12, 'gasp': 12, 'barflies:': 12, 'twenty': 12, 'loves': 12, 'drive': 12, 'date': 12, 'hands': 12, 'mom': 12, 'seven': 12, 'kinda': 12, 'anyone': 12, 'hand': 12, 'calling': 12, 'kirk_van_houten:': 12, 'surprised': 12, 'room': 12, 'gone': 12, 'read': 12, 'cash': 12, 'bring': 12, 'artie_ziff:': 12, 'without': 12, 'flaming': 12, 'krusty': 12, 'high': 11, 'anyway': 11, 'geez': 11, 'meet': 11, \"haven't\": 11, 'professor_jonathan_frink:': 11, 'seymour': 11, 'cut': 11, 'trouble': 11, 'chance': 11, 'door': 11, 'dear': 11, 'each': 11, 'bartender': 11, \"somethin'\": 11, \"talkin'\": 11, \"drinkin'\": 11, 'problems': 11, \"doesn't\": 11, \"y'know\": 11, 'called': 11, \"lookin'\": 11, 'upset': 11, 'already': 11, \"wasn't\": 11, 'tape': 11, 'course': 11, 'happen': 11, 'turns': 11, 'gentlemen': 11, 'behind': 11, 'sadly': 11, 'coming': 11, \"we'll\": 11, 'low': 11, 'six': 11, 'heart': 10, 'song': 10, 'worried': 10, ':': 10, 'learn': 10, 'realizing': 10, 'disgusted': 10, 'talking': 10, 'the_rich_texan:': 10, 'larry:': 10, 'blame': 10, 'straight': 10, 'watching': 10, 'stay': 10, 'whole': 10, 'change': 10, 'bottle': 10, \"gettin'\": 10, 'end': 10, 'bar_rag:': 10, 'crazy': 10, 'whatever': 10, 'stand': 10, 'moan': 10, 'wiggum': 10, 'war': 10, 'ugly': 10, 'sigh': 10, 'snake_jailbird:': 10, 'worse': 10, 'sing': 10, 'lady': 10, 'eye': 10, 'mmmm': 10, 'trying': 10, 'works': 10, 'hours': 10, 'close': 10, 'throat': 10, \"it'll\": 10, 'steal': 10, 'm': 10, 'self': 10, 'live': 10, 'machine': 10, 'least': 10, 'quiet': 10, 'dump': 10, 'spend': 10, 'keys': 10, 'start': 10, 'outside': 10, 'fun': 10, 'hot': 10, 'uh-oh': 10, 'probably': 9, 'front': 9, 'blue': 9, 'light': 9, 'playing': 9, 'mother': 9, 'annoyed': 9, 'turned': 9, 'alive': 9, 'times': 9, 'girls': 9, 'apu': 9, 'bowl': 9, 'shocked': 9, 'crowd:': 9, 'late': 9, 'either': 9, 'tsk': 9, 'perfect': 9, 'poor': 9, 'delete': 9, 'barflies': 9, 'person': 9, 'air': 9, 'thousand': 9, 'police': 9, 'ten': 9, 'heh': 9, 'private': 9, 'greatest': 9, 'year': 9, 'stick': 9, 'morning': 9, \"shouldn't\": 9, 'whip': 9, \"'bout\": 9, 'pull': 9, 'learned': 9, 'may': 9, 'lousy': 9, 'goodbye': 9, 'young': 9, 'marriage': 9, 'gasps': 9, 'second': 9, 'thinks': 9, 'drinks': 9, 'such': 9, 'else': 9, 'married': 9, 'soon': 9, 'butt': 9, 'bit': 9, 'less': 9, 'far': 9, 'point': 9, 'anymore': 9, 'special': 9, 'ma': 9, 'joe': 9, 'uh-huh': 8, 'king': 8, 'beers': 8, 'anybody': 8, 'goodnight': 8, 'serious': 8, 'christmas': 8, 'minutes': 8, 'kick': 8, 'duffman': 8, 'president': 8, 'found': 8, 'both': 8, 'later': 8, 'boxing': 8, 'miss': 8, 'smell': 8, 'arm': 8, 'eight': 8, 'shotgun': 8, 'goes': 8, 'lemme': 8, 'turning': 8, \"how'd\": 8, 'patty_bouvier:': 8, 'walk': 8, 'instead': 8, 'throw': 8, 'taking': 8, 'open': 8, 'american': 8, 'ticket': 8, 'agnes_skinner:': 8, 'blood': 8, 'picture': 8, 'lucky': 8, 'tab': 8, 'ass': 8, 'barn': 8, 'box': 8, 'angry': 8, 'nods': 8, 'store': 8, 'shot': 8, 'youse': 8, 'couple': 8, 'join': 8, 'fifty': 8, 'knows': 8, 'nothing': 8, 'buddy': 8, 'rev': 8, 'exactly': 8, 'yet': 8, 'boys': 8, 'jacques': 8, 'mind': 8, 'cool': 8, 'mayor_joe_quimby:': 8, 'alone': 8, 'letter': 8, 'feet': 8, 'pig': 8, 'moron': 8, 'card': 8, 'news': 7, 'glad': 7, 'kiss': 7, 'selma_bouvier:': 7, 'return': 7, 'etc': 7, 'hide': 7, 'finally': 7, 'warm_female_voice:': 7, 'advice': 7, 'ned': 7, 'warmly': 7, 'using': 7, 'o': 7, 'proudly': 7, 'dance': 7, 'friendly': 7, 'move': 7, 'accident': 7, 'table': 7, 'grampa': 7, '||semicolon||': 7, 's': 7, 'screw': 7, 'saying': 7, 'cold': 7, 'though': 7, 'la': 7, 'days': 7, 'japanese': 7, 'run': 7, 'city': 7, 'walking': 7, 'story': 7, 'afraid': 7, 'son': 7, 'mrs': 7, 'eggs': 7, 'homie': 7, 'somebody': 7, 'number': 7, 'ball': 7, 'butts': 7, 'dry': 7, 'full': 7, 'sitting': 7, 'horrible': 7, 'telling': 7, 'glove': 7, 'send': 7, 'deal': 7, \"he'll\": 7, 'crap': 7, \"kiddin'\": 7, 'smile': 7, 'forever': 7, 'collette:': 7, 'inside': 7, 'wire': 7, 'words': 7, 'damn': 7, 'broke': 7, 'amazed': 7, 'together': 7, 'top': 7, 'pour': 7, 'intrigued': 7, 'nine': 7, 'ready': 7, 'round': 7, 'seems': 7, 'moans': 7, 'hmm': 7, \"ol'\": 7, 'paint': 7, 'renee:': 7, 'plant': 7, 'plus': 7, \"makin'\": 7, 'word': 7, 'means': 7, 'young_marge:': 7, 'english': 7, 'welcome': 7, 'happier': 7, 'making': 7, 'favorite': 7, 'street': 7, 'channel': 7, 'terrible': 7, 'hang': 7, 'alright': 7, 'himself': 7, 'ahh': 7, 'seat': 7, 'narrator:': 7, 'sotto': 7, 'lucius:': 7, 'rummy': 7, 'scared': 7, 'weird': 7, 'peanuts': 7, 'comic_book_guy:': 7, 'ha': 7, 'food': 7, 'losers': 7, 'huge': 7, 'fellas': 7, 'tap': 7, 'fast': 7, 'black': 7, 'human': 7, 'szyslak': 6, 'tony': 6, 'truth': 6, 'princess': 6, 'touched': 6, '_julius_hibbert:': 6, 'fat_tony:': 6, 'class': 6, 'half': 6, 'quick': 6, 'smells': 6, 'sex': 6, 'except': 6, 'treasure': 6, 'kent': 6, 'rat': 6, 'heaven': 6, 'ice': 6, 'romantic': 6, 'giving': 6, 'gumbel': 6, 'power': 6, 'dumb': 6, 'tune': 6, 'takes': 6, 'week': 6, 'invented': 6, 'manjula_nahasapeemapetilon:': 6, 'sick': 6, 'jukebox': 6, 'dunno': 6, 'holds': 6, 'fill': 6, 'admit': 6, 'honest': 6, 'omigod': 6, 'set': 6, \"we'd\": 6, 'along': 6, 'safe': 6, 'nigel_bakerbutcher:': 6, 'harv:': 6, 'normal': 6, 'health_inspector:': 6, 'uncle': 6, 'bag': 6, 'plan': 6, 'dangerous': 6, 'early': 6, 'charge': 6, 'slow': 6, 'became': 6, 'al': 6, 'bitter': 6, 'across': 6, 'same': 6, \"that'll\": 6, 'lying': 6, 'state': 6, 'hair': 6, 'pass': 6, 'principal': 6, 'milk': 6, 'brought': 6, 'laughing': 6, 'tip': 6, 'holding': 6, 'impressed': 6, 'hit': 6, 'group': 6, 'lives': 6, 'forgot': 6, 'shall': 6, 'young_homer:': 6, 'tinkle': 6, 'thirty': 6, 'sips': 6, 'bow': 6, 'lowers': 6, 'honey': 6, 'ones': 6, 'slap': 6, 'music': 6, \"sayin'\": 6, 'hank_williams_jr': 6, 'desperate': 6, 'worst': 6, 'strong': 6, 'star': 6, 'belch': 6, 'plastic': 6, 'fall': 6, 'joey': 6, 'company': 6, 'won': 6, 'health': 6, 'flanders': 6, 'seconds': 6, 'football_announcer:': 6, 'crack': 6, 'birthday': 6, 'stool': 6, 'water': 6, 'numbers': 6, 'eating': 6, 'maya:': 6, 'gold': 6, 'sent': 6, 'write': 6, 'gives': 6, 'bet': 6, 'mister': 6, 'lou:': 6, 'denver': 6, 'loved': 6, 'supposed': 6, 'baseball': 6, 'men': 6, 'walther_hotenhoffer:': 6, 'hard': 6, 'owe': 5, 'favor': 5, 'i-i': 5, 'troll': 5, \"how's\": 5, 'speaking': 5, 'short': 5, 'fellow': 5, 'piece': 5, 'dallas': 5, 'evening': 5, 'cow': 5, \"world's\": 5, 'clown': 5, \"tryin'\": 5, 'fish': 5, 'rope': 5, 'shirt': 5, 'pool': 5, \"callin'\": 5, 'lord': 5, 'yep': 5, 'grand': 5, 'speak': 5, 'unless': 5, 'exasperated': 5, \"one's\": 5, 'suit': 5, 'caught': 5, 'hated': 5, 'joint': 5, 'wonder': 5, 'center': 5, 'boring': 5, 'soul': 5, 'changing': 5, 'african': 5, 'hospital': 5, 'pop': 5, 'park': 5, 'act': 5, 'thumb': 5, 'rest': 5, 'mouse': 5, 'duh': 5, 'also': 5, 'nuclear': 5, 'deer': 5, 'government': 5, 'artie': 5, \"i'm-so-stupid\": 5, 'side': 5, 'wha': 5, 'suddenly': 5, 'wall': 5, \"smokin'_joe_frazier:\": 5, 'empty': 5, 'selma': 5, 'totally': 5, 'nineteen': 5, 'quietly': 5, 'fingers': 5, 'little_man:': 5, \"lisa's\": 5, 'mike': 5, 'having': 5, 'horrified': 5, 'games': 5, 'swear': 5, 'survive': 5, 'edna_krabappel-flanders:': 5, 'speech': 5, 'coaster': 5, 'filthy': 5, 'dank': 5, 'french': 5, 'asked': 5, 'chug': 5, 'invited': 5, 'movie': 5, 'jeez': 5, 'sober': 5, 'customers': 5, 'part': 5, 'lose': 5, 'jack': 5, 'women': 5, 'stunned': 5, \"workin'\": 5, 'handsome': 5, 'pity': 5, 'all:': 5, 'proud': 5, 'chanting': 5, 'dying': 5, 'clear': 5, 'wallet': 5, 'america': 5, 'names': 5, 'wine': 5, 'sob': 5, \"tellin'\": 5, 'ashamed': 5, 'nein': 5, 'confused': 5, 'tv_wife:': 5, 'dame': 5, 'disappointed': 5, 'jerks': 5, '_zander:': 5, \"drivin'\": 5, 'sharps': 5, 'wheel': 5, 'ad': 5, 'isotopes': 5, 'bed': 5, 'bank': 5, 'dude': 5, 'shaking': 5, 'catch': 5, 'bee': 5, 'longer': 5, 'mine': 5, 'offended': 5, 'detective_homer_simpson:': 5, 'pipe': 5, 'cheer': 5, 'hopeful': 5, 'running': 5, 'mayor': 5, 'tired': 5, 'hanging': 5, 'testing': 5, 'wonderful': 5, 'wrote': 5, 'glen:': 5, 'treat': 5, 'counting': 5, 'named': 5, 'absolutely': 5, \"he'd\": 5, 'gay': 5, 'daddy': 5, 'represent': 5, 'third': 5, \"sittin'\": 5, 'glasses': 5, 'stories': 5, 'man:': 5, 'biggest': 5, 'service': 5, 'lessons': 5, 'adult_bart:': 5, 'brilliant': 5, 'driving': 5, 'beloved': 5, 'calm': 5, 'luck': 5, 'lloyd:': 5, 'strap': 5, 'tree': 5, 'during': 5, 'drederick': 5, 'sauce': 5, 'tv_husband:': 5, 'college': 5, 'cop': 5, 'red': 5, 'given': 5, 'billy_the_kid:': 5, 'children': 5, 'until': 5, 'beach': 5, 'sunday': 5, 'against': 5, 'ago': 5, 'cost': 5, 'clears': 5, 'punch': 5, 'window': 5, 'accent': 5, 'cutting': 5, 'closed': 5, 'club': 5, 'bender:': 5, 'writing': 5, 'doubt': 5, 'yea': 5, \"guy's\": 5, 'saved': 5, 'local': 5, 'announcer:': 5, 'surgery': 5, 'few': 5, 'x': 5, '_hooper:': 5, 'cleaned': 5, 'puzzled': 5, 'truck': 5, 'brockman': 5, 'felt': 5, 'none': 5, 'designated': 5, 'needs': 5, 'broad': 5, 'tongue': 5, 'p': 5, 'jar': 5, 'suicide': 5, 'nose': 4, 'huggenkiss': 4, 'enjoy': 4, 'seem': 4, 'legs': 4, 'pitcher': 4, 'amanda': 4, 'flips': 4, 'dang': 4, 'yesterday': 4, 'body': 4, 'feels': 4, 'meeting': 4, 'agent': 4, 'sold': 4, 'movies': 4, 'folks': 4, 'case': 4, 'bye': 4, 'band': 4, 'fix': 4, 'quite': 4, 'sincere': 4, 'fifteen': 4, 'starts': 4, 'chocolate': 4, 'threw': 4, 'flower': 4, 'gotten': 4, 'liver': 4, 'sexy': 4, 'snake': 4, 'trip': 4, 'working': 4, 'bars': 4, 'loaded': 4, 'u': 4, 'woman:': 4, \"carl's\": 4, 'renee': 4, 'garbage': 4, 'minimum': 4, 'choice': 4, 'thoughtful': 4, 'question': 4, 'embarrassed': 4, 'fbi': 4, 'drivers': 4, 'cares': 4, 'sister': 4, 'boat': 4, 'dramatic': 4, 'france': 4, 'father': 4, 'pickled': 4, 'smiling': 4, 'whee': 4, 'chick': 4, 'address': 4, 'eddie:': 4, 'career': 4, 'hm': 4, 'computer': 4, 'couch': 4, 'buttons': 4, 'restaurant': 4, 'usually': 4, 'domestic': 4, 'egg': 4, 'bald': 4, 'therapy': 4, 'frustrated': 4, 'castle': 4, 'line': 4, 'wear': 4, 'husband': 4, 'ivana': 4, 'cries': 4, 'procedure': 4, 'burt': 4, 'busy': 4, 'burp': 4, 'meaningful': 4, 'senators': 4, 'stillwater:': 4, 'tail': 4, 'scream': 4, 'train': 4, 'hero': 4, 'test': 4, 'grim': 4, 'betty:': 4, 'dennis_conroy:': 4, 'moment': 4, 'ken:': 4, 'senator': 4, 'sit': 4, 'pulled': 4, 'new_health_inspector:': 4, 'jerk': 4, 'amazing': 4, 'hurry': 4, \"who'll\": 4, 'follow': 4, 'dan_gillick:': 4, 'guns': 4, 'yellow': 4, 'mug': 4, 'foibles': 4, 'able': 4, 'buffalo': 4, 'twins': 4, 'milhouse_van_houten:': 4, 'secrets': 4, 'deep': 4, 'correct': 4, 'precious': 4, 'months': 4, 'died': 4, 'pulls': 4, 'hits': 4, 'flowers': 4, 'forty': 4, 'keeps': 4, 'vance': 4, 'rob': 4, 'books': 4, 'heavyweight': 4, 'sees': 4, 'lotta': 4, 'hoping': 4, \"watchin'\": 4, 'beauty': 4, 'yard': 4, 'knock': 4, 'shows': 4, 'declan_desmond:': 4, 'clearly': 4, 'whiny': 4, 'kidding': 4, \"o'problem\": 4, 'billboard': 4, 'sobbing': 4, 'pleased': 4, 'whisper': 4, 'championship': 4, 'pain': 4, 'tom': 4, \"everyone's\": 4, \"moe's_thoughts:\": 4, 'bees': 4, 'situation': 4, 'belches': 4, \"what'll\": 4, \"valentine's\": 4, 'selling': 4, 'fan': 4, 'professional': 4, 'gas': 4, 'gin': 4, 'rather': 4, 'sly': 4, 'cover': 4, 'closing': 4, 'needed': 4, 'video': 4, 'pickle': 4, 'arrest': 4, 'amid': 4, 'finding': 4, 'sarcastic': 4, 'illegal': 4, 'ride': 4, 'clothes': 4, 'hans:': 4, 'sits': 4, 'eleven': 4, 'spot': 4, 'sports': 4, 'raises': 4, 'different': 4, 'pointed': 4, 'road': 4, 'monster': 4, \"bein'\": 4, 'whaddaya': 4, 'wally:': 4, 'weekly': 4, 'original': 4, 'blow': 4, \"today's\": 4, 'magic': 4, \"livin'\": 4, 'island': 4, 'girlfriend': 4, 'ruined': 4, \"dad's\": 4, 'distraught': 4, 'ahead': 4, 'coat': 4, 'plow': 4, 'cable': 4, 'started': 4, \"buyin'\": 4, \"o'clock\": 4, 'pipes': 4, 'ourselves': 4, 'arms': 4, 'burps': 4, 'furious': 4, 'finger': 4, 'neck': 4, 'rotch': 4, 'twelve': 4, 'fridge': 4, 'answer': 4, 'teach': 4, 'ooo': 4, 're:': 4, 'sheepish': 4, 'stock': 4, 'stirring': 4, 'field': 4, 'brain': 4, 'calls': 4, 'teenage_barney:': 4, 'respect': 4, 'babies': 4, 'teenage_bart:': 4, 'ingredient': 4, 'david_byrne:': 4, \"they've\": 4, 'smooth': 4, 'rag': 4, 'match': 4, 'drug': 4, 'ominous': 4, 'understand': 4, 'bottom': 4, 'breath': 4, 'pit': 4, 'lie': 4, 'partner': 4, 'offer': 4, 'lips': 4, 'pub': 4, 'forget-me-shot': 4, 'upbeat': 4, 'opportunity': 4, 'awkward': 4, 'almost': 4, 'character': 4, 'polite': 4, 'yap': 4, 'explaining': 4, 'market': 4, 'bill': 4, 'hugh:': 4, 'radishes': 4, 'sense': 4, 'south': 4, 'especially': 4, 'stagy': 4, 'rich': 4, 'hungry': 4, 'dollar': 4, 'adeleine': 4, 'figured': 4, 'tatum': 4, 'pays': 3, 'middle': 3, 'prime': 3, 'sometime': 3, 'burning': 3, 'belly': 3, 'imagine': 3, 'letters': 3, 'sisters': 3, 'grabs': 3, 'screams': 3, 'tips': 3, 'form': 3, 'checks': 3, 'l': 3, 'fumes': 3, 'enemy': 3, 'shape': 3, 'mock': 3, 'nards': 3, 'comfortable': 3, 'cute': 3, 'ancient': 3, 'gary:': 3, 'share': 3, 'stopped': 3, 'worked': 3, 'pathetic': 3, 'terrified': 3, 'miserable': 3, 'scum': 3, 'innocent': 3, 'uneasy': 3, 'shares': 3, 'whatcha': 3, 'edison': 3, 'spoken': 3, 'bite': 3, 'spanish': 3, 'anguished': 3, 'death': 3, 'opening': 3, 'darts': 3, 'jamaican': 3, 'program': 3, 'bowling': 3, \"they'll\": 3, 'stadium': 3, 'loan': 3, 'hiya': 3, 'entire': 3, 'embarrassing': 3, 'chest': 3, 'bunch': 3, 'idiot': 3, 'ridiculous': 3, 'junior': 3, 'searching': 3, 'pockets': 3, 'feelings': 3, 'coffee': 3, 'brother': 3, 'bright': 3, 'jump': 3, 'harv': 3, 'mel': 3, 'crime': 3, 'ziffcorp': 3, \"lenny's\": 3, 'modern': 3, 'cigarette': 3, 'order': 3, 'frankly': 3, 'aww': 3, 'shoot': 3, 'likes': 3, 'weak': 3, \"havin'\": 3, 'awful': 3, 'drop': 3, 'evil': 3, \"'til\": 3, 'dive': 3, \"where'd\": 3, 'peach': 3, 'team': 3, 'ohmygod': 3, 'turkey': 3, 'become': 3, 'drunks': 3, 'knowing': 3, 'concerned': 3, 'rub': 3, 'fourth': 3, 'uncomfortable': 3, 'snort': 3, 'following': 3, 'reminds': 3, 'parking': 3, 'finished': 3, 'pocket': 3, 'staying': 3, 'ran': 3, 'future': 3, 'recommend': 3, 'size': 3, 'double': 3, 'fans': 3, 'register': 3, 'hurts': 3, 'somewhere': 3, 'toss': 3, 'dressed': 3, 'mechanical': 3, 'grunt': 3, \"could've\": 3, 'powerful': 3, \"kids'\": 3, 'pained': 3, 'struggling': 3, 'then:': 3, 'toward': 3, \"i-i'm\": 3, 'international': 3, 'hole': 3, 'sniffles': 3, \"they'd\": 3, 'ã€': 3, 'step': 3, 'wearing': 3, 'its': 3, 'yo': 3, 'aside': 3, 'endorse': 3, 'feed': 3, 'boo': 3, 'stayed': 3, 'image': 3, 'teenage': 3, 'der': 3, 'twenty-five': 3, 'compliment': 3, 'delicious': 3, 'clientele': 3, 'lottery': 3, 'jack_larson:': 3, 'born': 3, '_babcock:': 3, 'inspector': 3, 'tried': 3, 'stole': 3, 'afford': 3, 'enemies': 3, 'exhaust': 3, 'panicky': 3, 'fault': 3, 'mudflap': 3, 'bless': 3, 'fly': 3, 'chinese': 3, 'gag': 3, \"c'mere\": 3, 'meant': 3, 'pointing': 3, 'gently': 3, 'nation': 3, 'british': 3, 'saturday': 3, 'fancy': 3, 'spending': 3, 'brains': 3, 'celebrities': 3, 'midge': 3, 'past': 3, 'tastes': 3, 'army': 3, 'r': 3, 'met': 3, 'bus': 3, 'happily': 3, 'mistake': 3, 'keeping': 3, 'twenty-two': 3, 'diet': 3, 'trust': 3, 'accept': 3, 'thoughts': 3, 'subject': 3, 'knocked': 3, 'corner': 3, 'higher': 3, 'scene': 3, 'wipe': 3, 'kang:': 3, 'cents': 3, 'fair': 3, 'traffic': 3, 'religion': 3, 'paris': 3, 'buying': 3, 'milhouse': 3, 'roll': 3, 'salad': 3, 'fact': 3, 'crowd': 3, 'challenge': 3, 'inspection': 3, 'wide': 3, 'rid': 3, 'tears': 3, 'lindsay_naegle:': 3, 'perhaps': 3, 'sweetly': 3, 'fritz:': 3, 'cannot': 3, \"gentleman's\": 3, 'prank': 3, 'workers': 3, \"wife's\": 3, 'lonely': 3, 'glum': 3, 'checking': 3, 'whose': 3, 'popular': 3, 'heads': 3, 'hilarious': 3, 'moved': 3, 'push': 3, 'toys': 3, 'campaign': 3, 'operation': 3, 'seeing': 3, 'cheap': 3, 'unlucky': 3, 'grunts': 3, 'hour': 3, 'midnight': 3, 'har': 3, 'sixty-nine': 3, 'dirt': 3, 'text': 3, 'pause': 3, 'tv_father:': 3, 'directions': 3, 'crank': 3, 'list': 3, 'reason': 3, 'hall': 3, 'sadder': 3, 'expect': 3, 'stools': 3, 'upon': 3, 'wooooo': 3, 'sec_agent_#1:': 3, \"men's\": 3, 'flatly': 3, 'pats': 3, 'elder': 3, 'careful': 3, 'dancing': 3, 'al_gore:': 3, 'unlike': 3, 'wasting': 3, 'extra': 3, 'holiday': 3, 'ring': 3, 'showing': 3, 'lots': 3, \"robbin'\": 3, 'grabbing': 3, 'toasting': 3, 'beginning': 3, 'doors': 3, 'church': 3, 'indignant': 3, 'bob': 3, 'kermit': 3, 'slip': 3, 'nobel': 3, 'sexual': 3, 'source': 3, 'rough': 3, 'hmmm': 3, 'button': 3, 'theater': 3, 'tradition': 3, 'cheers': 3, 'vegas': 3, 'palmerston': 3, 'k': 3, 'fever': 3, 'coney': 3, 'hunter': 3, 'fork': 3, 'defensive': 3, 'bar-boy': 3, 'system': 3, 'starting': 3, 'clone': 3, 'raising': 3, 'root': 3, 'jolly': 3, 'age': 3, 'german': 3, 'f': 3, 'dynamite': 3, 'gary_chalmers:': 3, 'alley': 3, 'guest': 3, 'cough': 3, 'attention': 3, 'taken': 3, 'looked': 3, 'teeth': 3, 'incredulous': 3, 'leg': 3, 'kissing': 3, 'rats': 3, 'covers': 3, 'fraud': 3, 'accurate': 3, 'suppose': 3, 'suck': 3, 'book_club_member:': 3, 'paying': 3, 'pissed': 3, 'played': 3, \"year's\": 3, 'afternoon': 3, 'odd': 3, 'cocktail': 3, 'cameras': 3, 'despite': 3, 'severe': 3, 'sucked': 3, 'cards': 3, 'gal': 3, 'sleep': 3, 'greystash': 3, 'jesus': 3, \"ridin'\": 3, 'child': 3, 'helicopter': 3, 'grow': 3, 'puff': 3, 'corpses': 3, 'natural': 3, 'shove': 3, 'crawl': 3, 'jail': 3, 'bret:': 3, 'changed': 3, 'snaps': 3, 'season': 3, 'casual': 3, 'public': 3, 'finest': 3, 'breaking': 3, 'scam': 3, 'peter': 3, 'consider': 3, \"barney's\": 3, 'wiener': 3, 'anniversary': 3, 'troy:': 3, 'walks': 3, 'sec': 3, 'glen': 3, 'ground': 3, 'label': 3, 'weeks': 3, '&': 3, 'texas': 3, 'who-o-oa': 3, 'general': 3, 'summer': 3, 'fool': 3, 'military': 3, 'hates': 3, 'kept': 3, 'switch': 3, 'floor': 3, 'losing': 3, 'lately': 3, 'exit': 3, 'peace': 3, 'coach:': 3, 'scotch': 3, 'toilet': 3, 'law': 3, 'serve': 3, \"seein'\": 3, 'tells': 3, 'talk-sings': 3, 'film': 3, 'marvin': 3, 'per': 3, 'frink': 3, 'spinning': 3, 'men:': 3, 'thankful': 3, 'understanding': 3, 'touchdown': 3, 'motel': 3, 'leans': 3, 'delighted': 3, 'reads': 3, 'woo-hoo': 3, 'threatening': 3, 'pfft': 3, 'singers:': 3, 'barney-shaped_form:': 3, 'bike': 3, 'spit': 3, 'backwards': 3, 'pageant': 3, 'invite': 3, 'oil': 3, \"stinkin'\": 3, 'mafia': 3, 'closer': 3, 'focus': 3, 'killed': 3, 'pardon': 3, 'above': 3, 'bitterly': 3, 'noticing': 3, 'literature': 3, 'election': 3, 'ho': 3, 'sniffs': 3, '_timothy_lovejoy:': 3, 'fireball': 3, \"bart's\": 3, 'ordered': 3, 'banks': 3, '_kissingher:': 3, 'license': 3, 'single': 3, 'driver': 3, 'yee-haw': 3, 'history': 3, 'sadistic_barfly:': 3, 'covering': 3, 'ruin': 3, 'hug': 3, 'relax': 3, 'puke': 3, 'andy': 3, 'foot': 3, 'wayne:': 3, 'gift': 3, 'unison': 3, 'bought': 3, 'kwik-e-mart': 3, 'crummy': 3, 'complete': 3, 'customer': 3, 'moments': 3, 'vomit': 3, 'james': 3, 'sea': 2, 'crying': 2, 'pulling': 2, 'nope': 2, 'calculate': 2, 'ball-sized': 2, 'bret': 2, 'detecting': 2, \"meanin'\": 2, \"tester's\": 2, 'sandwich': 2, 'helped': 2, 'draw': 2, \"maggie's\": 2, 'railroad': 2, 'lap': 2, 'tiny': 2, 'whistles': 2, 'sneaky': 2, 'paid': 2, 'smoke': 2, 'charity': 2, 'tenor:': 2, 'folk': 2, 'arab_man:': 2, 'klingon': 2, 'stationery': 2, 'hawking:': 2, 'charm': 2, 'underbridge': 2, 'baritone': 2, 'cream': 2, 'dropped': 2, 'memory': 2, 'code': 2, 'appointment': 2, 'pian-ee': 2, 'feast': 2, 'known': 2, '250': 2, 'prohibit': 2, 'friendship': 2, 'agree': 2, 'industry': 2, 'putting': 2, 'positive': 2, 'degradation': 2, 'buried': 2, '1895': 2, 'expression': 2, 'achem': 2, 'excitement': 2, \"crawlin'\": 2, 'morlocks': 2, 'academy': 2, 'difficult': 2, 'famous': 2, \"someone's\": 2, 'laws': 2, \"beer's\": 2, 'dating': 2, 'warn': 2, 'dearest': 2, 'wash': 2, 'witty': 2, 'bump': 2, 'mmm': 2, 'therapist': 2, 'granted': 2, 'answering': 2, 'informant': 2, 'scooter': 2, 'stinks': 2, 'lover': 2, 'crumble': 2, 'jets': 2, 'all-star': 2, 'reliable': 2, 'costume': 2, 'suds': 2, 'studio': 2, 'thru': 2, \"'topes\": 2, 'social': 2, 'conference': 2, 'cotton': 2, 'heading': 2, 'awww': 2, 'bird': 2, 'drank': 2, 'certain': 2, 'fixed': 2, 'spy': 2, 'fox': 2, 'cheese': 2, 'foil': 2, 'fragile': 2, 'cola': 2, 'irish': 2, 'products': 2, 'rolling': 2, 'managing': 2, 'record': 2, 'square': 2, 'reasonable': 2, 'mic': 2, 'poet': 2, 'obvious': 2, 'memories': 2, 'bubbles': 2, 'darkest': 2, 'riding': 2, 'freak': 2, 'badges': 2, \"game's\": 2, 'fresh': 2, 'aged_moe:': 2, 'excellent': 2, 'spent': 2, 'conditioner': 2, 'mop': 2, 'satisfaction': 2, 'hotline': 2, 'ginger': 2, 'bigger': 2, 'sec_agent_#2:': 2, 'voice:': 2, 'doll': 2, 'solid': 2, 'andalay': 2, 'professor': 2, 'snow': 2, 'fighting': 2, 'realize': 2, 'devastated': 2, 'tentative': 2, 'comedy': 2, 'tester': 2, 'wake': 2, 'finishing': 2, 'oof': 2, 'wrestling': 2, 'astronaut': 2, 'dough': 2, 'vacation': 2, 'fritz': 2, 'gosh': 2, 'jailbird': 2, 'contest': 2, 'plans': 2, 'lighting': 2, 'force': 2, 'reserve': 2, 'somehow': 2, 'sabermetrics': 2, 'refresh': 2, \"it'd\": 2, 'tang': 2, 'fuss': 2, 'steel': 2, 'disapproving': 2, 'reach': 2, 'satisfied': 2, 'torn': 2, 'internet': 2, 'twice': 2, 'wordloaf': 2, 'cutie': 2, 'coward': 2, 'grienke': 2, 'village': 2, 'media': 2, 'young_moe:': 2, 'vodka': 2, 'denser': 2, 'scary': 2, 'un-sults': 2, 'ahhh': 2, 'message': 2, 'moe-clone:': 2, 'civilization': 2, 'smart': 2, \"team's\": 2, 'troy': 2, 'drawing': 2, 'carve': 2, 'labels': 2, 'marguerite:': 2, 'clock': 2, 'awesome': 2, 'tries': 2, 'slice': 2, \"dyin'\": 2, 'broom': 2, 'boneheaded': 2, 'familiar': 2, 'thought_bubble_homer:': 2, 'grandiose': 2, 'simp-sonnnn': 2, 'scare': 2, '100': 2, 'flying': 2, 'wave': 2, 'continuing': 2, 'gals': 2, 'nigeria': 2, 'plywood': 2, 'charlie': 2, 'fold': 2, 'straining': 2, 'blood-thirsty': 2, 'advantage': 2, 'superior': 2, 'sale': 2, 'plum': 2, 'padre': 2, 'punk': 2, 'winnings': 2, \"springfield's\": 2, 'dials': 2, 'tommy': 2, 'genius': 2, 'billion': 2, 'fudd': 2, 'stands': 2, 'sissy': 2, 'weary': 2, 'wooden': 2, 'hangs': 2, 'mm': 2, 'refund': 2, 'mention': 2, 'fictional': 2, 'confidence': 2, 'row': 2, 'lise:': 2, 'atlanta': 2, 'businessman_#1:': 2, 'peppy': 2, 'relieved': 2, \"ladies'\": 2, 'aerosmith': 2, \"money's\": 2, 'boxer': 2, 'falcons': 2, 'lowering': 2, 'laney_fontaine:': 2, 'bride': 2, 'rumaki': 2, 'babe': 2, 'beating': 2, 'listening': 2, 'dismissive': 2, 'henry': 2, 'boyfriend': 2, 'price': 2, 'penny': 2, 'seek': 2, 'weirded-out': 2, 'emotional': 2, 'mona_simpson:': 2, 'regret': 2, 'judge': 2, 'sport': 2, 'changes': 2, 'appealing': 2, 'wondering': 2, 'guide': 2, 'bible': 2, 'gargoyle': 2, 'hunting': 2, 'bourbon': 2, 'frog': 2, 'jubilant': 2, 'extremely': 2, 'joining': 2, 'raise': 2, 'suspicious': 2, 'strategy': 2, 'mob': 2, 'white': 2, 'trolls': 2, 'wings': 2, 'liar': 2, 'level': 2, 'peanut': 2, 'routine': 2, 'completing': 2, 'bathroom': 2, 'firmly': 2, 'honor': 2, 'wa': 2, 'underpants': 2, 'yours': 2, 'admiring': 2, 'hop': 2, 'near': 2, \"'tis\": 2, 'gorgeous': 2, 'tick': 2, 'museum': 2, 'waylon': 2, 'planning': 2, 'creeps': 2, 'trick': 2, 'awe': 2, 'reaching': 2, 'website': 2, 'rainier_wolfcastle:': 2, 'greedy': 2, 'pin': 2, 'lenny:': 2, 'violin': 2, 'present': 2, 'carl:': 2, 'allowed': 2, 'cars': 2, 'voice_on_transmitter:': 2, 'cueball': 2, 'playful': 2, 'grave': 2, 'stuck': 2, 'hobo': 2, 'shock': 2, 'inspire': 2, 'rap': 2, 'salt': 2, 'doreen:': 2, 'inspired': 2, 'maman': 2, 'rhyme': 2, '6': 2, 'christopher': 2, 'realized': 2, \"weren't\": 2, 'crew': 2, \"what're\": 2, 'tale': 2, 'type': 2, 'helen': 2, 'sports_announcer:': 2, 'therefore': 2, 'smug': 2, 'forehead': 2, 'camp': 2, '7-year-old_brockman:': 2, \"ma'am\": 2, 'fausto': 2, 'greetings': 2, 'sympathetic': 2, 'bugging': 2, 'snake-handler': 2, 'pointless': 2, 'remembered': 2, 'page': 2, 'gator:': 2, 'slyly': 2, 'outlook': 2, 'linda': 2, 'wing': 2, 'belong': 2, 'joke': 2, 'ech': 2, 'anarchy': 2, 'rules': 2, 'churchill': 2, 'involving': 2, 'tabooger': 2, 'raccoons': 2, 'chase': 2, 'syrup': 2, 'defeated': 2, 'skeptical': 2, 'louie:': 2, 'jebediah': 2, 'vampires': 2, 'placing': 2, 'grade': 2, 'writers': 2, 'medicine': 2, 'gun': 2, 'european': 2, 'homers': 2, 'solo': 2, 'director': 2, 'pretending': 2, 'mess': 2, 'forbidden': 2, 'bubble': 2, 'held': 2, 'onions': 2, 'beneath': 2, 'superhero': 2, \"chewin'\": 2, 'snap': 2, 'fevered': 2, 'princesses': 2, 'considering': 2, 'celebrity': 2, 'awwww': 2, 'ways': 2, 'bush': 2, \"'im\": 2, 'mcstagger': 2, 'yell': 2, 'conversation': 2, 'inflated': 2, 'patterns': 2, 'brow': 2, 'beep': 2, 'spied': 2, 'sweeter': 2, 'mail': 2, 'animals': 2, 'cowboys': 2, 'dan': 2, \"hasn't\": 2, 'attack': 2, 'bartending': 2, 'doreen': 2, 'action': 2, 'thanksgiving': 2, 'eighty-seven': 2, \"shan't\": 2, 'painting': 2, 'commission': 2, 'value': 2, 'morose': 2, 'joking': 2, 'louder': 2, 'pride': 2, 'results': 2, 'eyeball': 2, 'airport': 2, 'attitude': 2, 'explain': 2, 'slight': 2, 'terrific': 2, 'nerve': 2, \"showin'\": 2, 'recall': 2, \"readin'\": 2, 'woman_bystander:': 2, 'sector': 2, 'alfred': 2, 'electronic': 2, 'cruel': 2, 'large': 2, 'intense': 2, 'koholic': 2, 'roomy': 2, 'loss': 2, \"countin'\": 2, 'corkscrew': 2, 'securities': 2, 'flag': 2, 'medical': 2, 'warily': 2, 'forward': 2, 'yup': 2, 'easier': 2, 'smugglers': 2, 'written': 2, 'suing': 2, 'miles': 2, 'themselves': 2, 'combine': 2, 'barf': 2, 'began': 2, \"wonderin'\": 2, 'candidate': 2, 'important': 2, 'mortgage': 2, 'compliments': 2, 'brothers': 2, 'passion': 2, 'begins': 2, 'barely': 2, 'trapped': 2, 'so-called': 2, 'courage': 2, 'cleaner': 2, 'ripcord': 2, 'effigy': 2, 'catching': 2, 'wins': 2, 'jockey': 2, 'plenty': 2, 'owner': 2, 'comic': 2, 'passed': 2, \"takin'\": 2, 'formico:': 2, 'reynolds': 2, 'trusted': 2, 'slightly': 2, 'deserve': 2, 'shaken': 2, 'male_inspector:': 2, 'blew': 2, 'manager': 2, 'bags': 2, 'palm': 2, 'wolfe': 2, 'jobs': 2, 'due': 2, 'prize': 2, 'bedbugs': 2, 'soup': 2, 'needy': 2, 'champ': 2, 'karaoke': 2, 'decide': 2, 'correcting': 2, 'poking': 2, 'justice': 2, 'conspiratorial': 2, 'kyoto': 2, 'aggravated': 2, 'surprise': 2, 'nigerian': 2, 'utility': 2, 'rolled': 2, 'angel': 2, 'love-matic': 2, 'yards': 2, 'sitar': 2, 'brewed': 2, 'cent': 2, 'nearly': 2, 'freeze': 2, 'zero': 2, 'gifts': 2, 'yourselves': 2, 'murmurs': 2, 'joey_kramer:': 2, 'wade_boggs:': 2, 'decency': 2, 'cake': 2, 'festival': 2, 'is:': 2, 'scrape': 2, 'prayer': 2, 'neil_gaiman:': 2, 'payments': 2, 'cigarettes': 2, 'restaurants': 2, 'isle': 2, 'ringing': 2, 'jeff': 2, 'yogurt': 2, 'someday': 2, 'hitler': 2, 'sometimes': 2, 'tanked-up': 2, 'corporation': 2, 'sugar': 2, 'highway': 2, 'candy': 2, 'beam': 2, 'insightful': 2, 'vulnerable': 2, 'sat': 2, 'decent': 2, 'umm': 2, 'freedom': 2, 'pleasure': 2, 'ah-ha': 2, 'express': 2, 'pirate': 2, 'wishes': 2, 'steak': 2, 'stir': 2, 'krabappel': 2, 'naked': 2, 'hollywood': 2, 'cookies': 2, 'bread': 2, 'bear': 2, 'reporter:': 2, 'africa': 2, 'patty': 2, 'deacon': 2, 'mount': 2, 'laramie': 2, 'bathing': 2, 'woozy': 2, 'skirt': 2, 'virtual': 2, 'lurleen_lumpkin:': 2, \"patrick's\": 2, 'although': 2, 'benefits': 2, 'befouled': 2, 'busted': 2, 'bastard': 2, 'sweetheart': 2, 'balls': 2, 'boxing_announcer:': 2, 'self-made': 2, 'entirely': 2, 'cops': 2, 'belt': 2, 'century': 2, 'pleading': 2, 'increasingly': 2, 'pope': 2, 'purse': 2, 'wayne': 2, 'patient': 2, 'w': 2, 'schnapps': 2, 'prefer': 2, 'hats': 2, 'measurements': 2, 'latin': 2, 'manjula': 2, 'bears': 2, 'wedding': 2, 'shoo': 2, 'smoothly': 2, 'thesaurus': 2, 'promised': 2, 'whether': 2, 'soap': 2, 'admiration': 2, 'scully': 2, 'eyesore': 2, 'heavyset': 2, 'puts': 2, 'chilly': 2, 'rounds': 2, 'punches': 2, 'sooner': 2, \"pope's\": 2, 'ambrosia': 2, \"marge's\": 2, 'dryer': 2, 'goods': 2, 'discuss': 2, \"monroe's\": 2, 'sodas': 2, 'sleeps': 2, 'elephants': 2, 'authorized': 2, \"payin'\": 2, 'pouring': 2, 'curds': 2, 'blues': 2, 'jumps': 2, 'meal': 2, 'complaint': 2, 'murmur': 2, 'helllp': 2, 'gum': 2, 'dreams': 2, 'manage': 2, 'hibbert': 2, \"other's\": 2, 'discussing': 2, 'standing': 2, 'mall': 2, 'seemed': 2, 'duel': 2, 'sudden': 2, 'clinton': 2, 'boozy': 2, \"what'sa\": 2, 'mcbain': 2, 'vacuum': 2, 'deadly': 2, 'mumbling': 2, 'kramer': 2, 'trench': 2, 'amount': 2, 'coins': 2, 'available': 2, 'grumpy': 2, 'beats': 2, 'ironed': 2, 'danish': 2, 'between': 2, 'reasons': 2, 'confident': 2, 'expert': 2, 'forgive': 2, 'drown': 2, 'frosty': 2, 'copy': 2, 'product': 2, 'based': 2, 'pigs': 2, \"fallin'\": 2, 'advance': 2, 'missed': 2, 'ayyy': 2, 'closes': 2, 'knife': 2, 'eighty-one': 2, 'yawns': 2, 'percent': 2, 'b': 2, 'choking': 2, 'harder': 2, 'ocean': 2, 'bash': 2, 'multiple': 2, 'color': 2, 'shrugs': 2, 'diamond': 2, 'inspiring': 2, 'stern': 2, 'judge_snyder:': 2, 'troy_mcclure:': 2, 'chum': 2, 'pint': 2, 'i-i-i': 2, 'joined': 2, 'pad': 2, 'abandon': 2, 'alphabet': 2, 'fox_mulder:': 2, 'ugliest': 2, 'brassiest': 2, 'politics': 2, 'bedroom': 2, 'neighbor': 2, 'teacher': 2, 'partly': 2, 'queer': 2, 'regulars': 2, 'awed': 2, \"children's\": 2, 'knees': 2, 'disgrace': 2, 'golf': 2, 'carlson': 2, 'doug:': 2, 'dungeon': 2, 'shower': 2, 'effects': 2, 'built': 2, \"bar's\": 2, 'ragtime': 2, 'fanciest': 2, 'willy': 2, 'grab': 2, 'acquaintance': 2, 'organ': 2, 'hail': 2, 'maya': 2, 'tofu': 2, 'poem': 2, 'whenever': 2, 'department': 2, 'pitch': 2, 'teenage_homer:': 2, \"hangin'\": 2, 'lights': 2, 'bam': 2, 'skin': 2, 'shutting': 2, 'ollie': 2, 'handle': 2, 'roof': 2, 'apartment': 2, 'seats': 2, 'windex': 2, 'cat': 2, 'teams': 2, 'naturally': 2, 'dee-fense': 2, 'fondly': 2, 'bartenders': 2, 'yoo': 2, 'standards': 2, \"father's\": 2, 'borrow': 2, 'cowardly': 2, 'remains': 2, 'exchange': 2, 'restroom': 2, 'quotes': 2, 'pressure': 2, 'agreement': 2, 'lush': 2, 'mate': 2, 'photo': 2, 'release': 2, 'wang': 2, 'impatient': 2, 'giggles': 2, 'craphole': 2, 'served': 2, 'worth': 2, 'taps': 2, 'tv_announcer:': 2, 'admitting': 2, 'wangs': 2, 'sinister': 2, 'bets': 2, 'banquo': 2, 'gums': 2, 'germs': 2, 'carll': 2, 'tie': 2, 'poker': 2, 'attempting': 2, 'radio': 2, 'shakespeare': 2, 'possibly': 2, 'marmaduke': 2, 'prove': 2, 'distributor': 2, 'shoots': 2, 'teddy': 2, 'weirder': 2, 'suspect': 2, 'dreamed': 2, 'grandmother': 2, 'lurleen': 2, 'twin': 2, 'talked': 2, 'thirteen': 2, \"bartender's\": 2, 'vote': 2, 'funds': 2, 'shrugging': 2, 'blend': 2, 'thighs': 2, 'actors': 2, 'watered-down': 2, 'relationship': 2, 't-shirt': 2, '_powers:': 2, 'remembering': 2, 'acting': 2, 'insulted': 2, 'hired': 2, 'bums': 2, 'bashir': 2, 'alfalfa': 2, 'violations': 2, 'jerry': 2, 'delivery_boy:': 2, 'margarita': 2, 'answers': 2, 'spread': 2, 'fabulous': 2, 'rock': 2, 'muttering': 2, 'cheat': 2, 'duty': 2, 'neat': 2, 'seas': 2, 'throwing': 2, 'calmly': 2, 'caused': 2, 'disco': 2, \"waitin'\": 2, \"homer's_brain:\": 2, 'dessert': 2, 'deliberate': 2, 'kicked': 2, 'victory': 2, 'gentleman:': 2, 'waltz': 2, 'magazine': 2, 'lib': 2, 'planet': 2, 'prepared': 2, 'nickels': 2, 'jerky': 2, 'stranger:': 2, 'complaining': 2, 'shooting': 2, 'self-esteem': 2, 'blown': 2, 'dames': 2, 'bully': 2, 'handing': 2, 'swill': 2, 'tax': 2, 'smurfs': 2, 'formico': 2, 'santa': 2, \"hadn't\": 2, 'motorcycle': 2, 'stealings': 2, 'anywhere': 2, 'space': 2, 'roses': 2, 'kindly': 2, 'reviews': 2, 'compared': 2, 'queen': 2, 'ziff': 2, 'barkeep': 2, 'dennis_kucinich:': 2, 'generous': 2, 'rage': 2, 'energy': 2, 'eventually': 2, 'shaggy': 2, 'delivery': 2, 'neither': 2, 'appear': 2, 'monkey': 2, 'shoulder': 2, 'koi': 2, 'disappeared': 2, 'saint': 2, 'priest': 2, 'interested': 2, 'investor': 2, 'grimly': 2, 'bold': 2, \"buffalo's\": 2, 'mixed': 2, 'ale': 2, 'matter-of-fact': 2, 'roz:': 2, 'quality': 2, \"drawin'\": 2, 'porn': 2, 'nasa': 2, 'alcoholic': 2, 'thoughtfully': 2, \"town's\": 2, 'towed': 2, 'filled': 2, 'juice': 2, 'seriously': 2, 'recently': 2, 'floated': 2, 'chicks': 2, 'reached': 2, 'kidney': 2, 'potato': 2, 'lucius': 2, 'ohh': 2, 'sausage': 2, 'proposing': 2, 'lovely': 2, 'bottles': 2, 'broadway': 2, 'cooler': 2, 'involved': 2, 'nudge': 2, 'agent_johnson:': 2, 'effervescent': 2, 'minister': 2, 'deeply': 2, 'haw': 2, 'successful': 2, 'ha-ha': 2, 'failed': 2, 'd': 2, 'safer': 2, 'crossed': 2, 'lock': 2, 'bucket': 2, 'don': 2, 'pleasant': 2, 'david': 2, 'pond': 2, 'ye': 2, 'asking': 2, 'snorts': 2, 'corporate': 2, 'rule': 2, 'lazy': 2, 'project': 2, 'cozy': 2, 'gang': 2, 'aging': 2, 'assistant': 2, 'cheery': 2, 'curious': 2, 'sack': 2, 'stevie': 2, \"others'\": 2, 'smile:': 2, 'civic': 2, 'dress': 2, 'honored': 2, 'prison': 2, 'unfortunately': 2, 'yelling': 2, 'smallest': 2, \"cat's\": 2, 'retired': 2, 'brave': 2, 'lloyd': 2, 'brightening': 2, 'bridge': 2, 'capitalists': 1, 'engine': 1, 'hook': 1, \"singin'\": 1, 'touch': 1, 'improved': 1, 'hampstead-on-cecil-cecil': 1, 'paintings': 1, 'leno': 1, 'anxious': 1, 'bill_james:': 1, 'unjustly': 1, 'mediterranean': 1, 'handoff': 1, 'presidential': 1, 'bumpy-like': 1, 'fbi_agent:': 1, 'avec': 1, 'natured': 1, 'bones': 1, 'quarterback': 1, 's-a-u-r-c-e': 1, 'rings': 1, 'yelp': 1, 'mexican': 1, 'owns': 1, 'cursed': 1, 'small_boy:': 1, 'k-zug': 1, 'activity': 1, 'intoxicated': 1, 'stirrers': 1, 'knock-up': 1, 'cherry': 1, 'mural': 1, \"s'okay\": 1, 'courts': 1, 'cutest': 1, 'delivery_man:': 1, 'test-': 1, 'chained': 1, 'brace': 1, 'giant': 1, 'starving': 1, 'nelson_muntz:': 1, 'foam': 1, 'unlocked': 1, 'tons': 1, 'spotting': 1, 'grumbling': 1, 'bail': 1, 'reentering': 1, 'generally': 1, 'buzz': 1, 'western': 1, 'beast': 1, 'easy-going': 1, 'pre-game': 1, 'rosey': 1, 'fastest': 1, \"dog's\": 1, 'impress': 1, \"foolin'\": 1, 'burnside': 1, \"something's\": 1, 'emphasis': 1, 'cheered': 1, \"clancy's\": 1, 'blows': 1, 'funeral': 1, 'dreary': 1, 'pantry': 1, \"high-falutin'\": 1, 'experienced': 1, 'droning': 1, 'photos': 1, 'jeter': 1, '50%': 1, 'waterfront': 1, 'guzzles': 1, \"mother's\": 1, 'hot-rod': 1, 'absorbent': 1, 'brainiac': 1, 'hose': 1, 'unfamiliar': 1, 'ab': 1, 'pennies': 1, 'bauer': 1, 'recruiter': 1, 'dashes': 1, 'pack': 1, 'bowled': 1, 'blade': 1, 'carb': 1, 'flashbacks': 1, 'wears': 1, \"yieldin'\": 1, 'someplace': 1, 'emporium': 1, 'masks': 1, 'tremendous': 1, 'student': 1, 'collapse': 1, 'resolution': 1, 'boozer': 1, 'bon-bons': 1, 'press': 1, \"somethin':\": 1, 'lied': 1, 'surgeonnn': 1, \"neat's-foot\": 1, 'officer': 1, 'rainforest': 1, 'jam': 1, 'handling': 1, 'grants': 1, 'beverage': 1, 'saget': 1, 'cobbling': 1, 'sagely': 1, 'proves': 1, \"hawkin'\": 1, 'leftover': 1, 'playoff': 1, 'muscle': 1, 'pantsless': 1, 'snackie': 1, 'linda_ronstadt:': 1, 'enthused': 1, 'smiles': 1, 'thirty-nine': 1, 'hears': 1, 'nasty': 1, 'referee': 1, 'sanitary': 1, 'geyser': 1, 'spellbinding': 1, 'popping': 1, 'sniffing': 1, 'process': 1, 'rivalry': 1, 'pretend': 1, 'blobbo': 1, 'assassination': 1, 'excuses': 1, 'heavens': 1, 'chair': 1, 'herself': 1, 'puke-holes': 1, 'audience': 1, 'demand': 1, 'broncos': 1, 'broken': 1, 'payback': 1, 'cans': 1, 'fit': 1, 'temporarily': 1, 'when-i-get-a-hold-of-you': 1, 'th-th-th-the': 1, 'perã³n': 1, 'lumpa': 1, 'squirrel': 1, \"wearin'\": 1, 'sneak': 1, 'button-pusher': 1, \"ball's\": 1, 'terrifying': 1, 'graveyard': 1, 'wage': 1, 'george': 1, 'part-time': 1, 'patented': 1, 'inches': 1, 'model': 1, \"hole'\": 1, 'clapping': 1, 'domed': 1, \"tomorrow's\": 1, 'refreshingness': 1, 'urinal': 1, \"tree's\": 1, 'melodramatic': 1, 'thnord': 1, 'shreda': 1, 'presentable': 1, 'binoculars': 1, 'founded': 1, 'indecipherable': 1, 'orifice': 1, 'beaumont': 1, 'stickers': 1, 'delicately': 1, 'hero-phobia': 1, 'boozebag': 1, 'derek': 1, 'jay_leno:': 1, 'coined': 1, 'grocery': 1, 'whale': 1, 'brandy': 1, 'ease': 1, 'full-bodied': 1, 'sumatran': 1, 'failure': 1, 'de': 1, \"drexel's\": 1, 'hoax': 1, 'cranberry': 1, 'white_rabbit:': 1, 'carey': 1, \"tatum'll\": 1, 'polls': 1, 'offense': 1, 'broken:': 1, 'honeys': 1, 'whoo': 1, 'hangout': 1, 'regretted': 1, 'hushed': 1, 'grrrreetings': 1, 'march': 1, 'incognito': 1, 'acronyms': 1, 'calendars': 1, 'squeals': 1, 'aer': 1, 'phrase': 1, 'y-you': 1, 'hootie': 1, 'dilemma': 1, 'eyeing': 1, 'op': 1, 'looooooooooooooooooong': 1, 'all-all-all': 1, 'tragedy': 1, 'renders': 1, 'annus': 1, 'boozehound': 1, 'symphonies': 1, 'closet': 1, 'managed': 1, \"startin'\": 1, 'buzziness': 1, 'panties': 1, 'bull': 1, 'stored': 1, 'getaway': 1, 'bedtime': 1, 'contractors': 1, 'montrer': 1, \"plaster's\": 1, 'piano': 1, 'packets': 1, 'youuu': 1, 'philosophical': 1, 'accidents': 1, 'ruuuule': 1, 'maiden': 1, 'clammy': 1, 'exquisite': 1, 'whup': 1, 'fire_inspector:': 1, 'counterfeit': 1, 'sketching': 1, 'wussy': 1, 'botanical': 1, \"linin'\": 1, 'bliss': 1, 'lady-free': 1, 'items': 1, 'statistician': 1, 'ees': 1, 'voters': 1, 'outlive': 1, 'motor': 1, 'log': 1, 'edelbrock': 1, 'johnny_carson:': 1, 'wild': 1, 'wudgy': 1, 'juan': 1, 'heave-ho': 1, 'hafta': 1, 'scanning': 1, 'reciting': 1, 'crayola': 1, 'united': 1, 'instantly': 1, 'cockroach': 1, 'outs': 1, 'sympathy': 1, 'daaaaad': 1, 'kitchen': 1, 'sue': 1, 'rickles': 1, 'powers': 1, 'ducked': 1, 'carmichael': 1, 'cuddling': 1, 'cause': 1, 'novel': 1, 'drunkening': 1, 'charlie:': 1, 'ecru': 1, 'committing': 1, 'dishonor': 1, 'suits': 1, 'half-beer': 1, 'transmission': 1, 'silence': 1, 'obese': 1, 'crooks': 1, 'hosting': 1, \"i'unno\": 1, 'sing-song': 1, 'synthesize': 1, 'prizefighters': 1, 'tolerance': 1, 'urine': 1, \"'s\": 1, 'wrestle': 1, 'inserts': 1, 'wobble': 1, 'further': 1, 'blubberino': 1, 'lovers': 1, 'notably': 1, \"changin'\": 1, 'night-crawlers': 1, 'neighbors': 1, 'sampler': 1, 'practically': 1, 'brings': 1, 'insults': 1, 'cappuccino': 1, 'xanders': 1, 'rascals': 1, 'skunk': 1, 'scornfully': 1, 'conclusions': 1, \"renee's\": 1, 'mahatma': 1, 'aquafresh': 1, \"usin'\": 1, 'serum': 1, 'maitre': 1, 'thunder': 1, 'lighten': 1, 'macbeth': 1, 'seething': 1, 'lobster-based': 1, 'ga': 1, 'chauffeur': 1, 'slaps': 1, 'meatpies': 1, 'frescas': 1, 'yourse': 1, 'chapel': 1, 'haiti': 1, 'puffy': 1, 'intriguing': 1, 'scram': 1, \"fryer's\": 1, \"'morning\": 1, 'sleeping': 1, 'approval': 1, 'grenky': 1, 'hiding': 1, 'dumbest': 1, 'indeedy': 1, 'mugs': 1, 'sneering': 1, 'de-scramble': 1, 'solved': 1, 'hmmmm': 1, 'planned': 1, 'remote': 1, 'brockelstein': 1, 'treats': 1, 'enter': 1, 'flailing': 1, 'sees/': 1, 'malabar': 1, 'gallon': 1, 'recorded': 1, 'looser': 1, 'settlement': 1, 'ã': 1, \"table's\": 1, 'dateline:': 1, 'mckinley': 1, 'manuel': 1, 'stiffening': 1, 'build': 1, 'tv-station_announcer:': 1, 'grain': 1, 'wieners': 1, 'presents': 1, 'applicant': 1, 'laughter': 1, 'stepped': 1, 'ripped': 1, 'court': 1, 'unexplained': 1, '_eugene_blatz:': 1, 'predecessor': 1, 'quimbys:': 1, 'snapping': 1, 'passports': 1, 'friction': 1, 'shriners': 1, 'booking': 1, 'sat-is-fac-tion': 1, \"how're\": 1, 'boggs': 1, 'flanders:': 1, 'straighten': 1, 'idealistic': 1, 'jokes': 1, 'lance': 1, 'hub': 1, 'lugs': 1, \"s'pose\": 1, 'cadillac': 1, 'reader': 1, 'slender': 1, 'wenceslas': 1, \"'roids\": 1, 'eliminate': 1, 'thoughtless': 1, 'swings': 1, 'ebullient': 1, \"stealin'\": 1, 'warren': 1, \"people's\": 1, 'forbids': 1, 'tsking': 1, 'simultaneous': 1, 'jewish': 1, 'tactful': 1, 'you-need-man': 1, 'contented': 1, 'pepto-bismol': 1, 'hillary': 1, 'hyahh': 1, 'cases': 1, 'tigers': 1, 'cheryl': 1, 'shaky': 1, 'praise': 1, 'remaining': 1, 'sun': 1, 'kansas': 1, 'family-owned': 1, 'meditative': 1, 'five-fifteen': 1, 'shopping': 1, 'examples': 1, 'sunk': 1, 'mole': 1, 'drinker': 1, 'itself': 1, 'luxury': 1, 'deliberately': 1, 'spender': 1, 'intention': 1, 'whatchacallit': 1, 'view': 1, \"puttin'\": 1, 'frenchman': 1, 'bust': 1, 'civil': 1, 'heatherton': 1, \"rasputin's\": 1, \"number's\": 1, 'crinkly': 1, 'celebration': 1, 'heather': 1, 'disgraceful': 1, 'population': 1, 'omit': 1, 'samples': 1, 'movement': 1, \"feelin's\": 1, 'cooking': 1, 'perverted': 1, 'rub-a-dub': 1, 'gear-head': 1, 'kako:': 1, 'pizzicato': 1, \"'er\": 1, 'taste': 1, 'publish': 1, 'mobile': 1, 'murdered': 1, 'indicates': 1, \"duelin'\": 1, 'peeved': 1, 'darkness': 1, 'weep': 1, 'pushing': 1, \"raggin'\": 1, 'waters': 1, 'er': 1, 'shop': 1, 'certificate': 1, 'male_singers:': 1, 'quitcher': 1, 'phony': 1, 'law-abiding': 1, 'composer': 1, 'load': 1, 'sam:': 1, 'charter': 1, 'wood': 1, 'strips': 1, \"squeezin'\": 1, 'con': 1, 'undermine': 1, 'dipping': 1, 'reluctant': 1, 'figure': 1, 'donut-shaped': 1, 'captain': 1, 'edner': 1, 'comforting': 1, 'backgammon': 1, 'hairs': 1, 'bottomless': 1, 'du': 1, 'wells': 1, 'ahem': 1, 'alien': 1, 'package': 1, 'pudgy': 1, 'oooo': 1, 'smelling': 1, 'fuhgetaboutit': 1, 'swamp': 1, 'coughs': 1, 'heartily': 1, 'reflected': 1, 'woulda': 1, 'hottest': 1, 'safety': 1, 'clincher': 1, 'rupert_murdoch:': 1, 'ballclub': 1, 'thomas': 1, 'jernt': 1, 'common': 1, 'aghast': 1, 'newsletter': 1, 'steaming': 1, 'thousands': 1, 'awake': 1, 'muscles': 1, 'hearts': 1, 'passes': 1, 'answered': 1, 'six-barrel': 1, 'punching': 1, 'introduce': 1, 'muertos': 1, 'sanitation': 1, 'wraps': 1, 'novelty': 1, 'innocence': 1, 'filth': 1, 'clenched': 1, 'specializes': 1, 'shout': 1, 'presto:': 1, 'johnny': 1, 'rude': 1, 'undated': 1, 'daniel': 1, 'tuborg': 1, 'capitol': 1, 'phasing': 1, 'menacing': 1, 'adjust': 1, \"round's\": 1, 'distract': 1, 'freaky': 1, 'prettiest': 1, 'jeff_gordon:': 1, 'frat': 1, 'ram': 1, \"mtv's\": 1, 'partners': 1, 'milhouses': 1, 'rasputin': 1, 'boxcar': 1, 'inserted': 1, 'spreads': 1, 'appropriate': 1, 'fluoroscope': 1, 'arrested:': 1, 'santeria': 1, 'hoagie': 1, 'sickly': 1, 'freshened': 1, \"washin'\": 1, 'refinanced': 1, 'prettied': 1, \"time's\": 1, 'fringe': 1, 'strategizing': 1, 'amiable': 1, 'veux': 1, 'jeers': 1, 'quebec': 1, 'upn': 1, 'drawn': 1, 'parasol': 1, 'invisible': 1, 'issuing': 1, 'conversion': 1, 'huhza': 1, 'ref': 1, 'hunky': 1, 'nordiques': 1, 'species': 1, 'chorus:': 1, 'waist': 1, 'various': 1, 'yak': 1, 'sister-in-law': 1, 'and:': 1, 'eaters': 1, 'terror': 1, 'jackass': 1, 'unfresh': 1, 'potatoes': 1, 'blackjack': 1, 'trucks': 1, 'scout': 1, 'finale': 1, 'hostages': 1, 'understood': 1, 'carlotta:': 1, 'truck_driver:': 1, 'drapes': 1, 'transfer': 1, 'mimes': 1, 'conspiracy': 1, 'snide': 1, 'turlet': 1, 'often': 1, \"cont'd:\": 1, 'singer': 1, 'beanbag': 1, 'radioactive': 1, 'published': 1, 'a-a-b-b-a': 1, 'jay:': 1, 'transylvania': 1, 'chub': 1, 'specials': 1, 'smokes': 1, 'indifferent': 1, 'hollye': 1, 'led': 1, 'gabriel': 1, 'county': 1, 'madman': 1, 'crunch': 1, 'lookalike': 1, 'barkeeps': 1, 'rat-like': 1, 'eighty-six': 1, 'disturbance': 1, \"stayin'\": 1, 'frozen': 1, 'cross-country': 1, 'soot': 1, 'gunk': 1, 'veteran': 1, 'impeach': 1, 'poetry': 1, 'onassis': 1, 'falling': 1, 'bury': 1, '3': 1, 'unusual': 1, 'pledge': 1, 'ne': 1, 'considers': 1, 'robot': 1, 'grub': 1, 'short_man:': 1, 'enjoyed': 1, 'peaked': 1, 'dejected_barfly:': 1, 'grandã©': 1, 'life-sized': 1, 'brick': 1, 'richer': 1, 'debonair': 1, 'ding-a-ding-ding-a-ding-ding': 1, \"'n'\": 1, \"grandmother's\": 1, 'gags': 1, 'tokens': 1, 'cracked': 1, 'control': 1, 'oak': 1, 'raging': 1, 'delightfully': 1, 'glorious': 1, 'fires': 1, 'sickens': 1, 'zeal': 1, 'including': 1, 'sucking': 1, 'politician': 1, 'taxi': 1, 'homesick': 1, 'booze-bags': 1, 'heartless': 1, 'chew': 1, 'selection': 1, 'wistful': 1, 'forty-five': 1, 'arm-pittish': 1, 'corn': 1, 'supports': 1, 'coincidentally': 1, 'collateral': 1, 'chastity': 1, 'depository': 1, 'easter': 1, 'wildest': 1, 'mull': 1, 'though:': 1, 'diablo': 1, 'provide': 1, 'picky': 1, 'farthest': 1, 'possessions': 1, 'bugs': 1, 'enhance': 1, 'socialize': 1, 'aidens': 1, 'consoling': 1, 'pussycat': 1, 'oww': 1, 'spiritual': 1, \"now's\": 1, 'unkempt': 1, 'tornado': 1, 'art': 1, 're-al': 1, 'roller': 1, 'attracted': 1, 'insured': 1, 'dealer': 1, 'drives': 1, 'mistakes': 1, \"narratin'\": 1, 'fwooof': 1, 'mild': 1, 'killjoy': 1, 'caveman': 1, \"poundin'\": 1, 'beeps': 1, 'aims': 1, 'background': 1, 'audience:': 1, 'elaborate': 1, 'cannoli': 1, 'rocks': 1, 'flash-fry': 1, 'depressed': 1, 'wars': 1, 'bake': 1, 'moon': 1, 'principles': 1, 'strawberry': 1, 'plucked': 1, 'scrutinizes': 1, 'businessman_#2:': 1, 'coy': 1, 'prejudice': 1, 'swan': 1, 'conditioners': 1, 'arrived': 1, 'gunter:': 1, 'bono': 1, 'hardy': 1, 'complicated': 1, \"breakin'\": 1, 'computer_voice_2:': 1, 'average': 1, 'poulet': 1, 'hundreds': 1, 'reckless': 1, 'richard': 1, 'beef': 1, 'mice': 1, 'modest': 1, 'dealie': 1, 'celebrate': 1, 'swallowed': 1, 'declan': 1, 'ron_howard:': 1, 'disguised': 1, 'alky': 1, \"poisonin'\": 1, 'blob': 1, 'desperately': 1, 'cushions': 1, 'vigilante': 1, 'locked': 1, \"edna's\": 1, 'tense': 1, 'cozies': 1, 'strains': 1, \"ma's\": 1, 'shush': 1, 'b-day': 1, 'damned': 1, 'diaper': 1, 'capuchin': 1, 'sixteen': 1, 'los': 1, 'flea:': 1, 'jelly': 1, 'archaeologist': 1, 'plants': 1, 'cup': 1, 'schmoe': 1, 'diddilies': 1, 'neanderthal': 1, 'life-threatening': 1, 'kick-ass': 1, 'freely': 1, 'hurting': 1, 'kisses': 1, '2nd_voice_on_transmitter:': 1, 'a-b-': 1, \"this'll\": 1, 'susie-q': 1, 'cheated': 1, 'heals': 1, 'kickoff': 1, \"brady's\": 1, 'tones': 1, 'winces': 1, 'apology': 1, 'renew': 1, 'inherent': 1, 'van': 1, 'crystal': 1, 'colorado': 1, 'getcha': 1, 'replace': 1, 'haplessly': 1, 'compressions': 1, 'inclination': 1, 'lushmore': 1, 'kadlubowski': 1, 'resist': 1, 'gordon': 1, 'bupkus': 1, 'unbelievably': 1, 'beefs': 1, 'twerpy': 1, 'starve': 1, 'peter_buck:': 1, 'chug-a-lug': 1, 'cigars': 1, 'remorseful': 1, 'germany': 1, 'jury': 1, 'whoever': 1, 'kegs': 1, 'plums': 1, 'patron_#1:': 1, 'mither': 1, 'kearney_zzyzwicz:': 1, 'chipped': 1, 'trenchant': 1, 'brooklyn': 1, 'geysir': 1, 'pure': 1, \"son's\": 1, 'golden': 1, 'banned': 1, 'fountain': 1, 'smiled': 1, 'lager': 1, 'tyson/secretariat': 1, 'delightful': 1, 'phlegm': 1, 'incredible': 1, 'lenses': 1, 'wolfcastle': 1, 'au': 1, 'groin': 1, 'tee': 1, 'moe-heads': 1, 'handshake': 1, 'knowledge': 1, 'depending': 1, 'sky': 1, 'gestated': 1, 'man_with_tree_hat:': 1, 'world-class': 1, 'milks': 1, 'teen': 1, 'manchego': 1, 'swishkabobs': 1, 'sail': 1, 'eighteen': 1, 'kim_basinger:': 1, 'stonewall': 1, 'rip-off': 1, 'waitress': 1, 'wishful': 1, 'janette': 1, 'rebuilt': 1, 'donuts': 1, 'face-macer': 1, 'sponge:': 1, 'jacks': 1, 'mickey': 1, 'unrelated': 1, 'telephone': 1, 'malted': 1, 'iran': 1, 'sales': 1, 'improv': 1, 'feminine': 1, 'winch': 1, 'mccall': 1, 'bar:': 1, 'repeated': 1, 'taxes': 1, 'optimistic': 1, 'housing': 1, 'musta': 1, 'clothespins:': 1, 'smuggled': 1, 'trustworthy': 1, 'navy': 1, 'tempting': 1, 'jewelry': 1, 'muslim': 1, 'lincoln': 1, 'specialists': 1, 'congratulations': 1, \"wouldn't-a\": 1, 'curse': 1, 'consciousness': 1, 'damage': 1, 'boston': 1, 'metal': 1, 'eggshell': 1, 'pernt': 1, 'glyco-load': 1, 'hare-brained': 1, 'w-a-3-q-i-zed': 1, 'scores': 1, 'stores': 1, 'pontiff': 1, 'expose': 1, 'tabs': 1, 'billingsley': 1, 'lifters': 1, 'st': 1, 'strongly': 1, 'saucy': 1, \"d'\": 1, 'aggie': 1, 'alarm': 1, 'cyrano': 1, 'catholic': 1, 'environment': 1, 'duff_announcer:': 1, 'insensitive': 1, 'onto': 1, 'offa': 1, 'windelle': 1, 'considering:': 1, 'suffering': 1, 'sequel': 1, 'clap': 1, 'sooo': 1, \"soundin'\": 1, 'blinds': 1, 'scornful': 1, 'amends': 1, 'leprechaun': 1, 'thirty-five': 1, 'annoying': 1, 'flown': 1, 'trivia': 1, 'rain': 1, 'direction': 1, \"hobo's\": 1, 'frogs': 1, 'steely-eyed': 1, 'dumbass': 1, 'steampunk': 1, 'connor-politan': 1, 'stingy': 1, 'amused': 1, 'mostrar': 1, 'dregs': 1, 'verdict': 1, 'hilton': 1, 'wednesday': 1, 'richard:': 1, 'promise': 1, 'and/or': 1, 'attractive': 1, 'average-looking': 1, 'wife-swapping': 1, 'begging': 1, 'sidekick': 1, 'earrings': 1, 'reporter': 1, 'twelveball': 1, 'maher': 1, 'hooked': 1, 'beady': 1, 'drollery': 1, 'appreciate': 1, 'raining': 1, 'spelling': 1, 'wipes': 1, 'swigmore': 1, 'alcoholism': 1, 'inquiries': 1, 'radical': 1, 'blimp': 1, 'horns': 1, 'liable': 1, 'bursts': 1, 'shuts': 1, 'ugh': 1, 'sacrilicious': 1, \"calf's\": 1, 'gasoline': 1, 'uglier': 1, 'diapers': 1, 'poin-dexterous': 1, 'normals': 1, 'risquã©': 1, 'felony': 1, 'telemarketing': 1, \"'round\": 1, 'benjamin:': 1, 'pregnancy': 1, \"bringin'\": 1, 'fulla': 1, 'dizzy': 1, 'adventure': 1, 'sassy': 1, \"'evening\": 1, '530': 1, 'municipal': 1, \"fun's\": 1, 'creates': 1, 'terrace': 1, 'perfunctory': 1, 'wasted': 1, 'open-casket': 1, 'buds': 1, 'reality': 1, 'menace': 1, 'nash': 1, 'sixty': 1, 'reward': 1, 'mayan': 1, 'hardhat': 1, 'browns': 1, 'jumping': 1, 'earlier': 1, 'pancakes': 1, 'willing': 1, 'enterprising': 1, 'tapping': 1, 'mabel': 1, 'renovations': 1, 'goldarnit': 1, 'roy': 1, 'meaningless': 1, 'over-pronouncing': 1, 'releasing': 1, 'chuck': 1, 'amber': 1, 'brain-switching': 1, 'dollface': 1, 'kennedy': 1, 'assent': 1, 'non-losers': 1, 'midge:': 1, 'wally': 1, 'aah': 1, 'disappear': 1, 'eager': 1, 'nachos': 1, 'chauffeur:': 1, 'motto': 1, 'half-day': 1, 'contemplates': 1, \"thinkin'\": 1, 'infiltrate': 1, 'ferry': 1, 'justify': 1, 'ingested': 1, 'confidential': 1, 'allow': 1, 'eighty-five': 1, 'j': 1, 'stu': 1, 'hers': 1, 'calvin': 1, 'cauliflower': 1, 'bleak': 1, 'silent': 1, 'hawaii': 1, 'links': 1, 'mortal': 1, 'ho-ly': 1, 'lachrymose': 1, 'connor': 1, 'random': 1, 'gloop': 1, 'one-hour': 1, 'rolls': 1, 'touches': 1, 'presidents': 1, 'wolveriskey': 1, 'emotion': 1, 'hanh': 1, 'scent': 1, 'sweetest': 1, 'boisterous': 1, 'chill': 1, '1973': 1, \"phone's\": 1, 'admirer': 1, 'cocoa': 1, 'barbed': 1, 'noble': 1, 'squadron': 1, 'term': 1, 'unintelligent': 1, 'jane': 1, '-ry': 1, 'cock': 1, 'promotion': 1, 'convenient': 1, 'breakfast': 1, 'worthless': 1, 'manipulation': 1, 'encores': 1, \"coaster's\": 1, 'startled': 1, 'flush-town': 1, 'sponge': 1, 'talkative': 1, 'counter': 1, 'watered': 1, 'fatty': 1, 'drop-off': 1, 'nelson': 1, 'wondered': 1, 'shoulders': 1, 'nooo': 1, 'fake': 1, 'arise': 1, 'micronesian': 1, 'mac-who': 1, 'cell': 1, 'stupidly': 1, \"'cept\": 1, 'inexorable': 1, 'duke': 1, 'sideshow_mel:': 1, 'macho': 1, 'arimasen': 1, 'balloon': 1, 'sharing': 1, \"queen's\": 1, 'sensitivity': 1, 'ruint': 1, 'portfolium': 1, 'dice': 1, 'harvard': 1, 'feedbag': 1, 'anti-intellectualism': 1, 'causes': 1, 'patting': 1, 'lowest': 1, 'month': 1, 'warning': 1, 'partially': 1, 'poisoning': 1, 'unusually': 1, 'snotty': 1, 'buffet': 1, 'oughtta': 1, 'musical': 1, 'break-up': 1, 'scientific': 1, 'holidays': 1, 'located': 1, 'shutup': 1, 'land': 1, \"s'cuse\": 1, 'oblivious': 1, 'pets': 1, 'mommy': 1, 'four-star': 1, 'insecure': 1, 'cushion': 1, 'elite': 1, 'curiosity': 1, 'dumptruck': 1, 'thirty-thousand': 1, 'guilt': 1, \"g'night\": 1, 'edgy': 1, 'recorder': 1, 'shaved': 1, 'permanent': 1, 'reopen': 1, 'girl-bart': 1, 'teacup': 1, 'koji': 1, 'stein-stengel-': 1, 'old-time': 1, 'bulletin': 1, 'vengeance': 1, 'error': 1, 'temp': 1, 'attached': 1, 'villanova': 1, 'aziz': 1, 'tow': 1, 'dinks': 1, 'absolut': 1, 'courthouse': 1, 'supreme': 1, 'profiling': 1, 'twenty-nine': 1, 'nonchalantly': 1, 'advertising': 1, 'hmf': 1, 'rims': 1, 'doy': 1, \"kearney's_dad:\": 1, 'halfway': 1, 'loyal': 1, 'prompting': 1, 'hibachi': 1, 'head-gunk': 1, 'penmanship': 1, 'mellow': 1, 'extract': 1, 'sloppy': 1, 'noggin': 1, 'driveability': 1, 'abcs': 1, 'lay': 1, 'football': 1, 'schizophrenia': 1, 'beer-dorf': 1, 'len-ny': 1, 'sucker': 1, 'splattered': 1, 'icy': 1, 'compels': 1, 'weather': 1, 'rubs': 1, 'naval': 1, 'fonda': 1, 'picnic': 1, 'gator': 1, 'shortcomings': 1, 'combines': 1, 'moon-bounce': 1, 'underwear': 1, 'ura': 1, 'acceptance': 1, 'adrift': 1, 'vincent': 1, 'portuguese': 1, 'accounta': 1, 'wizard': 1, 'bloodiest': 1, 'punishment': 1, 'stocking': 1, 'friend:': 1, 'grandkids': 1, 'fustigation': 1, 'breaks': 1, 'stones': 1, 'excavating': 1, 'sagacity': 1, 'dig': 1, 'halvsies': 1, 'politicians': 1, 'full-time': 1, 'plain': 1, 'cheerleaders:': 1, 'initially': 1, 'unsafe': 1, 'declare': 1, 'pushes': 1, 'mindless': 1, 'exciting': 1, 'presided': 1, 'lists': 1, 'crowbar': 1, 'certified': 1, 'make:': 1, 'resenting': 1, 'newest': 1, 'runs': 1, 'citizens': 1, 'pair': 1, 'evergreen': 1, 'fumigated': 1, 'north': 1, 'yoink': 1, 'meanwhile': 1, 'bidet': 1, 'deeper': 1, 'ignorance': 1, 'generously': 1, 'uhhhh': 1, 'spare': 1, 'fink': 1, 'gus': 1, 'fuzzlepitch': 1, 'shakes': 1, 'mike_mills:': 1, 'maintenance': 1, 'aunt': 1, 'authenticity': 1, 'cousin': 1, 'awkwardly': 1, 'polenta': 1, 'emergency': 1, 'hops': 1, \"tab's\": 1, 'here-here-here': 1, 'read:': 1, 'practice': 1, 'ding-a-ding-ding-ding-ding-ding-ding': 1, 'brag': 1, 'stab': 1, 'nauseous': 1, 'el': 1, 'gulliver_dark:': 1, 'guts': 1, 'super-genius': 1, 'waste': 1, 'arse': 1, 'choice:': 1, 'squashing': 1, 'elizabeth': 1, 'cletus_spuckler:': 1, 'dea-d-d-dead': 1, 'logos': 1, \"sippin'\": 1, 'contemplated': 1, \"bashir's\": 1, 'bartholomã©:': 1, 'overflowing': 1, 'kemi': 1, 'alec_baldwin:': 1, 'tapestry': 1, 'shipment': 1, 'wolverines': 1, 'entering': 1, 'tropical': 1, 'poster': 1, \"america's\": 1, 'si-lent': 1, 'poorer': 1, 'flustered': 1, 'poplar': 1, 'skydiving': 1, 'mini-beret': 1, 'bottoms': 1, 'othello': 1, \"cupid's\": 1, 'howya': 1, 'mission': 1, 'shelbyville': 1, 'dna': 1, 'figures': 1, 'brunch': 1, 'physical': 1, \"industry's\": 1, 'swimming': 1, 'attach': 1, 'bloodball': 1, 'and-and': 1, 'zoomed': 1, 'wowww': 1, 'busiest': 1, 'ninety-six': 1, 'self-centered': 1, \"bo's\": 1, 'shark': 1, 'hardwood': 1, 'fontaine': 1, 'payday': 1, 'sprawl': 1, 'donation': 1, 'slugger': 1, 'sentimonies': 1, 'dropping': 1, 'colonel:': 1, 'sinkhole': 1, 'whining': 1, 'urban': 1, 'caper': 1, 'decided': 1, 'facebook': 1, 'trash': 1, \"idea's\": 1, 'soir': 1, 'weapon': 1, 'title': 1, 'fired': 1, 'judges': 1, 'popped': 1, 'additional-seating-capacity': 1, 'coast': 1, 'naegle': 1, \"liftin'\": 1, 'sidelines': 1, 'bridges': 1, 'dimly': 1, 'ambrose': 1, 'spacey': 1, 'ultimate': 1, 'legally': 1, 'elect': 1, 'microbrew': 1, 'parked': 1, 'besides': 1, 'repeating': 1, 'loafers': 1, 'visas': 1, 'instrument': 1, 'witches': 1, 'gesture': 1, 'unhappy': 1, 'living': 1, 'crowds': 1, 'lurks': 1, 'judgments': 1, 'planted': 1, 'yammering': 1, 'tomahto': 1, 'bragging': 1, 'bagged': 1, 'alter': 1, 'disappointment': 1, \"fightin'\": 1, 'souped': 1, 'asks': 1, 'old_jewish_man:': 1, 'vacations': 1, 'friday': 1, 'eva': 1, 'patriotic': 1, 'ate': 1, 'shoes': 1, 'attractive_woman_#2:': 1, 'wacky': 1, 'ford': 1, 'doom': 1, 'cliff': 1, 'moonlight': 1, 'lucinda': 1, 'ing': 1, \"shootin'\": 1, 'hunger': 1, 'extreme': 1, 'encouraged': 1, 'drift': 1, \"murphy's\": 1, 'fruit': 1, 'trunk': 1, 'intervention': 1, 'extinguishers': 1, 'ugliness': 1, 'script': 1, 'hourly': 1, 'creepy': 1, 'difference': 1, 'michael_stipe:': 1, 'fica': 1, 'stamp': 1, 'spirit': 1, 'lipo': 1, 'england': 1, 'disco_stu:': 1, 'britannia': 1, 'barber': 1, 'begin': 1, 'determined': 1, 'reading:': 1, 'screws': 1, 'flack': 1, 'steam': 1, \"sat's\": 1, 'cheerier': 1, \"nothin's\": 1, 'solves': 1, 'theme': 1, 'mamma': 1, 'ton': 1, 'byrne': 1, 'ihop': 1, 'timbuk-tee': 1, 'statues': 1, 'produce': 1, 'surprising': 1, 'prices': 1, '35': 1, 'paints': 1, 'applesauce': 1, 'vanities': 1, 'ze-ro': 1, 'sideshow': 1, 'total': 1, 'gregor': 1, \"boy's\": 1, 'lenford': 1, 'lifts': 1, 'option': 1, 'sperm': 1, 'steamed': 1, 'dateline': 1, 'iddilies': 1, 'crayon': 1, 'kidneys': 1, 'oblongata': 1, 'stretches': 1, 'necessary': 1, 'sen': 1, \"kid's\": 1, 'rhode': 1, 'priority': 1, 'aisle': 1, 'voicemail': 1, 'f-l-a-n-r-d-s': 1, 'apulina': 1, 'shaker': 1, 'fayed': 1, 'ointment': 1, 'sweaty': 1, 'plug': 1, 'ripper': 1, \"man's_voice:\": 1, 'cakes': 1, 'outrageous': 1, \"santa's\": 1, 'confession': 1, 'ling': 1, 'cell-ee': 1, 'bras': 1, \"starla's\": 1, 'grateful': 1, 'terrorizing': 1, 'splash': 1, 'strolled': 1, \"she'll\": 1, 'fl': 1, 'bachelorette': 1, 'theatah': 1, 'crestfallen': 1, 'snotball': 1, 'dracula': 1, 'supermarket': 1, 'mini-dumpsters': 1, 'mexicans': 1, 'ventriloquism': 1, 'feat': 1, 'sugar-free': 1, 'polishing': 1, 'whispers': 1, 'preparation': 1, \"i'd'a\": 1, 'hygienically': 1, 'tree_hoper:': 1, \"summer's\": 1, 'pus-bucket': 1, 'toxins': 1, 'launch': 1, 'community': 1, 'bell': 1, \"wino's\": 1, 'gil_gunderson:': 1, \"cleanin'\": 1, 'aiden': 1, 'zone': 1, 'u2:': 1, 'incriminating': 1, 'eternity': 1, 'joy': 1, 'salvador': 1, 'icelandic': 1, 'notice': 1, 'bluff': 1, 'skins': 1, 'bulked': 1, 'moolah-stealing': 1, 'tablecloth': 1, 'pickles': 1, 'spite': 1, 'neighborhood': 1, 'chosen': 1, 'carefully': 1, 'engraved': 1, 'increased': 1, \"tv'll\": 1, 'booger': 1, 'super-nice': 1, 'zinged': 1, 'drag': 1, 'doof': 1, 'insist': 1, 'guff': 1, 'badmouth': 1, 'simplest': 1, 'dã¼ff': 1, 'savagely': 1, 'southern': 1, 'libraries': 1, 'stays': 1, 'macgregor': 1, 'papa': 1, 'goo': 1, 'sacrifice': 1, 'sickened': 1, 'sight': 1, 'klown': 1, 'riveting': 1, 'nibble': 1, 'clothespins': 1, 'compadre': 1, 'john': 1, 'experiments': 1, 'lewis': 1, 'nervously': 1, 'forgotten': 1, 'squeeze': 1, 'finance': 1, 'socratic': 1, 'landlord': 1, 'muffled': 1, 'grieving': 1, 'charming': 1, 'schedule': 1, 'life-partner': 1, 'moustache': 1, 'actress': 1, 'luckily': 1, 'smitty:': 1, 'burt_reynolds:': 1, 'east': 1, 'idioms': 1, 'sleigh-horses': 1, 'storms': 1, 'gimmick': 1, 'co-sign': 1, \"duff's\": 1, 'eyed': 1, 'lighter': 1, 'sexton': 1, 'giggle': 1, 'little_hibbert_girl:': 1, 'buddha': 1, 'leathery': 1, 'healthier': 1, 'presses': 1, 'derisive': 1, 'latour': 1, 'kissingher': 1, 'upgrade': 1, 'swatch': 1, 'grease': 1, \"depressin'\": 1, 'watt': 1, 'lingus': 1, 'gabriel:': 1, \"jackpot's\": 1, \"rustlin'\": 1, 'pridesters:': 1, 'winded': 1, 'eye-gouger': 1, 'confidentially': 1, 'odor': 1, 'sobriety': 1, \"life's\": 1, 'spoon': 1, 'aboard': 1, 'savings': 1, 'looting': 1, 'superpower': 1, 'perverse': 1, 'wisconsin': 1, 'scarf': 1, 'lovelorn': 1, 'mirthless': 1, 'crushed': 1, 'je': 1, 'guinea': 1, \"should've\": 1, 'everywhere': 1, 'augustus': 1, 'doll-baby': 1, 'carpet': 1, 'taylor': 1, 'blaze': 1, 'rueful': 1, 'pointy': 1, 'viva': 1, 'data': 1, 'sets': 1, 'dean': 1, 'thing:': 1, 'darjeeling': 1, 'burg': 1, 'asleep': 1, 'whistling': 1, 'gibson': 1, 'sangre': 1, 'hotel': 1, 'graves': 1, 'count': 1, 'in-ground': 1, 'faces': 1, 'divine': 1, 'huddle': 1, 'booth': 1, 'microphone': 1, 'diets': 1, 'helps': 1, 'fury': 1, 'knuckles': 1, 'seamstress': 1, 'marched': 1, 'lainie:': 1, \"hell's\": 1, 'fast-food': 1, 'bindle': 1, 'stupidest': 1, 'sensible': 1, 'jackpot-thief': 1, 'plane': 1, 'fell': 1, 'blinded': 1, 'appreciated': 1, 'skoal': 1, 'absentmindedly': 1, 'birth': 1, 'personal': 1, 'meyerhof': 1, 'hearse': 1, 'foundation': 1, 'e-z': 1, 'digging': 1, 'medieval': 1, 'sucks': 1, 'contemptuous': 1, 'problemo': 1, 'be-stainã¨d': 1, 'designer': 1, 'depressing': 1, 'picked': 1, 'television': 1, \"who'da\": 1, 'utensils': 1, 'bide': 1, 'chipper': 1, 'mansions': 1, 'rem': 1, \"stallin'\": 1, 'weekend': 1, 'musketeers': 1, 'souvenir': 1, 'pronto': 1, 'squad': 1, 'pursue': 1, 'sang': 1, 'weight': 1, 'wiping': 1, \"spiffin'\": 1, 'tire': 1, 'non-american': 1, 'regulations': 1, 'expensive': 1, 'blind': 1, 'paparazzo': 1, 'fat_in_the_hat:': 1, 'nick': 1, 'nonchalant': 1, 'suspenders': 1, 'researching': 1, 'effect': 1, 'ralph_wiggum:': 1, \"fine-lookin'\": 1, 'enabling': 1, 'sweetie': 1, 'side:': 1, 'cuz': 1, 'lime': 1, 'hubub': 1, 'devils:': 1, 'mariah': 1, 'quimby_#2:': 1, 'compete': 1, 'meaning': 1, \"professor's\": 1, 'subscriptions': 1, 'aid': 1, 'result': 1, 'mt': 1, 'misfire': 1, 'all-american': 1, '21': 1, 'sturdy': 1, 'delays': 1, \"man'd\": 1, 'vermont': 1, 'savvy': 1, 'grubby': 1, \"cheerin'\": 1, 'fishing': 1, 'irs': 1, 'paramedic:': 1, 'pasta': 1, 'official': 1, 'key': 1, 'warmth': 1, \"nixon's\": 1, 'showed': 1, 'blocked': 1, 'mix': 1, 'growing': 1, 'spews': 1, 'rainier': 1, \"d'ya\": 1, 'exchanged': 1, 'swe-ee-ee-ee-eet': 1, 'beaumarchais': 1, \"o'\": 1, 'betrayed': 1, \"'\": 1, 'captain:': 1, 'schemes': 1, 'lou': 1, 'lungs': 1, 'talkers': 1, 'she-pu': 1, 'blokes': 1, 'bothered': 1, 'lifetime': 1, 'score': 1, \"that'd\": 1, 'material': 1, 'ireland': 1, 'rip': 1, 'helping': 1, 'venture': 1, 'retain': 1, 'mountain': 1, 'swimmers': 1, 'monorails': 1, 'minus': 1, 'followed': 1, 'sass': 1, 'rig': 1, \"snappin'\": 1, 'amber_dempsey:': 1, 'dads': 1, 'propose': 1, 'orgasmville': 1, 'raking': 1, \"scammin'\": 1, 'protesters': 1, 'easily': 1, 'anyhow': 1, 'lead': 1, \"football's\": 1, 'email': 1, 'hooch': 1, 'way:': 1, 'enlightened': 1, 'videotaped': 1, 'mason': 1, 'grind': 1, 'vulgar': 1, 'administration': 1, 'pre-columbian': 1, 'nightmares': 1, 'slobbo': 1, \"department's\": 1, 'nailed': 1, 'string': 1, 'incarcerated': 1, 'skinheads': 1, 'freaking': 1, 'pretzel': 1, 'simon': 1, 'fresco': 1, 'anger': 1, 'splendid': 1, 'winning': 1, 'whaaaa': 1, 'shindig': 1, 'distaste': 1, 'gig': 1, 'eco-fraud': 1, 'relative': 1, 'malibu': 1, 'states': 1, \"burnin'\": 1, 'bookie': 1, 'kings': 1, 'nonsense': 1, 'las': 1, 'hemoglobin': 1, 'bleeding': 1, 'ninety-seven': 1, 'annie': 1, 'sustain': 1, \"toot's\": 1, 'philip': 1, 'tv_daughter:': 1, \"liberty's\": 1, 'shag': 1, 'mint': 1, 'pews': 1, 'lis': 1, 'glee': 1, 'progress': 1, 'refiero': 1, 'grin': 1, 'advertise': 1, 'frightened': 1, 'perking': 1, 'rome': 1, 'wrap': 1, 'evils': 1, 'hiring': 1, 'name:': 1, 'rug': 1, 'rabbits': 1, 'chin': 1, 'nectar': 1, 'adopted': 1, 'romance': 1, 'rice': 1, 'avenue': 1, 'rationalizing': 1, 'mystery': 1, 'startup': 1, 'chug-monkeys': 1, 'declared': 1, 'astonishment': 1, 'developed': 1, 'massive': 1, 'endorsement': 1, 'rash': 1, 'alma': 1, 'creme': 1, 'corkscrews': 1, 'shelf': 1, 'officials': 1, \"heat's\": 1, 'column': 1, \"brockman's\": 1, 'unavailable': 1, 'moxie': 1, 'oh-so-sophisticated': 1, 'frink-y': 1, 'ali': 1, 'tonic': 1, 'show-off': 1, 'habitrail': 1, 'exception:': 1, 'woooooo': 1, 'theatrical': 1, 'affection': 1, 'braun:': 1, 'democrats': 1, 'unsourced': 1, 'naively': 1, 'fletcherism': 1, 'meals': 1, 'delicate': 1, 'unable': 1, 'ads': 1, 'dogs': 1, 'vin': 1, 'wound': 1, 'arguing': 1, 'mmmmm': 1, 'forty-seven': 1, 'microwave': 1, 'champion': 1, 'nahasapeemapetilon': 1, 'squeezed': 1, 'maxed': 1, \"smackin'\": 1, 'flush': 1, 'spine': 1, 'terminated': 1, 'occupation': 1, 'whoa-ho': 1, 'frankie': 1, 'suave': 1, 'accusing': 1, \"tramp's\": 1, 'tease': 1, 'nascar': 1, 'manfred': 1, 'dazed': 1, 'sheets': 1, 'wagering': 1, 'shrieks': 1, 'womb': 1, 'oughta': 1, 'thought_bubble_lenny:': 1, 'easygoing': 1, 'loathe': 1, 'reminded': 1, 'feld': 1, 'dyspeptic': 1, 'listened': 1, 'sincerely': 1, 'eyeballs': 1, 'rainbows': 1, 'chateau': 1, 'tin': 1, 'roz': 1, 'barney-guarding': 1, 'versus': 1, 'completely': 1, 'dignified': 1, 'crowned': 1, 'creature': 1, 'shred': 1, 'typed': 1, 'greatly': 1, 'fustigate': 1, 'alternative': 1, 'schabadoo': 1, \"disrobin'\": 1, '_burns_heads:': 1, 'christian': 1, \"cashin'\": 1, 'mcclure': 1, 'buddies': 1, 'dum-dum': 1, 'massage': 1, 'supplying': 1, \"listenin'\": 1, 'today/': 1, 'firm': 1, 'belts': 1, 'cheesecake': 1, 'boyhood': 1, \"i-i'll\": 1, 'hammock': 1, 'lame': 1, 'troubles': 1, 'occupancy': 1, 'without:': 1, 'flayvin': 1, 'karaoke_machine:': 1, 'fantasy': 1, 'classy': 1, 'fortress': 1, 'disappointing': 1, \"g'on\": 1, 'trashed': 1, 'tasimeter': 1, 'banquet': 1, 'horses': 1, 'prints': 1, 'reaction': 1, \"c'mom\": 1, 'reptile': 1, 'ails': 1, 'wise': 1, 'mid-seventies': 1, \"nick's\": 1, 'kinderhook': 1, 'brakes': 1, 'abe': 1, 'democracy': 1, 'badmouths': 1, 'backbone': 1, 'wish-meat': 1, 'drawer': 1, 'discriminate': 1, 'killarney': 1, 'moonshine': 1, 'ron': 1, 'ehhhhhhhh': 1, 'breakdown': 1, 'majority': 1, 'culkin': 1, 'ears': 1, \"beggin'\": 1, 'wigs': 1, 'ineffective': 1, 'bushes': 1, 'mill': 1, 'mathis': 1, 'injury': 1, \"what'd\": 1, 'landfill': 1, 'handed': 1, 'exclusive:': 1, 'finish': 1, 'bites': 1, 'thorough': 1, 'dawning': 1, 'dozen': 1, 'hat': 1, 'morning-after': 1, 'starla': 1, 'sneeze': 1, 'drunkenly': 1, \"somethin's\": 1, 'dingy': 1, 'defiantly': 1, 'examines': 1, 'nightmare': 1, 'deli': 1, 'stomach': 1, \"coffee'll\": 1, 'tenuous': 1, 'phase': 1, 'characteristic': 1, 'soft': 1, 'statesmanlike': 1, 'puzzle': 1, 'lift': 1, 'triple-sec': 1, 'legs:': 1, 'commit': 1, 'tight': 1, 'duffed': 1, 'mailbox': 1, 'shifty': 1, 'furiously': 1, 'powered': 1, 'gruesome': 1, 'merchants': 1, 'mushy': 1, 'infor': 1, 'shades': 1, 'tickets': 1, 'dentist': 1, 'labor': 1, 'platinum': 1, 'peabody': 1, 'seductive': 1, 'heart-broken': 1, 'hippies': 1, 'casting': 1, 'shoe': 1, 'twenty-six': 1, 'tubman': 1, 'thrown': 1, 'dae': 1, 'intoxicants': 1, 'issues': 1, 'horrors': 1, \"elmo's\": 1, 'highball': 1, 'floating': 1, \"eatin'\": 1, 'compromise:': 1, 'endorsed': 1, 'vestigial': 1, 'ratted': 1, 'meteor': 1, 'passenger': 1, 'strangles': 1, 'wheeeee': 1, 'squeal': 1, 'cruiser': 1, 'louse': 1, 'tomato': 1, 'zack': 1, 'guiltily': 1, 'crisis': 1, 'escort': 1, 'lotsa': 1, 'wishing': 1, 'immiggants': 1, 'sketch': 1, 'scratcher': 1, 'groveling': 1, '1979': 1, 'darn': 1, 'fights': 1, 'prince': 1, 'chunk': 1, \"thing's\": 1, 'exploiter': 1, \"soakin's\": 1, 'restless': 1, 'studied': 1, 'michael': 1, 'rumor': 1, 'bumblebee_man:': 1, \"fans'll\": 1, 'beached': 1, \"speakin'\": 1, 'sells': 1, 'harm': 1, 'support': 1, 'accepting': 1, 'burger': 1, 'shtick': 1, 'file': 1, 'guessing': 1, 'octa-': 1, 'pink': 1, 'donut': 1, 'coherent': 1, 'slit': 1, 'flames': 1, \"tony's\": 1, 'gentle': 1, 'harvey': 1, 'cummerbund': 1, 'almond': 1, 'ballot': 1, 'test-lady': 1, 'tank': 1, 'orphan': 1, 'knives': 1, \"bettin'\": 1, 'mitts': 1, 'cocks': 1, 'pepsi': 1, 'flophouse': 1, 'reaches': 1, 'mid-conversation': 1, 'reed': 1, 'knit': 1, 'signal': 1, 'older': 1, 'ninety-eight': 1, 'venom': 1, 'runt': 1, 'vehicle': 1, \"wallet's\": 1, 'jã¤germeister': 1, 'taught': 1, 'brown': 1, 'lear': 1, 'thirty-three': 1, \"president's\": 1, 'mozzarella': 1, 'universe': 1, 'attractive_woman_#1:': 1, 'insulin': 1, 'wealthy': 1, 'cerebral': 1, 'ceremony': 1, 'gulps': 1, 'shard': 1, 'privacy': 1, 'tracks': 1, 'gr-aargh': 1, 'continued': 1, 'assert': 1, 'roach': 1, 'hotenhoffer': 1, 'italian': 1, 'sink': 1, 'gluten': 1, 'groans': 1, 'robbers': 1, 'angrily': 1, 'composite': 1, 'whispered': 1, 'wildfever': 1, 'listens': 1, 'einstein': 1, 'aggravazes': 1, 'panicked': 1, 'entrance': 1, 'jackson': 1, 'snitch': 1, 'sanctuary': 1, 'voted': 1, 'criminal': 1, 'cooker': 1, 'clipped': 1, 'youngsters': 1, 'jer': 1, 'recreate': 1, 'shorter': 1, 'fry': 1, 'quadruple-sec': 1, 'occasion': 1, 'grammy': 1, 'occurred': 1, 'beer:': 1, 'man_at_bar:': 1, 'lessee': 1, 'killing': 1, 'stripe': 1, 'childless': 1, 'bannister': 1, 'pharmaceutical': 1, 'fence': 1, 'reactions': 1, 'whatchamacallit': 1, 'clips': 1, 'cockroaches': 1, 'adequate': 1, 'minors': 1, 'pictured': 1, 'glummy': 1, 'enthusiastically': 1, 'blank': 1, 'tribute': 1, 'race': 1, 'obama': 1, 'marjorie': 1, 'cheapskates': 1, 'victim': 1, \"car's\": 1, 'espn': 1, 'specified': 1, 'tolerable': 1, 'ape-like': 1, 'orders': 1, 'forty-two': 1, 'wazoo': 1, 'walther': 1, 'puke-pail': 1, 'faceful': 1, 'gossipy': 1, 'shareholder': 1, 'safecracker': 1, 'ends': 1, 'publishers': 1, 'ivanna': 1, 'halloween': 1, 'cab': 1, 'gimmicks': 1, 'beings': 1, 'unsanitary': 1, 'perfume': 1, 'stinger': 1, 'conditioning': 1, 'jacksons': 1, 'itchy': 1, 'julienne': 1, 'cupid': 1, \"ya'\": 1, \"fendin'\": 1, 'nfl_narrator:': 1, 'sunglasses': 1, 'training': 1, 'erasers': 1, 'bouquet': 1, 'nantucket': 1, 'predictable': 1, 'temper': 1, 'period': 1, 'congoleum': 1, 'albeit': 1, 'manatee': 1, 'pugilist': 1, \"england's\": 1, 'hunka': 1, 'handler': 1, \"tap-pullin'\": 1, '_marvin_monroe:': 1, 'stengel': 1, 'wrecking': 1, 'strictly': 1, 'burglary': 1, 'impending': 1, 'jukebox_record:': 1, 'winston': 1, 'wh': 1, 'murderously': 1, 'hispanic_crowd:': 1, 'stolen': 1, 'julep': 1, 'charged': 1, 'depressant': 1, 'executive': 1, 'sledge-hammer': 1, 'protestantism': 1, 'stripes': 1, 'presumir': 1, 'whirlybird': 1, 'sponsoring': 1, 'adult': 1, 'sizes': 1, 'sounded': 1, 'fledgling': 1, 'drove': 1, 'crapmore': 1, 'in-in-in': 1, 'stretch': 1, 'it:': 1, 'rush': 1, 'thawing': 1, 'espousing': 1, 'pawed': 1, 'mirror': 1, 'ribbon': 1, 'yuh-huh': 1, 'whoopi': 1, 'carney': 1, 'technical': 1, 'tied': 1, 'commanding': 1, 'limits': 1, 'harvesting': 1, 'boned': 1, 'kucinich': 1, 'dirty': 1, 'blissful': 1, 'so-ng': 1, 'squabbled': 1, 'sponsor': 1, 'perfected': 1, 'juke': 1, 'cosmetics': 1, 'poetics': 1, 'hoped': 1, 'glitterati': 1, 'muhammad': 1, 'lard': 1, 'swooning': 1, 'faiths': 1, 'badly': 1, 'throats': 1, '4x4': 1, 'jerk-ass': 1, 'brunswick': 1, 'washer': 1, 'philosophic': 1, 'streetcorner': 1, 'woe:': 1, 'x-men': 1, \"'ceptin'\": 1, \"stabbin'\": 1, 'addiction': 1, 'haikus': 1, 'encouraging': 1, 'fleabag': 1, 'west': 1, 'africanized': 1, 'chinese_restaurateur:': 1, 'mouths': 1, 'shame': 1, 'brusque': 1, 'refreshing': 1, 'oddest': 1, 'astrid': 1, 'reluctantly': 1, 'gel': 1, 'drummer': 1, 'spouses': 1, 'repairman': 1, 'falsetto': 1, 'updated': 1, 'ratio': 1, \"don'tcha\": 1, 'stagehand:': 1, 'encore': 1, 'post-suicide': 1, 'wuss': 1, 'speed': 1, 'ho-la': 1, 'pee': 1, 'site': 1, 'jams': 1, 'marry': 1, 'groan': 1, 'worldly': 1, 'beer-jerks': 1, 'conversations': 1, 'relaxed': 1, 'perplexed': 1, 'radiation': 1, 'layer': 1, 'legend': 1, 'ehhh': 1, 'dignity': 1, \"lady's\": 1, 'store-bought': 1, 'multi-purpose': 1, 'connection': 1, 'aged': 1, 'norway': 1, 'awfully': 1, 'fondest': 1, 'clubs': 1, 'arts': 1, \"wait'll\": 1, 'hostile': 1, 'widow': 1, 'prayers': 1, 'forgiven': 1, 'spits': 1, 'methinks': 1, 'stamps': 1, 'valuable': 1, 'luv': 1, 'offshoot': 1, 'sticking': 1, 'homer_doubles:': 1, 'dirge-like': 1, 'benjamin': 1, 'lindsay': 1, 'generosity': 1, 'invulnerable': 1, 'marvelous': 1, 'doppler': 1, 'decision': 1, 'handwriting': 1, 'space-time': 1, '2': 1, 'brainheaded': 1, 'rancid': 1, 'prep': 1, 'interrupting': 1, 'faulkner': 1, 'softer': 1, 'soul-crushing': 1, 'sympathizer': 1, 'statue': 1, \"writin'\": 1, 'clown-like': 1, 'chow': 1, 'hems': 1, 'flynt': 1, 'brotherhood': 1, 'distinct': 1, 'pretzels': 1, 'flourish': 1, \"cuckold's\": 1, 'flew': 1, 'suspended': 1, 'conclude': 1, 'literary': 1, 'seminar': 1, 'whaaa': 1, 'irrelevant': 1, 'gheet': 1, 'believer': 1, \"doctor's\": 1, 'cronies': 1, 'glamour': 1, 'martini': 1, 'eight-year-old': 1, 'lend': 1, 'rent': 1, 'evasive': 1, 'cheaped': 1, 'sudoku': 1, 'astronauts': 1, 'ladder': 1, 'spooky': 1, 'territorial': 1, 'pajamas': 1, 'dammit': 1, 'pages': 1, 'heh-heh': 1, \"larry's\": 1, 'slot': 1, 'thorn': 1, 'breathalyzer': 1, 'rods': 1, 'station': 1, 'life:': 1, 'tall': 1, 'thrust': 1, 'fourteen:': 1, 'backward': 1, 'according': 1, 'nã£o': 1, 'proof': 1, 'unbelievable': 1, 'peeping': 1, 'smelly': 1, 'wiggle-frowns': 1, 'wittgenstein': 1, 'jigger': 1, 'h': 1, 'pumping': 1, 'charges': 1, 'bad-mouth': 1, 'relaxing': 1, 'exultant': 1, 'kool': 1, 'stan': 1, 'soaking': 1, 'application': 1, 'brine': 1, 'writer:': 1, 'bobo': 1, 'effervescence': 1, 'deals': 1, 'affects': 1, 'snatch': 1, 'gambler': 1, 'journey': 1, 'ashtray': 1, 'rebuttal': 1, \"mcstagger's\": 1, \"pickin'\": 1, 'shill': 1, 'liser': 1, 'soaked': 1, 'horribilis': 1, 'celeste': 1, 'coal': 1, 'owes': 1, 'hillbillies': 1, 'play/': 1, 'stalking': 1, 'toledo': 1, 'prolonged': 1, 'selfish': 1, 'tiger': 1, 'frankenstein': 1, 'anthony_kiedis:': 1, 'sticker': 1, 'credit': 1, 'liven': 1, 'pre-recorded': 1, 'femininity': 1, 'nagurski': 1, 'runaway': 1, 'birthplace': 1, 'kidnaps': 1, 'hemorrhage-amundo': 1, 'flaking': 1, 'tomatoes': 1, 'inanely': 1, 'usual': 1, 'headhunters': 1, \"school's\": 1, 'influence': 1, 'imaginary': 1, 'exited': 1, 'owned': 1, 'country': 1, 'players': 1, 'errrrrrr': 1, 'understood:': 1, 'poison': 1, 'kirk_voice_milhouse:': 1, 'apron': 1, 'stay-puft': 1, 'sitcom': 1, 'bronco': 1, 'cattle': 1, 'hounds': 1, 'ear': 1, 'sunny': 1, \"can't-believe-how-bald-he-is\": 1, 'streetlights': 1, 'fad': 1, 'dealt': 1, 'lovejoy': 1, \"secret's\": 1, \"show's\": 1, \"'kay-zugg'\": 1, \"askin'\": 1, 'displeased': 1, 'laney': 1, 'caricature': 1, 'helpless': 1, 'liability': 1, 'guard': 1, 'up-bup-bup': 1, 'stairs': 1, 'hooray': 1, 'competing': 1, 'parrot': 1, 'premise': 1, 'stooges': 1, 'country-fried': 1, 'takeaway': 1, 'allegiance': 1, 'painted': 1, 'grace': 1, 'miracle': 1, 'malfeasance': 1, \"playin'\": 1, 'boxer:': 1, 'society': 1, 'abusive': 1, \"jimbo's_dad:\": 1, 'faint': 1, \"pressure's\": 1, 'loudly': 1, 'sealed': 1, \"getting'\": 1, 'elmer': 1, \"y'see\": 1, 'lifestyle': 1, 'colossal': 1, '91': 1, 'plaintive': 1, 'lemonade': 1, 'carolina': 1, 'bonfire': 1, 'wakede': 1, 'genuinely': 1, 'flash': 1, 'trainers': 1, 'gumbo': 1, 'pigtown': 1, 'surprised/thrilled': 1, 'jay': 1, 'th': 1, 'other_book_club_member:': 1, 'mags': 1, 'innocuous': 1, 'asses': 1, 'rafters': 1, 'smoker': 1, 'eddie': 1, 'gut': 1, 'lawyer': 1, 'firing': 1, 'mustard': 1, \"lovers'\": 1, \"daughter's\": 1, 'apart': 1, 'a-lug': 1, 'anonymous': 1, 'fixes': 1, 'poke': 1, 'my-y-y-y-y-y': 1, 'argue': 1, 'repressed': 1, 'crippling': 1, 'appendectomy': 1, 'unattractive': 1, 'attraction': 1, 'brother-in-law': 1, 'neon': 1, 'lecture': 1, 'hooky': 1, \"family's\": 1, 'sniper': 1, \"challengin'\": 1, 'combination': 1, 'arrange': 1, 'wham': 1, 'chairman': 1, 'beards': 1, '7g': 1, 'bumped': 1, 'artist': 1, 'menlo': 1, 'quimby': 1, 'allowance': 1, 'recipe': 1, 'everyday': 1, 'tha': 1, 'waking-up': 1, 'cesss': 1, 'mind-numbing': 1, 'ruled': 1, 'barter': 1, 'society_matron:': 1, 'producers': 1, 'chili': 1, 'releases': 1, 'perch': 1, 'equal': 1, 'patron_#2:': 1, 'chips': 1, 'fistiana': 1, 'larry': 1, 'haws': 1, 'radiator': 1, '3rd_voice:': 1, 'sternly': 1, 'stewart': 1, 'moe-lennium': 1, 'sixty-five': 1, 'buyer': 1, 'portentous': 1, 'aerospace': 1, 'xx': 1, \"yesterday's\": 1, 'elocution': 1, 'funniest': 1, 'achebe': 1, 'atari': 1, 'monkeyshines': 1, 'fonzie': 1, 'bathed': 1, 'shells': 1, \"aren'tcha\": 1, 'scientists': 1, 'mmm-hmm': 1, 'wreck': 1, 'the_edge:': 1, 'youth': 1, 'reconsidering': 1, 'wantcha': 1, 'continuum': 1, 'bellyaching': 1, 'kissed': 1, 'lump': 1, 'plastered': 1, 'dislike': 1, 'fund': 1, 'mumble': 1, 'junkyard': 1, 'irishman': 1, 'fiction': 1, 'lily-pond': 1, 'hyper-credits': 1, 'stagey': 1, 'anti-lock': 1, 'refreshment': 1, 'strokkur': 1, 'notices': 1, 'sorts': 1, 'tow-joes': 1, 'fdic': 1, 'babar': 1, 'beligerent': 1, 'steinbrenner': 1, 'hydrant': 1, 'lennyy': 1, 'happens': 1, 'e': 1, 'languages': 1, 'michelin': 1, 'hidden': 1, 'this:': 1, 'bono:': 1, 'four-drink': 1, 'filed': 1, 'what-for': 1, 'modestly': 1, 'blurbs': 1, 'breathless': 1, 'grammys': 1, 'remain': 1, 'nucular': 1, 'high-definition': 1, 'expired': 1, 'pretends': 1, 'fierce': 1, 'bachelor': 1, 'catch-phrase': 1, 'created': 1, 'newspaper': 1, 'valley': 1, 'refill': 1, 'competitive': 1, 'walked': 1, 'sticking-place': 1, 'clams': 1, 'overstressed': 1, 'stacey': 1, 'contact': 1, 'beatings': 1, 'dennis': 1, 'pusillanimous': 1, 'swine': 1, 'temples': 1, 'religious': 1, 'champs': 1, 'replaced': 1, 'eurotrash': 1, \"games'd\": 1, 'revenge': 1, 'diminish': 1, 'meaningfully': 1, 'sobo': 1, 'bulldozing': 1, 'humiliation': 1, 'vicious': 1, 'protecting': 1, 'salvation': 1, 'toy': 1, 'fortune': 1, 'wienerschnitzel': 1, 'cecil_terwilliger:': 1, 'chinua': 1, 'explanation': 1, 'highest': 1, \"man's\": 1, 'grope': 1, 'napkins': 1, 'cab_driver:': 1, 'sour': 1, 'mm-hmm': 1, 'unattended': 1, '14': 1, 'resigned': 1, 'acquitted': 1, \"tonight's\": 1, 'low-blow': 1, 'bedridden': 1, 'forced': 1, 'unfair': 1, 'william': 1, 'unearth': 1, 'sending': 1, 'flexible': 1, 'barstools': 1, 'supermodel': 1, 'limber': 1, 'california': 1, 'stares': 1, 'rewound': 1, 'indeed': 1, 'virile': 1, 'investigating': 1, 'other_player:': 1, 'champignons': 1, \"enjoyin'\": 1, 'elves:': 1, 'afterglow': 1, 'heaving': 1, 'grammar': 1, 'kay': 1, 'right-handed': 1, 'beyond': 1, 'gunter': 1, 'playhouse': 1, 'dejected': 1, 'mary': 1, 'maude': 1, 'gamble': 1, 'hearing': 1, 'otherwise': 1, 'trade': 1, 'nicer': 1, 'bid': 1, 'dark': 1, 'cocking': 1, \"rentin'\": 1, 'yells': 1, 'lee': 1, 'bits': 1, 'dictating': 1, 'solely': 1, \"must've\": 1, 'host': 1, \"blowin'\": 1, 'necklace': 1, 'parents': 1, 'eve': 1, 'teriyaki': 1, 'robin': 1, 'outstanding': 1, 'happiness': 1, 'committee': 1, 'basement': 1, 'awareness': 1, 'belly-aching': 1, 'slop': 1, 'sesame': 1, 'ironic': 1, 'chapstick': 1, 'female_inspector:': 1, 'mocking': 1, 'toms': 1, 'righ': 1, 'tanking': 1, 'moving': 1, 'horror': 1, 'separator': 1, 'deny': 1, 'verticality': 1, 'single-mindedness': 1, 'pyramid': 1, 'nickel': 1, 'triumphantly': 1, 'office': 1, 'ralph': 1, \"b-52's:\": 1, \"she'd\": 1, \"g'ahead\": 1, 'tuna': 1, 'royal': 1, 'travel': 1, 'nemo': 1, 'uses': 1, 'bleacher': 1, 'half-back': 1, 'edna-lover-one-seventy-two': 1, 'lanes': 1, 'tearfully': 1, 'fatso': 1, 'jazz': 1, 'series': 1, 'blowfish': 1, 'lizard': 1, 'togetherness': 1, 'recap:': 1, 'kills': 1, 'nitwit': 1, 'strain': 1, 'hah': 1, 'fifth': 1, 'employees': 1, 'squirrels': 1, 'abercrombie': 1, 'twenty-four': 1, 'faded': 1, 'texan': 1, 'done:': 1, 'dumbbell': 1, 'slick': 1, 'go-near-': 1, 'missing': 1, 'pinball': 1, 'defected': 1, 'slurps': 1, 'rife': 1, 'expense': 1, 'sloe': 1, 'butterball': 1, 'comment': 1, 'breathtaking': 1, 'twentieth': 1, 'flat': 1, 'barney-type': 1, 'ideas': 1, 'jobless': 1, 'heck': 1, \"betsy'll\": 1, 'ivory': 1, 'sub-monkeys': 1, 'senators:': 1, 'super-tough': 1, 'notch': 1, 'assumed': 1, 'patrons:': 1, 'maximum': 1, 'eu': 1, 'fist': 1, 'automobiles': 1, 'nbc': 1, 'uninhibited': 1, 'newsies': 1, 'suru': 1, 'showered': 1, 'equivalent': 1, 'pall': 1, 'gayer': 1, 'illegally': 1, 'shhh': 1, 'starters': 1, 'coin': 1, 'quero': 1, 'exact': 1, 'jaegermeister': 1, 'ruby-studded': 1, 'choices:': 1, 'aristotle:': 1, 'danny': 1, 'rookie': 1, 'snout': 1, 'syndicate': 1, 'killer': 1, 'punkin': 1, 'briefly': 1, 'soothing': 1, 'peppers': 1, 'typing': 1, 'comeback': 1, 'baloney': 1, 'avalanche': 1, 'gol-dangit': 1, 'well-wisher': 1, 'signed': 1, 'dutch': 1, 'anderson': 1, 'eightball': 1, 'hate-hugs': 1, 'dies': 1, '8': 1, 'germans': 1, 'access': 1, 'mines': 1, 'lady_duff:': 1, 'remodel': 1, 'idiots': 1, 'haircuts': 1, 'williams': 1, 'moe-clone': 1, 'certainly': 1, 'gotcha': 1, \"messin'\": 1, 'catty': 1, 'appeals': 1, 'racially-diverse': 1, 'convinced': 1, 'brief': 1, 'annual': 1, 'multi-national': 1, 'ripping': 1, 'blur': 1, 'kenny': 1, 'tourist': 1, 'macaulay': 1, \"handwriting's\": 1, 'author': 1, 'beard': 1, 'faith': 1, 'theory': 1, 'stained-glass': 1, 'fella': 1, 'carny:': 1, 'low-life': 1, 'canoodling': 1, 'choose': 1, 'sight-unseen': 1, 'nos': 1, 'scrutinizing': 1, 'disdainful': 1, 'winner': 1, 'bounced': 1, 'wore': 1, 'polygon': 1, \"aristotle's\": 1, 'miss_lois_pennycandy:': 1, \"smokin'\": 1, 'mater': 1, 'blessing': 1, 'cuff': 1, 'exits': 1, 'carnival': 1, 'frazier': 1, 'harrowing': 1, 'november': 1, 'butter': 1, 'occurs': 1, \"tv's\": 1, 'canyoner-oooo': 1, 'add': 1, 'painless': 1, 'sieben-gruben': 1, 'kodos:': 1, 'legoland': 1, 'goblins': 1, 'proposition': 1, 'kazoo': 1, 'nuked': 1, 'totalitarians': 1, 'marshmallow': 1, 'singing/pushing': 1, 'bumbling': 1, 'investment': 1, 'represents': 1, 'earpiece': 1, 'cap': 1, 'pretentious_rat_lover:': 1, 'onion': 1, 'protesting': 1, 'befriend': 1, 'something:': 1, 'kl5-4796': 1, 'drains': 1, 'sweat': 1, 'supervising': 1, 'toe': 1, 'drinking:': 1, 'noose': 1, 'worldview': 1, 'photographer': 1, 'uniforms': 1, 'purveyor': 1, 'destroyed': 1, 'dreamy': 1, 'agh': 1, 'lookalikes': 1, 'traitor': 1, 'locklear': 1, \"mo'\": 1, 'detective': 1, 'kirk': 1, 'agents': 1, 'lodge': 1, 'albert': 1, 'fiiiiile': 1, 'loboto-moth': 1, 'ticks': 1, 'numeral': 1, 'trail': 1, 'fears': 1, 'oils': 1, 'edge': 1, 'example': 1, 'guttural': 1, 'blossoming': 1, 'indigenous': 1, 'chicken': 1, 'cuckoo': 1, 'jasper_beardly:': 1, 'enveloped': 1, 'hideous': 1, 'moe-ron': 1, 'urge': 1, 'infatuation': 1, 'index': 1, 'event': 1, 'wobbly': 1, '/mr': 1, 'lease': 1, 'design': 1, 'quick-like': 1, 'chubby': 1, 'spitting': 1, 'homer_': 1, 'crappy': 1, 'ideal': 1, 'slurred': 1, 'virility': 1, 'infestation': 1, 'trees': 1, 'shyly': 1, 'spilled': 1, 'cologne': 1, 'sacajawea': 1, 'behavior': 1, 'vampire': 1, 'please/': 1, 'tummies': 1, 'libido': 1, 'presently': 1, 'cure': 1, 'lobster': 1, 'mexican_duffman:': 1, 'bon': 1, 'buttocks': 1, 'knocks': 1, 'dint': 1, 'stops': 1, 'negative': 1, 'measure': 1, 'tender': 1, 'yello': 1, 'homeland': 1, 'traitors': 1, 'kicks': 1, 'eaten': 1, 'wounds': 1, 'shesh': 1, 'ninety-nine': 1, 'distance': 1, 'massachusetts': 1, 'occupied': 1, 'lone': 1, 'experience': 1, 'tying': 1, 'stars': 1, 'leonard': 1, 'demo': 1, 'regretful': 1, 'tow-talitarian': 1, 'selective': 1, 'dash': 1, 'gardens': 1, 'eminence': 1, 'cajun': 1, 'circus': 1, 'jimmy': 1, 'furniture': 1, 'bubbles-in-my-nose-y': 1, 'scratching': 1, 'switched': 1, 'oooh': 1, 'ping-pong': 1, 'crowded': 1, 'inning': 1, 'incapable': 1, 'imitating': 1, 'rotten': 1, 'i/you': 1, 'monroe': 1, 'traditions': 1, 'wad': 1, 'recent': 1, 'scoffs': 1, 'cheering': 1, 'tar-paper': 1, 'sistine': 1, 'actor': 1, 'starlets': 1, 'title:': 1, \"renovatin'\": 1, 'marquee': 1, 'bullet-proof': 1, 'scruffy_blogger:': 1, 'snail': 1, 'putty': 1, 'settled': 1, 'chic': 1, 'mccarthy': 1, 'wind': 1, 'psst': 1, 'cavern': 1, 'disguise': 1, 'misconstrue': 1, 'korea': 1, '50-60': 1, 'dumb-asses': 1, 'plotz': 1, 'slab': 1, 'hockey-fight': 1, 'washouts': 1, 'dressing': 1, 'young_barfly:': 1, 'thirsty': 1, 'bowie': 1, 'chuckling': 1, 'humanity': 1, 'jerking': 1, 'glowers': 1, 'nurse': 1, 'hellhole': 1, 'enjoys': 1, \"mopin'\": 1, 'forget-me-drinks': 1, 'raggie': 1, 'attend': 1, 'language': 1, 'cage': 1, 'rekindle': 1, 'militia': 1, 'saving': 1, 'pointedly': 1, 'ungrateful': 1, 'loneliness': 1, 'ralphie': 1, \"donatin'\": 1, 'divorced': 1, 'forgets': 1, \"leavin'\": 1, 'hammer': 1, 'factor': 1, 'information': 1, 'magnanimous': 1, 'treehouse': 1, 'soaps': 1, 'donor': 1, 'laid': 1, 'leaving': 1, 'stage': 1, 'jovial': 1, 'priceless': 1, 'newsweek': 1, 'paper': 1, 'homunculus': 1, 'woodchucks': 1, 'hateful': 1, 'runners': 1, \"when's\": 1, 'brawled': 1, 'settles': 1, 'nor': 1, 'semi-imported': 1, 'wheels': 1, 'iranian': 1, 'intruding': 1, \"spyin'\": 1, 'intimacy': 1, 'scum-sucking': 1, 'fantastic': 1, 'hexa-': 1, 'diving': 1, 'batmobile': 1, 'nerd': 1, \"y'money's\": 1, 'hangover': 1, \"tootin'\": 1, 'gentles': 1, 'branding': 1, 'ancestors': 1, 'rafter': 1, 'flame': 1, 'however': 1, 'depression': 1, 'slogan': 1, 'offensive': 1, 'pen': 1, 'yew': 1, 'madonna': 1, 'hustle': 1, 'indifference': 1, 'getup': 1, 'limericks': 1, 'lobster-politans': 1, 'placed': 1, 'coyly': 1, 'reunion': 1, 'scrubbing': 1, \"bart'd\": 1, 'we-we-we': 1, 'pas': 1, 'temple': 1, \"o'reilly\": 1, 'slim': 1, 'choke': 1, 'decadent': 1, \"collector's\": 1, 'disposal': 1, 'dana_scully:': 1, 'majesty': 1, 'overhearing': 1, 'proper': 1, 'warned': 1, 'hooters': 1, 'helpful': 1, 'unhook': 1, 'quarry': 1, 'nominated': 1, \"swishifyin'\": 1, 'pronounce': 1, 'son-of-a': 1, 'suburban': 1, 'feminist': 1, 'swelling': 1, 'caholic': 1, 'sheet': 1, 'fighter': 1, 'grey': 1, 'disgracefully': 1, 'said:': 1, 'superdad': 1, 'pillows': 1, 'happily:': 1, 'jogging': 1, 'manboobs': 1, 'illustrates': 1, 'opens': 1, 'monday': 1, 'patrons': 1, 'rom': 1, 'faced': 1, \"mecca's\": 1, 'clandestine': 1, 'railroads': 1, 'alibi': 1, 'lookalike:': 1, 'die-hard': 1, 'imported-sounding': 1, 'rapidly': 1, 'bunion': 1, 'andrew': 1, 'estranged': 1, 'bills': 1, 'agency': 1, 'ons': 1, 'interesting': 1, 'larson': 1, 'newly-published': 1, 'spectacular': 1, 'louisiana': 1, 'reserved': 1, 'barbara': 1, 'cecil': 1, 'suspiciously': 1, 'luckiest': 1, 'oopsie': 1, 'cats': 1, 'countryman': 1, 'eats': 1, 'focused': 1, \"dimwit's\": 1, 'intakes': 1, 'chapter': 1, 'cricket': 1, 'bolting': 1, \"choosin'\": 1, 'science': 1, 'gangrene': 1, 'legal': 1, 'dull': 1, 'thanking': 1, 'ignoring': 1, 'victorious': 1, 'cleaning': 1, 'correction': 1, 'mulder': 1, 'amnesia': 1, 'billiard': 1, \"can'tcha\": 1, 'delts': 1, 'stinky': 1, 'appalled': 1, \"tinklin'\": 1, 'pine': 1, 'abolish': 1, 'good-looking': 1, 'obsessive-compulsive': 1, 'polish': 1, 'dishrag': 1, 'saga': 1, 'pepper': 1, 'fat-free': 1, 'warranty': 1, 'sweden': 1, 'rented': 1, 'schorr': 1, 'windshield': 1, 'app': 1, 'earth': 1, 'wholeheartedly': 1, 'tapered': 1, 'pep': 1, 'twelve-step': 1, 'fainted': 1, 'online': 1, 'ninth': 1, \"pullin'\": 1, 'gruff': 1, 'mostly': 1, 'coupon': 1, 'wok': 1, 'goodwill': 1, 'simpsons': 1, 'crony': 1, 'watched': 1, 'sedaris': 1, 'piling': 1, 'item': 1, 'watashi': 1, 'quarter': 1, 'olive': 1, 'pizza': 1, 'rector': 1, 'ditched': 1, 'kentucky': 1, 'crow': 1, \"somebody's\": 1, 'blooded': 1, 'farewell': 1, 'decide:': 1, 'triangle': 1, 'choked': 1, 'thrilled': 1, 'neighboreeno': 1, 'madison': 1, 'hitchhike': 1, 'parenting': 1, '10:15': 1, 'employment': 1, 'gutenberg': 1, 'wiggle': 1, 'tooth': 1, 'badge': 1, 'squishee': 1, 'ohhhh': 1, 'moonnnnnnnn': 1, 'wrapped': 1, 'grinch': 1, \"spaghetti-o's\": 1, 'ronstadt': 1, 'sheriff': 1, 'take-back': 1, 'boxcars': 1, 'stumble': 1, 'skinny': 1, 'leak': 1, 'taunting': 1, 'holy': 1, 'clearing': 1, 'man_with_crazy_beard:': 1, 'rugged': 1, 'dizer': 1, 'contract': 1, 'disturbing': 1, 'skills': 1, 'donate': 1, 'chumbawamba': 1, 'backing': 1, 'cheaper': 1, 'crotch': 1, 'nature': 1, 'musses': 1, 'spit-backs': 1, 'unforgettable': 1, '1-800-555-hugs': 1, 'wikipedia': 1, 'persia': 1, 'winks': 1, 'frontrunner': 1, 'dime': 1, \"fishin'\": 1, 'p-k': 1, 'ehhhhhh': 1, 'consulting': 1, 'sideshow_bob:': 1, 'nap': 1, 'nursemaid': 1, 'limited': 1, 'installed': 1, \"'pu\": 1, 'noosey': 1, 'grudgingly': 1, 'whim': 1, 'clench': 1, 'liquor': 1, 'beans': 1, 'overturned': 1, 'ahhhh': 1, 'ehhhhhhhhh': 1, 'alls': 1, 'customers-slash-only': 1, 'expecting': 1, 'rutabaga': 1, 'insurance': 1, 'cowboy': 1, 'flashing': 1, 'choices': 1, 'stink': 1, 'afloat': 1, 'two-drink': 1, 'chip': 1, 'eww': 1, 'exhale': 1, 'oh-ho': 1, 'cobra': 1, \"'your\": 1, 'dexterous': 1, 'ignorant': 1, 'kisser': 1, 'housewife': 1, 'pro': 1, 'sued': 1, 'swig': 1, 'comedies': 1, \"floatin'\": 1, 'goal': 1, 'device': 1, 'gift:': 1, 'dreamily': 1, 'safely': 1, 'most:': 1, 'tidy': 1, 'ummmmmmmmm': 1, 'y': 1, 'simple': 1, 'coms': 1, 'kneeling': 1, 'enthusiasm': 1, \"knockin'\": 1, 'mistresses': 1, 'doooown': 1, 'bathtub': 1, \"battin'\": 1, 'salary': 1, 'ingrates': 1, 'housework': 1, 'stalin': 1, 'choked-up': 1, \"costume's\": 1, \"ragin'\": 1, 'ore': 1, \"city's\": 1, 'fills': 1, 'knowingly': 1, 'cleveland': 1, 'fortensky': 1, 'churchy': 1, 'network': 1, 'arabs': 1, 'slapped': 1, 'moe_recording:': 1, 'moe-near-now': 1, 'three-man': 1, 'absentminded': 1, 'agent_miller:': 1, 'crimes': 1, 'accelerating': 1, \"bladder's\": 1, 'mis-statement': 1, 'nail': 1, 'forecast': 1, 'betcha': 1, '$42': 1, 'kahlua': 1, 'gin-slingers': 1, 'cartoons': 1, 'stalwart': 1, 'bonding': 1, 'dã¼ffenbraus': 1, 'jig': 1, 'spamming': 1, 'adjourned': 1, 'rusty': 1, 'tasty': 1, 'yellow-belly': 1, 'sharity': 1, 'paste': 1, 'slaves': 1, 'sweater': 1, 'pills': 1, 'desire': 1, 'glitz': 1, 'director:': 1, 'noooooooooo': 1, 'habit': 1, 'occasional': 1, 'vengeful': 1, 'hugh': 1, 'stats': 1, 'dramatically': 1, 'furry': 1, 'freed': 1, 'griffith': 1, 'ew': 1, 'hammy': 1, 'poured': 1, 'exhibit': 1, 'boxers': 1, 'gargoyles': 1, 'windowshade': 1, 'disaster': 1, 'premiering': 1, 'bum:': 1, 'tobacky': 1, 'rump': 1, 'pinchpenny': 1, 'gees': 1, 'heliotrope': 1, 'heroism': 1, 'pilsner-pusher': 1, 'padres': 1, 'position': 1, 'ivy-covered': 1, 'affectations': 1, 'dory': 1, 'volunteer': 1, 'car:': 1, 'lorre': 1, 'anyhoo': 1, 'kinds': 1, 'sugar-me-do': 1, 'compare': 1, 'fireworks': 1, 'envy-tations': 1, 'junebug': 1, 'appearance-altering': 1, 'detail': 1, 'cruise': 1, 'whaddya': 1, 'feisty': 1, 'slobs': 1, 'slipped': 1, 'forty-nine': 1, 'nameless': 1, 'chain': 1, 'tear': 1, 'fast-paced': 1, 'murdoch': 1, 'intelligent': 1, 'throws': 1, 'pip': 1, \"neighbor's\": 1, 'jubilation': 1, 'full-blooded': 1, 'dispenser': 1, 'disillusioned': 1, 'starla:': 1, 'nevada': 1, 'washed': 1, 'coma': 1, 'concentrate': 1, 'whoops': 1, \"'now\": 1, 'apply': 1, 'foodie': 1, 'harmony': 1, 'scatter': 1, 'rockers': 1, 'thousand-year': 1, 'trapping': 1, 'specific': 1, 'telegraph': 1, 'fail': 1, 'slays': 1, 'voyager': 1, 'contemporary': 1, 'alva': 1, \"lefty's\": 1, 'cloudy': 1, 'moesy': 1, 'craft': 1, 'lofty': 1, 'homeless': 1, 'entertainer': 1, 'supply': 1, \"'ere\": 1, 'bachelorhood': 1, 'candles': 1, 'voodoo': 1, 'remembers': 1, 'longest': 1, 'rubbed': 1, \"plank's\": 1, 'enforced': 1, 'para': 1, 'crab': 1, 'assume': 1, 'extended': 1, 'hollowed-out': 1, 'americans': 1, \"friend's\": 1, 'gore': 1, 'shoulda': 1, 'options': 1, 'notorious': 1, 'eighty-three': 1, 'shores': 1, 'undies': 1, 'ghouls': 1, 'donated': 1, 'dictator': 1, 'mock-up': 1, 'associate': 1, 'permitting': 1, 'pile': 1, 'self-satisfied': 1, 'life-extension': 1, 'swell': 1, 'two-thirds-empty': 1, 'hike': 1, 'fools': 1, 'shack': 1, 'uncreeped-out': 1, 'whatsit': 1, 'courteous': 1, 'yee-ha': 1, \"dolph's_dad:\": 1, 'anti-crime': 1, 'grains': 1, 'occurrence': 1, 'alpha-crow': 1, 'upsetting': 1, 'pulitzer': 1, 'dumpster': 1, 'federal': 1, 'blamed': 1, 'ought': 1, 'sap': 1, 'repay': 1, 'doctor': 1, \"homer'll\": 1, 'stood': 1, '70': 1, \"treatin'\": 1, 'knuckle-dragging': 1, 'chunky': 1})\n",
      "sorted_vocab\n",
      "['||period||', '||return||', '||comma||', '||left_paren||', '||right_paren||', 'the', 'i', 'you', '||exclamation_mark||', 'moe_szyslak:', '||question_mark||', 'a', 'homer_simpson:', 'to', 'and', 'of', 'my', 'it', 'that', 'in', '||quotation_mark||', 'me', 'is', 'this', \"i'm\", 'for', 'your', 'homer', 'on', 'hey', 'moe', 'oh', 'no', 'lenny_leonard:', 'what', 'with', 'yeah', 'all', 'just', 'like', 'but', 'barney_gumble:', 'so', 'be', 'here', 'carl_carlson:', \"don't\", 'have', 'up', \"it's\", 'well', 'out', 'do', 'was', 'got', 'are', 'get', 'we', 'uh', \"that's\", 'one', \"you're\", 'not', 'now', 'can', 'know', '||dash||', 'at', 'right', '/', 'how', 'if', 'back', 'marge_simpson:', 'about', 'from', 'he', 'go', 'gonna', 'they', 'there', 'beer', 'good', 'who', 'an', 'man', 'okay', 'his', 'little', 'as', 'some', 'then', \"can't\", 'never', \"i'll\", 'come', 'think', 'could', 'him', \"i've\", 'see', 'want', 'really', 'look', 'too', 'guys', 'been', 'make', 'when', 'why', 'ya', 'bar', 'her', 'did', 'say', 'time', 'or', 'marge', 'gotta', 'ah', 'take', 'love', 'down', 'into', 'more', 'our', 'am', 'off', 'guy', 'sure', 'barney', 'two', \"there's\", 'thing', 'lisa_simpson:', 'would', \"we're\", 'tell', 'let', 'need', \"he's\", 'where', 'had', 'big', 'money', 'us', 'over', 'bart_simpson:', 'sorry', 'something', \"what's\", 'drink', 'only', 'by', 'ever', 'way', 'day', 'will', 'wait', 'she', 'chief_wiggum:', 'give', 'even', 'huh', \"i'd\", 'new', 'god', \"ain't\", 'those', \"didn't\", 'people', 'great', 'phone', 'much', 'eh', \"moe's\", 'has', 'lenny', 'maybe', 'were', 'life', 'than', 'going', 'mean', 'place', \"you've\", 'should', 'mr', 'around', 'these', 'better', 'still', 'wanna', 'friend', 'home', \"'em\", 'old', 'help', 'please', 'before', 'name', 'noise', 'night', 'last', 'whoa', 'tv', 'aw', 'seymour_skinner:', 'made', 'face', 'boy', 'any', 'call', 'drunk', \"'cause\", 'put', 'duff', 'hello', 'thanks', 'three', 'looking', 'bad', 'car', 'their', 'again', 'listen', \"let's\", 'very', 'best', 'first', 'does', 'yes', 'wow', 'them', 'another', 'while', 'looks', 'ooh', 'every', 'kent_brockman:', 'said', 'other', 'wife', 'work', 'apu_nahasapeemapetilon:', 'guess', 'feel', 'sweet', 'dad', \"won't\", 'years', 'springfield', 'play', 'tonight', 'singing', 'everybody', 'find', 'after', 'voice', \"they're\", 'dr', 'sobs', 'thought', 'kids', 'things', 'buy', 'might', 'girl', 'happy', 'since', 'shut', 'check', 'beat', 'keep', 'nice', 'head', 'minute', 'world', 'because', 'show', \"who's\", 'lisa', 'bart', 'chuckle', 'use', 'sighs', 'friends', 'always', 'sings', 'carl', 'which', 'ow', 'someone', 'kid', \"you'll\", 'krusty_the_clown:', 'c', 'stupid', \"isn't\", 'anything', 'hundred', 'remember', 'laugh', 'seen', \"here's\", 'lot', 'talk', 'simpson', 'job', 'glass', 'laughs', 'hell', 'thank', 'chuckles', 'through', 'next', 'away', 'happened', 'matter', 'five', 'hope', 'believe', 'outta', 'kind', 'lost', 'pretty', 'says', 'woman', 'house', 'long', 'hear', \"nothin'\", 'turn', 'tavern', 'once', \"homer's\", 'stop', 'wish', 'fat', 'comes', 'book', '_montgomery_burns:', 'waylon_smithers:', 'real', 'family', 'nervous', 'ned_flanders:', \"c'mon\", 'four', 'wants', 'wrong', \"goin'\", 'grampa_simpson:', \"doin'\", 'game', 'ask', 'idea', 'business', 'myself', 'actually', 'party', 'loud', 'town', 'must', \"wouldn't\", 'many', 'enough', 'today', 'getting', 'everything', 'nobody', 'done', \"she's\", \"comin'\", 'problem', 'used', 'duffman:', 'burns', \"we've\", 'free', 'na', 'nah', 'took', 'woo', 'watch', 'hold', 'gee', 'um', 'bucks', 'sounds', 'sound', 'dollars', 'thinking', 'doing', 'maggie', 'reading', 'try', 'true', 'baby', 'secret', 'gimme', 'kill', 'excuse', 'stuff', 'makes', 'pants', 'being', 'chief', 'wanted', 'everyone', 'edna', 'most', 'canyonero', 'yourself', 'leave', 'under', 'pay', 'sell', \"where's\", 'beautiful', 'kemi:', 'daughter', 'care', 'dead', 'knew', 'dinner', 'went', 'smithers', 'points', 'sad', 'pick', 'mouth', 'tipsy', 'save', 'own', 'tough', 'pal', 'left', \"you'd\", 'worry', 'hurt', 'quickly', 'eyes', 'booze', 'ladies', 'feeling', 'funny', 'sign', 'came', 'excited', 'school', 'gave', 'break', 'drinking', 'fine', 'heard', 'gets', 'till', 'hi', 'die', 'quit', 'dog', 'tomorrow', 'hoo', 'camera', 'skinner', 'told', 'win', 'saw', 'hate', 'small', 'clean', 'forget', 'noises', 'eat', 'million', 'sir', 'loser', 'mad', 'nuts', 'easy', 'jacques:', \"aren't\", \"couldn't\", 'super', 'fire', 'burn', 'alcohol', 'fight', 'gasp', 'barflies:', 'twenty', 'loves', 'drive', 'date', 'hands', 'mom', 'seven', 'kinda', 'anyone', 'hand', 'calling', 'kirk_van_houten:', 'surprised', 'room', 'gone', 'read', 'cash', 'bring', 'artie_ziff:', 'without', 'flaming', 'krusty', 'high', 'anyway', 'geez', 'meet', \"haven't\", 'professor_jonathan_frink:', 'seymour', 'cut', 'trouble', 'chance', 'door', 'dear', 'each', 'bartender', \"somethin'\", \"talkin'\", \"drinkin'\", 'problems', \"doesn't\", \"y'know\", 'called', \"lookin'\", 'upset', 'already', \"wasn't\", 'tape', 'course', 'happen', 'turns', 'gentlemen', 'behind', 'sadly', 'coming', \"we'll\", 'low', 'six', 'heart', 'song', 'worried', ':', 'learn', 'realizing', 'disgusted', 'talking', 'the_rich_texan:', 'larry:', 'blame', 'straight', 'watching', 'stay', 'whole', 'change', 'bottle', \"gettin'\", 'end', 'bar_rag:', 'crazy', 'whatever', 'stand', 'moan', 'wiggum', 'war', 'ugly', 'sigh', 'snake_jailbird:', 'worse', 'sing', 'lady', 'eye', 'mmmm', 'trying', 'works', 'hours', 'close', 'throat', \"it'll\", 'steal', 'm', 'self', 'live', 'machine', 'least', 'quiet', 'dump', 'spend', 'keys', 'start', 'outside', 'fun', 'hot', 'uh-oh', 'probably', 'front', 'blue', 'light', 'playing', 'mother', 'annoyed', 'turned', 'alive', 'times', 'girls', 'apu', 'bowl', 'shocked', 'crowd:', 'late', 'either', 'tsk', 'perfect', 'poor', 'delete', 'barflies', 'person', 'air', 'thousand', 'police', 'ten', 'heh', 'private', 'greatest', 'year', 'stick', 'morning', \"shouldn't\", 'whip', \"'bout\", 'pull', 'learned', 'may', 'lousy', 'goodbye', 'young', 'marriage', 'gasps', 'second', 'thinks', 'drinks', 'such', 'else', 'married', 'soon', 'butt', 'bit', 'less', 'far', 'point', 'anymore', 'special', 'ma', 'joe', 'uh-huh', 'king', 'beers', 'anybody', 'goodnight', 'serious', 'christmas', 'minutes', 'kick', 'duffman', 'president', 'found', 'both', 'later', 'boxing', 'miss', 'smell', 'arm', 'eight', 'shotgun', 'goes', 'lemme', 'turning', \"how'd\", 'patty_bouvier:', 'walk', 'instead', 'throw', 'taking', 'open', 'american', 'ticket', 'agnes_skinner:', 'blood', 'picture', 'lucky', 'tab', 'ass', 'barn', 'box', 'angry', 'nods', 'store', 'shot', 'youse', 'couple', 'join', 'fifty', 'knows', 'nothing', 'buddy', 'rev', 'exactly', 'yet', 'boys', 'jacques', 'mind', 'cool', 'mayor_joe_quimby:', 'alone', 'letter', 'feet', 'pig', 'moron', 'card', 'news', 'glad', 'kiss', 'selma_bouvier:', 'return', 'etc', 'hide', 'finally', 'warm_female_voice:', 'advice', 'ned', 'warmly', 'using', 'o', 'proudly', 'dance', 'friendly', 'move', 'accident', 'table', 'grampa', '||semicolon||', 's', 'screw', 'saying', 'cold', 'though', 'la', 'days', 'japanese', 'run', 'city', 'walking', 'story', 'afraid', 'son', 'mrs', 'eggs', 'homie', 'somebody', 'number', 'ball', 'butts', 'dry', 'full', 'sitting', 'horrible', 'telling', 'glove', 'send', 'deal', \"he'll\", 'crap', \"kiddin'\", 'smile', 'forever', 'collette:', 'inside', 'wire', 'words', 'damn', 'broke', 'amazed', 'together', 'top', 'pour', 'intrigued', 'nine', 'ready', 'round', 'seems', 'moans', 'hmm', \"ol'\", 'paint', 'renee:', 'plant', 'plus', \"makin'\", 'word', 'means', 'young_marge:', 'english', 'welcome', 'happier', 'making', 'favorite', 'street', 'channel', 'terrible', 'hang', 'alright', 'himself', 'ahh', 'seat', 'narrator:', 'sotto', 'lucius:', 'rummy', 'scared', 'weird', 'peanuts', 'comic_book_guy:', 'ha', 'food', 'losers', 'huge', 'fellas', 'tap', 'fast', 'black', 'human', 'szyslak', 'tony', 'truth', 'princess', 'touched', '_julius_hibbert:', 'fat_tony:', 'class', 'half', 'quick', 'smells', 'sex', 'except', 'treasure', 'kent', 'rat', 'heaven', 'ice', 'romantic', 'giving', 'gumbel', 'power', 'dumb', 'tune', 'takes', 'week', 'invented', 'manjula_nahasapeemapetilon:', 'sick', 'jukebox', 'dunno', 'holds', 'fill', 'admit', 'honest', 'omigod', 'set', \"we'd\", 'along', 'safe', 'nigel_bakerbutcher:', 'harv:', 'normal', 'health_inspector:', 'uncle', 'bag', 'plan', 'dangerous', 'early', 'charge', 'slow', 'became', 'al', 'bitter', 'across', 'same', \"that'll\", 'lying', 'state', 'hair', 'pass', 'principal', 'milk', 'brought', 'laughing', 'tip', 'holding', 'impressed', 'hit', 'group', 'lives', 'forgot', 'shall', 'young_homer:', 'tinkle', 'thirty', 'sips', 'bow', 'lowers', 'honey', 'ones', 'slap', 'music', \"sayin'\", 'hank_williams_jr', 'desperate', 'worst', 'strong', 'star', 'belch', 'plastic', 'fall', 'joey', 'company', 'won', 'health', 'flanders', 'seconds', 'football_announcer:', 'crack', 'birthday', 'stool', 'water', 'numbers', 'eating', 'maya:', 'gold', 'sent', 'write', 'gives', 'bet', 'mister', 'lou:', 'denver', 'loved', 'supposed', 'baseball', 'men', 'walther_hotenhoffer:', 'hard', 'owe', 'favor', 'i-i', 'troll', \"how's\", 'speaking', 'short', 'fellow', 'piece', 'dallas', 'evening', 'cow', \"world's\", 'clown', \"tryin'\", 'fish', 'rope', 'shirt', 'pool', \"callin'\", 'lord', 'yep', 'grand', 'speak', 'unless', 'exasperated', \"one's\", 'suit', 'caught', 'hated', 'joint', 'wonder', 'center', 'boring', 'soul', 'changing', 'african', 'hospital', 'pop', 'park', 'act', 'thumb', 'rest', 'mouse', 'duh', 'also', 'nuclear', 'deer', 'government', 'artie', \"i'm-so-stupid\", 'side', 'wha', 'suddenly', 'wall', \"smokin'_joe_frazier:\", 'empty', 'selma', 'totally', 'nineteen', 'quietly', 'fingers', 'little_man:', \"lisa's\", 'mike', 'having', 'horrified', 'games', 'swear', 'survive', 'edna_krabappel-flanders:', 'speech', 'coaster', 'filthy', 'dank', 'french', 'asked', 'chug', 'invited', 'movie', 'jeez', 'sober', 'customers', 'part', 'lose', 'jack', 'women', 'stunned', \"workin'\", 'handsome', 'pity', 'all:', 'proud', 'chanting', 'dying', 'clear', 'wallet', 'america', 'names', 'wine', 'sob', \"tellin'\", 'ashamed', 'nein', 'confused', 'tv_wife:', 'dame', 'disappointed', 'jerks', '_zander:', \"drivin'\", 'sharps', 'wheel', 'ad', 'isotopes', 'bed', 'bank', 'dude', 'shaking', 'catch', 'bee', 'longer', 'mine', 'offended', 'detective_homer_simpson:', 'pipe', 'cheer', 'hopeful', 'running', 'mayor', 'tired', 'hanging', 'testing', 'wonderful', 'wrote', 'glen:', 'treat', 'counting', 'named', 'absolutely', \"he'd\", 'gay', 'daddy', 'represent', 'third', \"sittin'\", 'glasses', 'stories', 'man:', 'biggest', 'service', 'lessons', 'adult_bart:', 'brilliant', 'driving', 'beloved', 'calm', 'luck', 'lloyd:', 'strap', 'tree', 'during', 'drederick', 'sauce', 'tv_husband:', 'college', 'cop', 'red', 'given', 'billy_the_kid:', 'children', 'until', 'beach', 'sunday', 'against', 'ago', 'cost', 'clears', 'punch', 'window', 'accent', 'cutting', 'closed', 'club', 'bender:', 'writing', 'doubt', 'yea', \"guy's\", 'saved', 'local', 'announcer:', 'surgery', 'few', 'x', '_hooper:', 'cleaned', 'puzzled', 'truck', 'brockman', 'felt', 'none', 'designated', 'needs', 'broad', 'tongue', 'p', 'jar', 'suicide', 'nose', 'huggenkiss', 'enjoy', 'seem', 'legs', 'pitcher', 'amanda', 'flips', 'dang', 'yesterday', 'body', 'feels', 'meeting', 'agent', 'sold', 'movies', 'folks', 'case', 'bye', 'band', 'fix', 'quite', 'sincere', 'fifteen', 'starts', 'chocolate', 'threw', 'flower', 'gotten', 'liver', 'sexy', 'snake', 'trip', 'working', 'bars', 'loaded', 'u', 'woman:', \"carl's\", 'renee', 'garbage', 'minimum', 'choice', 'thoughtful', 'question', 'embarrassed', 'fbi', 'drivers', 'cares', 'sister', 'boat', 'dramatic', 'france', 'father', 'pickled', 'smiling', 'whee', 'chick', 'address', 'eddie:', 'career', 'hm', 'computer', 'couch', 'buttons', 'restaurant', 'usually', 'domestic', 'egg', 'bald', 'therapy', 'frustrated', 'castle', 'line', 'wear', 'husband', 'ivana', 'cries', 'procedure', 'burt', 'busy', 'burp', 'meaningful', 'senators', 'stillwater:', 'tail', 'scream', 'train', 'hero', 'test', 'grim', 'betty:', 'dennis_conroy:', 'moment', 'ken:', 'senator', 'sit', 'pulled', 'new_health_inspector:', 'jerk', 'amazing', 'hurry', \"who'll\", 'follow', 'dan_gillick:', 'guns', 'yellow', 'mug', 'foibles', 'able', 'buffalo', 'twins', 'milhouse_van_houten:', 'secrets', 'deep', 'correct', 'precious', 'months', 'died', 'pulls', 'hits', 'flowers', 'forty', 'keeps', 'vance', 'rob', 'books', 'heavyweight', 'sees', 'lotta', 'hoping', \"watchin'\", 'beauty', 'yard', 'knock', 'shows', 'declan_desmond:', 'clearly', 'whiny', 'kidding', \"o'problem\", 'billboard', 'sobbing', 'pleased', 'whisper', 'championship', 'pain', 'tom', \"everyone's\", \"moe's_thoughts:\", 'bees', 'situation', 'belches', \"what'll\", \"valentine's\", 'selling', 'fan', 'professional', 'gas', 'gin', 'rather', 'sly', 'cover', 'closing', 'needed', 'video', 'pickle', 'arrest', 'amid', 'finding', 'sarcastic', 'illegal', 'ride', 'clothes', 'hans:', 'sits', 'eleven', 'spot', 'sports', 'raises', 'different', 'pointed', 'road', 'monster', \"bein'\", 'whaddaya', 'wally:', 'weekly', 'original', 'blow', \"today's\", 'magic', \"livin'\", 'island', 'girlfriend', 'ruined', \"dad's\", 'distraught', 'ahead', 'coat', 'plow', 'cable', 'started', \"buyin'\", \"o'clock\", 'pipes', 'ourselves', 'arms', 'burps', 'furious', 'finger', 'neck', 'rotch', 'twelve', 'fridge', 'answer', 'teach', 'ooo', 're:', 'sheepish', 'stock', 'stirring', 'field', 'brain', 'calls', 'teenage_barney:', 'respect', 'babies', 'teenage_bart:', 'ingredient', 'david_byrne:', \"they've\", 'smooth', 'rag', 'match', 'drug', 'ominous', 'understand', 'bottom', 'breath', 'pit', 'lie', 'partner', 'offer', 'lips', 'pub', 'forget-me-shot', 'upbeat', 'opportunity', 'awkward', 'almost', 'character', 'polite', 'yap', 'explaining', 'market', 'bill', 'hugh:', 'radishes', 'sense', 'south', 'especially', 'stagy', 'rich', 'hungry', 'dollar', 'adeleine', 'figured', 'tatum', 'pays', 'middle', 'prime', 'sometime', 'burning', 'belly', 'imagine', 'letters', 'sisters', 'grabs', 'screams', 'tips', 'form', 'checks', 'l', 'fumes', 'enemy', 'shape', 'mock', 'nards', 'comfortable', 'cute', 'ancient', 'gary:', 'share', 'stopped', 'worked', 'pathetic', 'terrified', 'miserable', 'scum', 'innocent', 'uneasy', 'shares', 'whatcha', 'edison', 'spoken', 'bite', 'spanish', 'anguished', 'death', 'opening', 'darts', 'jamaican', 'program', 'bowling', \"they'll\", 'stadium', 'loan', 'hiya', 'entire', 'embarrassing', 'chest', 'bunch', 'idiot', 'ridiculous', 'junior', 'searching', 'pockets', 'feelings', 'coffee', 'brother', 'bright', 'jump', 'harv', 'mel', 'crime', 'ziffcorp', \"lenny's\", 'modern', 'cigarette', 'order', 'frankly', 'aww', 'shoot', 'likes', 'weak', \"havin'\", 'awful', 'drop', 'evil', \"'til\", 'dive', \"where'd\", 'peach', 'team', 'ohmygod', 'turkey', 'become', 'drunks', 'knowing', 'concerned', 'rub', 'fourth', 'uncomfortable', 'snort', 'following', 'reminds', 'parking', 'finished', 'pocket', 'staying', 'ran', 'future', 'recommend', 'size', 'double', 'fans', 'register', 'hurts', 'somewhere', 'toss', 'dressed', 'mechanical', 'grunt', \"could've\", 'powerful', \"kids'\", 'pained', 'struggling', 'then:', 'toward', \"i-i'm\", 'international', 'hole', 'sniffles', \"they'd\", 'ã€', 'step', 'wearing', 'its', 'yo', 'aside', 'endorse', 'feed', 'boo', 'stayed', 'image', 'teenage', 'der', 'twenty-five', 'compliment', 'delicious', 'clientele', 'lottery', 'jack_larson:', 'born', '_babcock:', 'inspector', 'tried', 'stole', 'afford', 'enemies', 'exhaust', 'panicky', 'fault', 'mudflap', 'bless', 'fly', 'chinese', 'gag', \"c'mere\", 'meant', 'pointing', 'gently', 'nation', 'british', 'saturday', 'fancy', 'spending', 'brains', 'celebrities', 'midge', 'past', 'tastes', 'army', 'r', 'met', 'bus', 'happily', 'mistake', 'keeping', 'twenty-two', 'diet', 'trust', 'accept', 'thoughts', 'subject', 'knocked', 'corner', 'higher', 'scene', 'wipe', 'kang:', 'cents', 'fair', 'traffic', 'religion', 'paris', 'buying', 'milhouse', 'roll', 'salad', 'fact', 'crowd', 'challenge', 'inspection', 'wide', 'rid', 'tears', 'lindsay_naegle:', 'perhaps', 'sweetly', 'fritz:', 'cannot', \"gentleman's\", 'prank', 'workers', \"wife's\", 'lonely', 'glum', 'checking', 'whose', 'popular', 'heads', 'hilarious', 'moved', 'push', 'toys', 'campaign', 'operation', 'seeing', 'cheap', 'unlucky', 'grunts', 'hour', 'midnight', 'har', 'sixty-nine', 'dirt', 'text', 'pause', 'tv_father:', 'directions', 'crank', 'list', 'reason', 'hall', 'sadder', 'expect', 'stools', 'upon', 'wooooo', 'sec_agent_#1:', \"men's\", 'flatly', 'pats', 'elder', 'careful', 'dancing', 'al_gore:', 'unlike', 'wasting', 'extra', 'holiday', 'ring', 'showing', 'lots', \"robbin'\", 'grabbing', 'toasting', 'beginning', 'doors', 'church', 'indignant', 'bob', 'kermit', 'slip', 'nobel', 'sexual', 'source', 'rough', 'hmmm', 'button', 'theater', 'tradition', 'cheers', 'vegas', 'palmerston', 'k', 'fever', 'coney', 'hunter', 'fork', 'defensive', 'bar-boy', 'system', 'starting', 'clone', 'raising', 'root', 'jolly', 'age', 'german', 'f', 'dynamite', 'gary_chalmers:', 'alley', 'guest', 'cough', 'attention', 'taken', 'looked', 'teeth', 'incredulous', 'leg', 'kissing', 'rats', 'covers', 'fraud', 'accurate', 'suppose', 'suck', 'book_club_member:', 'paying', 'pissed', 'played', \"year's\", 'afternoon', 'odd', 'cocktail', 'cameras', 'despite', 'severe', 'sucked', 'cards', 'gal', 'sleep', 'greystash', 'jesus', \"ridin'\", 'child', 'helicopter', 'grow', 'puff', 'corpses', 'natural', 'shove', 'crawl', 'jail', 'bret:', 'changed', 'snaps', 'season', 'casual', 'public', 'finest', 'breaking', 'scam', 'peter', 'consider', \"barney's\", 'wiener', 'anniversary', 'troy:', 'walks', 'sec', 'glen', 'ground', 'label', 'weeks', '&', 'texas', 'who-o-oa', 'general', 'summer', 'fool', 'military', 'hates', 'kept', 'switch', 'floor', 'losing', 'lately', 'exit', 'peace', 'coach:', 'scotch', 'toilet', 'law', 'serve', \"seein'\", 'tells', 'talk-sings', 'film', 'marvin', 'per', 'frink', 'spinning', 'men:', 'thankful', 'understanding', 'touchdown', 'motel', 'leans', 'delighted', 'reads', 'woo-hoo', 'threatening', 'pfft', 'singers:', 'barney-shaped_form:', 'bike', 'spit', 'backwards', 'pageant', 'invite', 'oil', \"stinkin'\", 'mafia', 'closer', 'focus', 'killed', 'pardon', 'above', 'bitterly', 'noticing', 'literature', 'election', 'ho', 'sniffs', '_timothy_lovejoy:', 'fireball', \"bart's\", 'ordered', 'banks', '_kissingher:', 'license', 'single', 'driver', 'yee-haw', 'history', 'sadistic_barfly:', 'covering', 'ruin', 'hug', 'relax', 'puke', 'andy', 'foot', 'wayne:', 'gift', 'unison', 'bought', 'kwik-e-mart', 'crummy', 'complete', 'customer', 'moments', 'vomit', 'james', 'sea', 'crying', 'pulling', 'nope', 'calculate', 'ball-sized', 'bret', 'detecting', \"meanin'\", \"tester's\", 'sandwich', 'helped', 'draw', \"maggie's\", 'railroad', 'lap', 'tiny', 'whistles', 'sneaky', 'paid', 'smoke', 'charity', 'tenor:', 'folk', 'arab_man:', 'klingon', 'stationery', 'hawking:', 'charm', 'underbridge', 'baritone', 'cream', 'dropped', 'memory', 'code', 'appointment', 'pian-ee', 'feast', 'known', '250', 'prohibit', 'friendship', 'agree', 'industry', 'putting', 'positive', 'degradation', 'buried', '1895', 'expression', 'achem', 'excitement', \"crawlin'\", 'morlocks', 'academy', 'difficult', 'famous', \"someone's\", 'laws', \"beer's\", 'dating', 'warn', 'dearest', 'wash', 'witty', 'bump', 'mmm', 'therapist', 'granted', 'answering', 'informant', 'scooter', 'stinks', 'lover', 'crumble', 'jets', 'all-star', 'reliable', 'costume', 'suds', 'studio', 'thru', \"'topes\", 'social', 'conference', 'cotton', 'heading', 'awww', 'bird', 'drank', 'certain', 'fixed', 'spy', 'fox', 'cheese', 'foil', 'fragile', 'cola', 'irish', 'products', 'rolling', 'managing', 'record', 'square', 'reasonable', 'mic', 'poet', 'obvious', 'memories', 'bubbles', 'darkest', 'riding', 'freak', 'badges', \"game's\", 'fresh', 'aged_moe:', 'excellent', 'spent', 'conditioner', 'mop', 'satisfaction', 'hotline', 'ginger', 'bigger', 'sec_agent_#2:', 'voice:', 'doll', 'solid', 'andalay', 'professor', 'snow', 'fighting', 'realize', 'devastated', 'tentative', 'comedy', 'tester', 'wake', 'finishing', 'oof', 'wrestling', 'astronaut', 'dough', 'vacation', 'fritz', 'gosh', 'jailbird', 'contest', 'plans', 'lighting', 'force', 'reserve', 'somehow', 'sabermetrics', 'refresh', \"it'd\", 'tang', 'fuss', 'steel', 'disapproving', 'reach', 'satisfied', 'torn', 'internet', 'twice', 'wordloaf', 'cutie', 'coward', 'grienke', 'village', 'media', 'young_moe:', 'vodka', 'denser', 'scary', 'un-sults', 'ahhh', 'message', 'moe-clone:', 'civilization', 'smart', \"team's\", 'troy', 'drawing', 'carve', 'labels', 'marguerite:', 'clock', 'awesome', 'tries', 'slice', \"dyin'\", 'broom', 'boneheaded', 'familiar', 'thought_bubble_homer:', 'grandiose', 'simp-sonnnn', 'scare', '100', 'flying', 'wave', 'continuing', 'gals', 'nigeria', 'plywood', 'charlie', 'fold', 'straining', 'blood-thirsty', 'advantage', 'superior', 'sale', 'plum', 'padre', 'punk', 'winnings', \"springfield's\", 'dials', 'tommy', 'genius', 'billion', 'fudd', 'stands', 'sissy', 'weary', 'wooden', 'hangs', 'mm', 'refund', 'mention', 'fictional', 'confidence', 'row', 'lise:', 'atlanta', 'businessman_#1:', 'peppy', 'relieved', \"ladies'\", 'aerosmith', \"money's\", 'boxer', 'falcons', 'lowering', 'laney_fontaine:', 'bride', 'rumaki', 'babe', 'beating', 'listening', 'dismissive', 'henry', 'boyfriend', 'price', 'penny', 'seek', 'weirded-out', 'emotional', 'mona_simpson:', 'regret', 'judge', 'sport', 'changes', 'appealing', 'wondering', 'guide', 'bible', 'gargoyle', 'hunting', 'bourbon', 'frog', 'jubilant', 'extremely', 'joining', 'raise', 'suspicious', 'strategy', 'mob', 'white', 'trolls', 'wings', 'liar', 'level', 'peanut', 'routine', 'completing', 'bathroom', 'firmly', 'honor', 'wa', 'underpants', 'yours', 'admiring', 'hop', 'near', \"'tis\", 'gorgeous', 'tick', 'museum', 'waylon', 'planning', 'creeps', 'trick', 'awe', 'reaching', 'website', 'rainier_wolfcastle:', 'greedy', 'pin', 'lenny:', 'violin', 'present', 'carl:', 'allowed', 'cars', 'voice_on_transmitter:', 'cueball', 'playful', 'grave', 'stuck', 'hobo', 'shock', 'inspire', 'rap', 'salt', 'doreen:', 'inspired', 'maman', 'rhyme', '6', 'christopher', 'realized', \"weren't\", 'crew', \"what're\", 'tale', 'type', 'helen', 'sports_announcer:', 'therefore', 'smug', 'forehead', 'camp', '7-year-old_brockman:', \"ma'am\", 'fausto', 'greetings', 'sympathetic', 'bugging', 'snake-handler', 'pointless', 'remembered', 'page', 'gator:', 'slyly', 'outlook', 'linda', 'wing', 'belong', 'joke', 'ech', 'anarchy', 'rules', 'churchill', 'involving', 'tabooger', 'raccoons', 'chase', 'syrup', 'defeated', 'skeptical', 'louie:', 'jebediah', 'vampires', 'placing', 'grade', 'writers', 'medicine', 'gun', 'european', 'homers', 'solo', 'director', 'pretending', 'mess', 'forbidden', 'bubble', 'held', 'onions', 'beneath', 'superhero', \"chewin'\", 'snap', 'fevered', 'princesses', 'considering', 'celebrity', 'awwww', 'ways', 'bush', \"'im\", 'mcstagger', 'yell', 'conversation', 'inflated', 'patterns', 'brow', 'beep', 'spied', 'sweeter', 'mail', 'animals', 'cowboys', 'dan', \"hasn't\", 'attack', 'bartending', 'doreen', 'action', 'thanksgiving', 'eighty-seven', \"shan't\", 'painting', 'commission', 'value', 'morose', 'joking', 'louder', 'pride', 'results', 'eyeball', 'airport', 'attitude', 'explain', 'slight', 'terrific', 'nerve', \"showin'\", 'recall', \"readin'\", 'woman_bystander:', 'sector', 'alfred', 'electronic', 'cruel', 'large', 'intense', 'koholic', 'roomy', 'loss', \"countin'\", 'corkscrew', 'securities', 'flag', 'medical', 'warily', 'forward', 'yup', 'easier', 'smugglers', 'written', 'suing', 'miles', 'themselves', 'combine', 'barf', 'began', \"wonderin'\", 'candidate', 'important', 'mortgage', 'compliments', 'brothers', 'passion', 'begins', 'barely', 'trapped', 'so-called', 'courage', 'cleaner', 'ripcord', 'effigy', 'catching', 'wins', 'jockey', 'plenty', 'owner', 'comic', 'passed', \"takin'\", 'formico:', 'reynolds', 'trusted', 'slightly', 'deserve', 'shaken', 'male_inspector:', 'blew', 'manager', 'bags', 'palm', 'wolfe', 'jobs', 'due', 'prize', 'bedbugs', 'soup', 'needy', 'champ', 'karaoke', 'decide', 'correcting', 'poking', 'justice', 'conspiratorial', 'kyoto', 'aggravated', 'surprise', 'nigerian', 'utility', 'rolled', 'angel', 'love-matic', 'yards', 'sitar', 'brewed', 'cent', 'nearly', 'freeze', 'zero', 'gifts', 'yourselves', 'murmurs', 'joey_kramer:', 'wade_boggs:', 'decency', 'cake', 'festival', 'is:', 'scrape', 'prayer', 'neil_gaiman:', 'payments', 'cigarettes', 'restaurants', 'isle', 'ringing', 'jeff', 'yogurt', 'someday', 'hitler', 'sometimes', 'tanked-up', 'corporation', 'sugar', 'highway', 'candy', 'beam', 'insightful', 'vulnerable', 'sat', 'decent', 'umm', 'freedom', 'pleasure', 'ah-ha', 'express', 'pirate', 'wishes', 'steak', 'stir', 'krabappel', 'naked', 'hollywood', 'cookies', 'bread', 'bear', 'reporter:', 'africa', 'patty', 'deacon', 'mount', 'laramie', 'bathing', 'woozy', 'skirt', 'virtual', 'lurleen_lumpkin:', \"patrick's\", 'although', 'benefits', 'befouled', 'busted', 'bastard', 'sweetheart', 'balls', 'boxing_announcer:', 'self-made', 'entirely', 'cops', 'belt', 'century', 'pleading', 'increasingly', 'pope', 'purse', 'wayne', 'patient', 'w', 'schnapps', 'prefer', 'hats', 'measurements', 'latin', 'manjula', 'bears', 'wedding', 'shoo', 'smoothly', 'thesaurus', 'promised', 'whether', 'soap', 'admiration', 'scully', 'eyesore', 'heavyset', 'puts', 'chilly', 'rounds', 'punches', 'sooner', \"pope's\", 'ambrosia', \"marge's\", 'dryer', 'goods', 'discuss', \"monroe's\", 'sodas', 'sleeps', 'elephants', 'authorized', \"payin'\", 'pouring', 'curds', 'blues', 'jumps', 'meal', 'complaint', 'murmur', 'helllp', 'gum', 'dreams', 'manage', 'hibbert', \"other's\", 'discussing', 'standing', 'mall', 'seemed', 'duel', 'sudden', 'clinton', 'boozy', \"what'sa\", 'mcbain', 'vacuum', 'deadly', 'mumbling', 'kramer', 'trench', 'amount', 'coins', 'available', 'grumpy', 'beats', 'ironed', 'danish', 'between', 'reasons', 'confident', 'expert', 'forgive', 'drown', 'frosty', 'copy', 'product', 'based', 'pigs', \"fallin'\", 'advance', 'missed', 'ayyy', 'closes', 'knife', 'eighty-one', 'yawns', 'percent', 'b', 'choking', 'harder', 'ocean', 'bash', 'multiple', 'color', 'shrugs', 'diamond', 'inspiring', 'stern', 'judge_snyder:', 'troy_mcclure:', 'chum', 'pint', 'i-i-i', 'joined', 'pad', 'abandon', 'alphabet', 'fox_mulder:', 'ugliest', 'brassiest', 'politics', 'bedroom', 'neighbor', 'teacher', 'partly', 'queer', 'regulars', 'awed', \"children's\", 'knees', 'disgrace', 'golf', 'carlson', 'doug:', 'dungeon', 'shower', 'effects', 'built', \"bar's\", 'ragtime', 'fanciest', 'willy', 'grab', 'acquaintance', 'organ', 'hail', 'maya', 'tofu', 'poem', 'whenever', 'department', 'pitch', 'teenage_homer:', \"hangin'\", 'lights', 'bam', 'skin', 'shutting', 'ollie', 'handle', 'roof', 'apartment', 'seats', 'windex', 'cat', 'teams', 'naturally', 'dee-fense', 'fondly', 'bartenders', 'yoo', 'standards', \"father's\", 'borrow', 'cowardly', 'remains', 'exchange', 'restroom', 'quotes', 'pressure', 'agreement', 'lush', 'mate', 'photo', 'release', 'wang', 'impatient', 'giggles', 'craphole', 'served', 'worth', 'taps', 'tv_announcer:', 'admitting', 'wangs', 'sinister', 'bets', 'banquo', 'gums', 'germs', 'carll', 'tie', 'poker', 'attempting', 'radio', 'shakespeare', 'possibly', 'marmaduke', 'prove', 'distributor', 'shoots', 'teddy', 'weirder', 'suspect', 'dreamed', 'grandmother', 'lurleen', 'twin', 'talked', 'thirteen', \"bartender's\", 'vote', 'funds', 'shrugging', 'blend', 'thighs', 'actors', 'watered-down', 'relationship', 't-shirt', '_powers:', 'remembering', 'acting', 'insulted', 'hired', 'bums', 'bashir', 'alfalfa', 'violations', 'jerry', 'delivery_boy:', 'margarita', 'answers', 'spread', 'fabulous', 'rock', 'muttering', 'cheat', 'duty', 'neat', 'seas', 'throwing', 'calmly', 'caused', 'disco', \"waitin'\", \"homer's_brain:\", 'dessert', 'deliberate', 'kicked', 'victory', 'gentleman:', 'waltz', 'magazine', 'lib', 'planet', 'prepared', 'nickels', 'jerky', 'stranger:', 'complaining', 'shooting', 'self-esteem', 'blown', 'dames', 'bully', 'handing', 'swill', 'tax', 'smurfs', 'formico', 'santa', \"hadn't\", 'motorcycle', 'stealings', 'anywhere', 'space', 'roses', 'kindly', 'reviews', 'compared', 'queen', 'ziff', 'barkeep', 'dennis_kucinich:', 'generous', 'rage', 'energy', 'eventually', 'shaggy', 'delivery', 'neither', 'appear', 'monkey', 'shoulder', 'koi', 'disappeared', 'saint', 'priest', 'interested', 'investor', 'grimly', 'bold', \"buffalo's\", 'mixed', 'ale', 'matter-of-fact', 'roz:', 'quality', \"drawin'\", 'porn', 'nasa', 'alcoholic', 'thoughtfully', \"town's\", 'towed', 'filled', 'juice', 'seriously', 'recently', 'floated', 'chicks', 'reached', 'kidney', 'potato', 'lucius', 'ohh', 'sausage', 'proposing', 'lovely', 'bottles', 'broadway', 'cooler', 'involved', 'nudge', 'agent_johnson:', 'effervescent', 'minister', 'deeply', 'haw', 'successful', 'ha-ha', 'failed', 'd', 'safer', 'crossed', 'lock', 'bucket', 'don', 'pleasant', 'david', 'pond', 'ye', 'asking', 'snorts', 'corporate', 'rule', 'lazy', 'project', 'cozy', 'gang', 'aging', 'assistant', 'cheery', 'curious', 'sack', 'stevie', \"others'\", 'smile:', 'civic', 'dress', 'honored', 'prison', 'unfortunately', 'yelling', 'smallest', \"cat's\", 'retired', 'brave', 'lloyd', 'brightening', 'bridge', 'capitalists', 'engine', 'hook', \"singin'\", 'touch', 'improved', 'hampstead-on-cecil-cecil', 'paintings', 'leno', 'anxious', 'bill_james:', 'unjustly', 'mediterranean', 'handoff', 'presidential', 'bumpy-like', 'fbi_agent:', 'avec', 'natured', 'bones', 'quarterback', 's-a-u-r-c-e', 'rings', 'yelp', 'mexican', 'owns', 'cursed', 'small_boy:', 'k-zug', 'activity', 'intoxicated', 'stirrers', 'knock-up', 'cherry', 'mural', \"s'okay\", 'courts', 'cutest', 'delivery_man:', 'test-', 'chained', 'brace', 'giant', 'starving', 'nelson_muntz:', 'foam', 'unlocked', 'tons', 'spotting', 'grumbling', 'bail', 'reentering', 'generally', 'buzz', 'western', 'beast', 'easy-going', 'pre-game', 'rosey', 'fastest', \"dog's\", 'impress', \"foolin'\", 'burnside', \"something's\", 'emphasis', 'cheered', \"clancy's\", 'blows', 'funeral', 'dreary', 'pantry', \"high-falutin'\", 'experienced', 'droning', 'photos', 'jeter', '50%', 'waterfront', 'guzzles', \"mother's\", 'hot-rod', 'absorbent', 'brainiac', 'hose', 'unfamiliar', 'ab', 'pennies', 'bauer', 'recruiter', 'dashes', 'pack', 'bowled', 'blade', 'carb', 'flashbacks', 'wears', \"yieldin'\", 'someplace', 'emporium', 'masks', 'tremendous', 'student', 'collapse', 'resolution', 'boozer', 'bon-bons', 'press', \"somethin':\", 'lied', 'surgeonnn', \"neat's-foot\", 'officer', 'rainforest', 'jam', 'handling', 'grants', 'beverage', 'saget', 'cobbling', 'sagely', 'proves', \"hawkin'\", 'leftover', 'playoff', 'muscle', 'pantsless', 'snackie', 'linda_ronstadt:', 'enthused', 'smiles', 'thirty-nine', 'hears', 'nasty', 'referee', 'sanitary', 'geyser', 'spellbinding', 'popping', 'sniffing', 'process', 'rivalry', 'pretend', 'blobbo', 'assassination', 'excuses', 'heavens', 'chair', 'herself', 'puke-holes', 'audience', 'demand', 'broncos', 'broken', 'payback', 'cans', 'fit', 'temporarily', 'when-i-get-a-hold-of-you', 'th-th-th-the', 'perã³n', 'lumpa', 'squirrel', \"wearin'\", 'sneak', 'button-pusher', \"ball's\", 'terrifying', 'graveyard', 'wage', 'george', 'part-time', 'patented', 'inches', 'model', \"hole'\", 'clapping', 'domed', \"tomorrow's\", 'refreshingness', 'urinal', \"tree's\", 'melodramatic', 'thnord', 'shreda', 'presentable', 'binoculars', 'founded', 'indecipherable', 'orifice', 'beaumont', 'stickers', 'delicately', 'hero-phobia', 'boozebag', 'derek', 'jay_leno:', 'coined', 'grocery', 'whale', 'brandy', 'ease', 'full-bodied', 'sumatran', 'failure', 'de', \"drexel's\", 'hoax', 'cranberry', 'white_rabbit:', 'carey', \"tatum'll\", 'polls', 'offense', 'broken:', 'honeys', 'whoo', 'hangout', 'regretted', 'hushed', 'grrrreetings', 'march', 'incognito', 'acronyms', 'calendars', 'squeals', 'aer', 'phrase', 'y-you', 'hootie', 'dilemma', 'eyeing', 'op', 'looooooooooooooooooong', 'all-all-all', 'tragedy', 'renders', 'annus', 'boozehound', 'symphonies', 'closet', 'managed', \"startin'\", 'buzziness', 'panties', 'bull', 'stored', 'getaway', 'bedtime', 'contractors', 'montrer', \"plaster's\", 'piano', 'packets', 'youuu', 'philosophical', 'accidents', 'ruuuule', 'maiden', 'clammy', 'exquisite', 'whup', 'fire_inspector:', 'counterfeit', 'sketching', 'wussy', 'botanical', \"linin'\", 'bliss', 'lady-free', 'items', 'statistician', 'ees', 'voters', 'outlive', 'motor', 'log', 'edelbrock', 'johnny_carson:', 'wild', 'wudgy', 'juan', 'heave-ho', 'hafta', 'scanning', 'reciting', 'crayola', 'united', 'instantly', 'cockroach', 'outs', 'sympathy', 'daaaaad', 'kitchen', 'sue', 'rickles', 'powers', 'ducked', 'carmichael', 'cuddling', 'cause', 'novel', 'drunkening', 'charlie:', 'ecru', 'committing', 'dishonor', 'suits', 'half-beer', 'transmission', 'silence', 'obese', 'crooks', 'hosting', \"i'unno\", 'sing-song', 'synthesize', 'prizefighters', 'tolerance', 'urine', \"'s\", 'wrestle', 'inserts', 'wobble', 'further', 'blubberino', 'lovers', 'notably', \"changin'\", 'night-crawlers', 'neighbors', 'sampler', 'practically', 'brings', 'insults', 'cappuccino', 'xanders', 'rascals', 'skunk', 'scornfully', 'conclusions', \"renee's\", 'mahatma', 'aquafresh', \"usin'\", 'serum', 'maitre', 'thunder', 'lighten', 'macbeth', 'seething', 'lobster-based', 'ga', 'chauffeur', 'slaps', 'meatpies', 'frescas', 'yourse', 'chapel', 'haiti', 'puffy', 'intriguing', 'scram', \"fryer's\", \"'morning\", 'sleeping', 'approval', 'grenky', 'hiding', 'dumbest', 'indeedy', 'mugs', 'sneering', 'de-scramble', 'solved', 'hmmmm', 'planned', 'remote', 'brockelstein', 'treats', 'enter', 'flailing', 'sees/', 'malabar', 'gallon', 'recorded', 'looser', 'settlement', 'ã', \"table's\", 'dateline:', 'mckinley', 'manuel', 'stiffening', 'build', 'tv-station_announcer:', 'grain', 'wieners', 'presents', 'applicant', 'laughter', 'stepped', 'ripped', 'court', 'unexplained', '_eugene_blatz:', 'predecessor', 'quimbys:', 'snapping', 'passports', 'friction', 'shriners', 'booking', 'sat-is-fac-tion', \"how're\", 'boggs', 'flanders:', 'straighten', 'idealistic', 'jokes', 'lance', 'hub', 'lugs', \"s'pose\", 'cadillac', 'reader', 'slender', 'wenceslas', \"'roids\", 'eliminate', 'thoughtless', 'swings', 'ebullient', \"stealin'\", 'warren', \"people's\", 'forbids', 'tsking', 'simultaneous', 'jewish', 'tactful', 'you-need-man', 'contented', 'pepto-bismol', 'hillary', 'hyahh', 'cases', 'tigers', 'cheryl', 'shaky', 'praise', 'remaining', 'sun', 'kansas', 'family-owned', 'meditative', 'five-fifteen', 'shopping', 'examples', 'sunk', 'mole', 'drinker', 'itself', 'luxury', 'deliberately', 'spender', 'intention', 'whatchacallit', 'view', \"puttin'\", 'frenchman', 'bust', 'civil', 'heatherton', \"rasputin's\", \"number's\", 'crinkly', 'celebration', 'heather', 'disgraceful', 'population', 'omit', 'samples', 'movement', \"feelin's\", 'cooking', 'perverted', 'rub-a-dub', 'gear-head', 'kako:', 'pizzicato', \"'er\", 'taste', 'publish', 'mobile', 'murdered', 'indicates', \"duelin'\", 'peeved', 'darkness', 'weep', 'pushing', \"raggin'\", 'waters', 'er', 'shop', 'certificate', 'male_singers:', 'quitcher', 'phony', 'law-abiding', 'composer', 'load', 'sam:', 'charter', 'wood', 'strips', \"squeezin'\", 'con', 'undermine', 'dipping', 'reluctant', 'figure', 'donut-shaped', 'captain', 'edner', 'comforting', 'backgammon', 'hairs', 'bottomless', 'du', 'wells', 'ahem', 'alien', 'package', 'pudgy', 'oooo', 'smelling', 'fuhgetaboutit', 'swamp', 'coughs', 'heartily', 'reflected', 'woulda', 'hottest', 'safety', 'clincher', 'rupert_murdoch:', 'ballclub', 'thomas', 'jernt', 'common', 'aghast', 'newsletter', 'steaming', 'thousands', 'awake', 'muscles', 'hearts', 'passes', 'answered', 'six-barrel', 'punching', 'introduce', 'muertos', 'sanitation', 'wraps', 'novelty', 'innocence', 'filth', 'clenched', 'specializes', 'shout', 'presto:', 'johnny', 'rude', 'undated', 'daniel', 'tuborg', 'capitol', 'phasing', 'menacing', 'adjust', \"round's\", 'distract', 'freaky', 'prettiest', 'jeff_gordon:', 'frat', 'ram', \"mtv's\", 'partners', 'milhouses', 'rasputin', 'boxcar', 'inserted', 'spreads', 'appropriate', 'fluoroscope', 'arrested:', 'santeria', 'hoagie', 'sickly', 'freshened', \"washin'\", 'refinanced', 'prettied', \"time's\", 'fringe', 'strategizing', 'amiable', 'veux', 'jeers', 'quebec', 'upn', 'drawn', 'parasol', 'invisible', 'issuing', 'conversion', 'huhza', 'ref', 'hunky', 'nordiques', 'species', 'chorus:', 'waist', 'various', 'yak', 'sister-in-law', 'and:', 'eaters', 'terror', 'jackass', 'unfresh', 'potatoes', 'blackjack', 'trucks', 'scout', 'finale', 'hostages', 'understood', 'carlotta:', 'truck_driver:', 'drapes', 'transfer', 'mimes', 'conspiracy', 'snide', 'turlet', 'often', \"cont'd:\", 'singer', 'beanbag', 'radioactive', 'published', 'a-a-b-b-a', 'jay:', 'transylvania', 'chub', 'specials', 'smokes', 'indifferent', 'hollye', 'led', 'gabriel', 'county', 'madman', 'crunch', 'lookalike', 'barkeeps', 'rat-like', 'eighty-six', 'disturbance', \"stayin'\", 'frozen', 'cross-country', 'soot', 'gunk', 'veteran', 'impeach', 'poetry', 'onassis', 'falling', 'bury', '3', 'unusual', 'pledge', 'ne', 'considers', 'robot', 'grub', 'short_man:', 'enjoyed', 'peaked', 'dejected_barfly:', 'grandã©', 'life-sized', 'brick', 'richer', 'debonair', 'ding-a-ding-ding-a-ding-ding', \"'n'\", \"grandmother's\", 'gags', 'tokens', 'cracked', 'control', 'oak', 'raging', 'delightfully', 'glorious', 'fires', 'sickens', 'zeal', 'including', 'sucking', 'politician', 'taxi', 'homesick', 'booze-bags', 'heartless', 'chew', 'selection', 'wistful', 'forty-five', 'arm-pittish', 'corn', 'supports', 'coincidentally', 'collateral', 'chastity', 'depository', 'easter', 'wildest', 'mull', 'though:', 'diablo', 'provide', 'picky', 'farthest', 'possessions', 'bugs', 'enhance', 'socialize', 'aidens', 'consoling', 'pussycat', 'oww', 'spiritual', \"now's\", 'unkempt', 'tornado', 'art', 're-al', 'roller', 'attracted', 'insured', 'dealer', 'drives', 'mistakes', \"narratin'\", 'fwooof', 'mild', 'killjoy', 'caveman', \"poundin'\", 'beeps', 'aims', 'background', 'audience:', 'elaborate', 'cannoli', 'rocks', 'flash-fry', 'depressed', 'wars', 'bake', 'moon', 'principles', 'strawberry', 'plucked', 'scrutinizes', 'businessman_#2:', 'coy', 'prejudice', 'swan', 'conditioners', 'arrived', 'gunter:', 'bono', 'hardy', 'complicated', \"breakin'\", 'computer_voice_2:', 'average', 'poulet', 'hundreds', 'reckless', 'richard', 'beef', 'mice', 'modest', 'dealie', 'celebrate', 'swallowed', 'declan', 'ron_howard:', 'disguised', 'alky', \"poisonin'\", 'blob', 'desperately', 'cushions', 'vigilante', 'locked', \"edna's\", 'tense', 'cozies', 'strains', \"ma's\", 'shush', 'b-day', 'damned', 'diaper', 'capuchin', 'sixteen', 'los', 'flea:', 'jelly', 'archaeologist', 'plants', 'cup', 'schmoe', 'diddilies', 'neanderthal', 'life-threatening', 'kick-ass', 'freely', 'hurting', 'kisses', '2nd_voice_on_transmitter:', 'a-b-', \"this'll\", 'susie-q', 'cheated', 'heals', 'kickoff', \"brady's\", 'tones', 'winces', 'apology', 'renew', 'inherent', 'van', 'crystal', 'colorado', 'getcha', 'replace', 'haplessly', 'compressions', 'inclination', 'lushmore', 'kadlubowski', 'resist', 'gordon', 'bupkus', 'unbelievably', 'beefs', 'twerpy', 'starve', 'peter_buck:', 'chug-a-lug', 'cigars', 'remorseful', 'germany', 'jury', 'whoever', 'kegs', 'plums', 'patron_#1:', 'mither', 'kearney_zzyzwicz:', 'chipped', 'trenchant', 'brooklyn', 'geysir', 'pure', \"son's\", 'golden', 'banned', 'fountain', 'smiled', 'lager', 'tyson/secretariat', 'delightful', 'phlegm', 'incredible', 'lenses', 'wolfcastle', 'au', 'groin', 'tee', 'moe-heads', 'handshake', 'knowledge', 'depending', 'sky', 'gestated', 'man_with_tree_hat:', 'world-class', 'milks', 'teen', 'manchego', 'swishkabobs', 'sail', 'eighteen', 'kim_basinger:', 'stonewall', 'rip-off', 'waitress', 'wishful', 'janette', 'rebuilt', 'donuts', 'face-macer', 'sponge:', 'jacks', 'mickey', 'unrelated', 'telephone', 'malted', 'iran', 'sales', 'improv', 'feminine', 'winch', 'mccall', 'bar:', 'repeated', 'taxes', 'optimistic', 'housing', 'musta', 'clothespins:', 'smuggled', 'trustworthy', 'navy', 'tempting', 'jewelry', 'muslim', 'lincoln', 'specialists', 'congratulations', \"wouldn't-a\", 'curse', 'consciousness', 'damage', 'boston', 'metal', 'eggshell', 'pernt', 'glyco-load', 'hare-brained', 'w-a-3-q-i-zed', 'scores', 'stores', 'pontiff', 'expose', 'tabs', 'billingsley', 'lifters', 'st', 'strongly', 'saucy', \"d'\", 'aggie', 'alarm', 'cyrano', 'catholic', 'environment', 'duff_announcer:', 'insensitive', 'onto', 'offa', 'windelle', 'considering:', 'suffering', 'sequel', 'clap', 'sooo', \"soundin'\", 'blinds', 'scornful', 'amends', 'leprechaun', 'thirty-five', 'annoying', 'flown', 'trivia', 'rain', 'direction', \"hobo's\", 'frogs', 'steely-eyed', 'dumbass', 'steampunk', 'connor-politan', 'stingy', 'amused', 'mostrar', 'dregs', 'verdict', 'hilton', 'wednesday', 'richard:', 'promise', 'and/or', 'attractive', 'average-looking', 'wife-swapping', 'begging', 'sidekick', 'earrings', 'reporter', 'twelveball', 'maher', 'hooked', 'beady', 'drollery', 'appreciate', 'raining', 'spelling', 'wipes', 'swigmore', 'alcoholism', 'inquiries', 'radical', 'blimp', 'horns', 'liable', 'bursts', 'shuts', 'ugh', 'sacrilicious', \"calf's\", 'gasoline', 'uglier', 'diapers', 'poin-dexterous', 'normals', 'risquã©', 'felony', 'telemarketing', \"'round\", 'benjamin:', 'pregnancy', \"bringin'\", 'fulla', 'dizzy', 'adventure', 'sassy', \"'evening\", '530', 'municipal', \"fun's\", 'creates', 'terrace', 'perfunctory', 'wasted', 'open-casket', 'buds', 'reality', 'menace', 'nash', 'sixty', 'reward', 'mayan', 'hardhat', 'browns', 'jumping', 'earlier', 'pancakes', 'willing', 'enterprising', 'tapping', 'mabel', 'renovations', 'goldarnit', 'roy', 'meaningless', 'over-pronouncing', 'releasing', 'chuck', 'amber', 'brain-switching', 'dollface', 'kennedy', 'assent', 'non-losers', 'midge:', 'wally', 'aah', 'disappear', 'eager', 'nachos', 'chauffeur:', 'motto', 'half-day', 'contemplates', \"thinkin'\", 'infiltrate', 'ferry', 'justify', 'ingested', 'confidential', 'allow', 'eighty-five', 'j', 'stu', 'hers', 'calvin', 'cauliflower', 'bleak', 'silent', 'hawaii', 'links', 'mortal', 'ho-ly', 'lachrymose', 'connor', 'random', 'gloop', 'one-hour', 'rolls', 'touches', 'presidents', 'wolveriskey', 'emotion', 'hanh', 'scent', 'sweetest', 'boisterous', 'chill', '1973', \"phone's\", 'admirer', 'cocoa', 'barbed', 'noble', 'squadron', 'term', 'unintelligent', 'jane', '-ry', 'cock', 'promotion', 'convenient', 'breakfast', 'worthless', 'manipulation', 'encores', \"coaster's\", 'startled', 'flush-town', 'sponge', 'talkative', 'counter', 'watered', 'fatty', 'drop-off', 'nelson', 'wondered', 'shoulders', 'nooo', 'fake', 'arise', 'micronesian', 'mac-who', 'cell', 'stupidly', \"'cept\", 'inexorable', 'duke', 'sideshow_mel:', 'macho', 'arimasen', 'balloon', 'sharing', \"queen's\", 'sensitivity', 'ruint', 'portfolium', 'dice', 'harvard', 'feedbag', 'anti-intellectualism', 'causes', 'patting', 'lowest', 'month', 'warning', 'partially', 'poisoning', 'unusually', 'snotty', 'buffet', 'oughtta', 'musical', 'break-up', 'scientific', 'holidays', 'located', 'shutup', 'land', \"s'cuse\", 'oblivious', 'pets', 'mommy', 'four-star', 'insecure', 'cushion', 'elite', 'curiosity', 'dumptruck', 'thirty-thousand', 'guilt', \"g'night\", 'edgy', 'recorder', 'shaved', 'permanent', 'reopen', 'girl-bart', 'teacup', 'koji', 'stein-stengel-', 'old-time', 'bulletin', 'vengeance', 'error', 'temp', 'attached', 'villanova', 'aziz', 'tow', 'dinks', 'absolut', 'courthouse', 'supreme', 'profiling', 'twenty-nine', 'nonchalantly', 'advertising', 'hmf', 'rims', 'doy', \"kearney's_dad:\", 'halfway', 'loyal', 'prompting', 'hibachi', 'head-gunk', 'penmanship', 'mellow', 'extract', 'sloppy', 'noggin', 'driveability', 'abcs', 'lay', 'football', 'schizophrenia', 'beer-dorf', 'len-ny', 'sucker', 'splattered', 'icy', 'compels', 'weather', 'rubs', 'naval', 'fonda', 'picnic', 'gator', 'shortcomings', 'combines', 'moon-bounce', 'underwear', 'ura', 'acceptance', 'adrift', 'vincent', 'portuguese', 'accounta', 'wizard', 'bloodiest', 'punishment', 'stocking', 'friend:', 'grandkids', 'fustigation', 'breaks', 'stones', 'excavating', 'sagacity', 'dig', 'halvsies', 'politicians', 'full-time', 'plain', 'cheerleaders:', 'initially', 'unsafe', 'declare', 'pushes', 'mindless', 'exciting', 'presided', 'lists', 'crowbar', 'certified', 'make:', 'resenting', 'newest', 'runs', 'citizens', 'pair', 'evergreen', 'fumigated', 'north', 'yoink', 'meanwhile', 'bidet', 'deeper', 'ignorance', 'generously', 'uhhhh', 'spare', 'fink', 'gus', 'fuzzlepitch', 'shakes', 'mike_mills:', 'maintenance', 'aunt', 'authenticity', 'cousin', 'awkwardly', 'polenta', 'emergency', 'hops', \"tab's\", 'here-here-here', 'read:', 'practice', 'ding-a-ding-ding-ding-ding-ding-ding', 'brag', 'stab', 'nauseous', 'el', 'gulliver_dark:', 'guts', 'super-genius', 'waste', 'arse', 'choice:', 'squashing', 'elizabeth', 'cletus_spuckler:', 'dea-d-d-dead', 'logos', \"sippin'\", 'contemplated', \"bashir's\", 'bartholomã©:', 'overflowing', 'kemi', 'alec_baldwin:', 'tapestry', 'shipment', 'wolverines', 'entering', 'tropical', 'poster', \"america's\", 'si-lent', 'poorer', 'flustered', 'poplar', 'skydiving', 'mini-beret', 'bottoms', 'othello', \"cupid's\", 'howya', 'mission', 'shelbyville', 'dna', 'figures', 'brunch', 'physical', \"industry's\", 'swimming', 'attach', 'bloodball', 'and-and', 'zoomed', 'wowww', 'busiest', 'ninety-six', 'self-centered', \"bo's\", 'shark', 'hardwood', 'fontaine', 'payday', 'sprawl', 'donation', 'slugger', 'sentimonies', 'dropping', 'colonel:', 'sinkhole', 'whining', 'urban', 'caper', 'decided', 'facebook', 'trash', \"idea's\", 'soir', 'weapon', 'title', 'fired', 'judges', 'popped', 'additional-seating-capacity', 'coast', 'naegle', \"liftin'\", 'sidelines', 'bridges', 'dimly', 'ambrose', 'spacey', 'ultimate', 'legally', 'elect', 'microbrew', 'parked', 'besides', 'repeating', 'loafers', 'visas', 'instrument', 'witches', 'gesture', 'unhappy', 'living', 'crowds', 'lurks', 'judgments', 'planted', 'yammering', 'tomahto', 'bragging', 'bagged', 'alter', 'disappointment', \"fightin'\", 'souped', 'asks', 'old_jewish_man:', 'vacations', 'friday', 'eva', 'patriotic', 'ate', 'shoes', 'attractive_woman_#2:', 'wacky', 'ford', 'doom', 'cliff', 'moonlight', 'lucinda', 'ing', \"shootin'\", 'hunger', 'extreme', 'encouraged', 'drift', \"murphy's\", 'fruit', 'trunk', 'intervention', 'extinguishers', 'ugliness', 'script', 'hourly', 'creepy', 'difference', 'michael_stipe:', 'fica', 'stamp', 'spirit', 'lipo', 'england', 'disco_stu:', 'britannia', 'barber', 'begin', 'determined', 'reading:', 'screws', 'flack', 'steam', \"sat's\", 'cheerier', \"nothin's\", 'solves', 'theme', 'mamma', 'ton', 'byrne', 'ihop', 'timbuk-tee', 'statues', 'produce', 'surprising', 'prices', '35', 'paints', 'applesauce', 'vanities', 'ze-ro', 'sideshow', 'total', 'gregor', \"boy's\", 'lenford', 'lifts', 'option', 'sperm', 'steamed', 'dateline', 'iddilies', 'crayon', 'kidneys', 'oblongata', 'stretches', 'necessary', 'sen', \"kid's\", 'rhode', 'priority', 'aisle', 'voicemail', 'f-l-a-n-r-d-s', 'apulina', 'shaker', 'fayed', 'ointment', 'sweaty', 'plug', 'ripper', \"man's_voice:\", 'cakes', 'outrageous', \"santa's\", 'confession', 'ling', 'cell-ee', 'bras', \"starla's\", 'grateful', 'terrorizing', 'splash', 'strolled', \"she'll\", 'fl', 'bachelorette', 'theatah', 'crestfallen', 'snotball', 'dracula', 'supermarket', 'mini-dumpsters', 'mexicans', 'ventriloquism', 'feat', 'sugar-free', 'polishing', 'whispers', 'preparation', \"i'd'a\", 'hygienically', 'tree_hoper:', \"summer's\", 'pus-bucket', 'toxins', 'launch', 'community', 'bell', \"wino's\", 'gil_gunderson:', \"cleanin'\", 'aiden', 'zone', 'u2:', 'incriminating', 'eternity', 'joy', 'salvador', 'icelandic', 'notice', 'bluff', 'skins', 'bulked', 'moolah-stealing', 'tablecloth', 'pickles', 'spite', 'neighborhood', 'chosen', 'carefully', 'engraved', 'increased', \"tv'll\", 'booger', 'super-nice', 'zinged', 'drag', 'doof', 'insist', 'guff', 'badmouth', 'simplest', 'dã¼ff', 'savagely', 'southern', 'libraries', 'stays', 'macgregor', 'papa', 'goo', 'sacrifice', 'sickened', 'sight', 'klown', 'riveting', 'nibble', 'clothespins', 'compadre', 'john', 'experiments', 'lewis', 'nervously', 'forgotten', 'squeeze', 'finance', 'socratic', 'landlord', 'muffled', 'grieving', 'charming', 'schedule', 'life-partner', 'moustache', 'actress', 'luckily', 'smitty:', 'burt_reynolds:', 'east', 'idioms', 'sleigh-horses', 'storms', 'gimmick', 'co-sign', \"duff's\", 'eyed', 'lighter', 'sexton', 'giggle', 'little_hibbert_girl:', 'buddha', 'leathery', 'healthier', 'presses', 'derisive', 'latour', 'kissingher', 'upgrade', 'swatch', 'grease', \"depressin'\", 'watt', 'lingus', 'gabriel:', \"jackpot's\", \"rustlin'\", 'pridesters:', 'winded', 'eye-gouger', 'confidentially', 'odor', 'sobriety', \"life's\", 'spoon', 'aboard', 'savings', 'looting', 'superpower', 'perverse', 'wisconsin', 'scarf', 'lovelorn', 'mirthless', 'crushed', 'je', 'guinea', \"should've\", 'everywhere', 'augustus', 'doll-baby', 'carpet', 'taylor', 'blaze', 'rueful', 'pointy', 'viva', 'data', 'sets', 'dean', 'thing:', 'darjeeling', 'burg', 'asleep', 'whistling', 'gibson', 'sangre', 'hotel', 'graves', 'count', 'in-ground', 'faces', 'divine', 'huddle', 'booth', 'microphone', 'diets', 'helps', 'fury', 'knuckles', 'seamstress', 'marched', 'lainie:', \"hell's\", 'fast-food', 'bindle', 'stupidest', 'sensible', 'jackpot-thief', 'plane', 'fell', 'blinded', 'appreciated', 'skoal', 'absentmindedly', 'birth', 'personal', 'meyerhof', 'hearse', 'foundation', 'e-z', 'digging', 'medieval', 'sucks', 'contemptuous', 'problemo', 'be-stainã¨d', 'designer', 'depressing', 'picked', 'television', \"who'da\", 'utensils', 'bide', 'chipper', 'mansions', 'rem', \"stallin'\", 'weekend', 'musketeers', 'souvenir', 'pronto', 'squad', 'pursue', 'sang', 'weight', 'wiping', \"spiffin'\", 'tire', 'non-american', 'regulations', 'expensive', 'blind', 'paparazzo', 'fat_in_the_hat:', 'nick', 'nonchalant', 'suspenders', 'researching', 'effect', 'ralph_wiggum:', \"fine-lookin'\", 'enabling', 'sweetie', 'side:', 'cuz', 'lime', 'hubub', 'devils:', 'mariah', 'quimby_#2:', 'compete', 'meaning', \"professor's\", 'subscriptions', 'aid', 'result', 'mt', 'misfire', 'all-american', '21', 'sturdy', 'delays', \"man'd\", 'vermont', 'savvy', 'grubby', \"cheerin'\", 'fishing', 'irs', 'paramedic:', 'pasta', 'official', 'key', 'warmth', \"nixon's\", 'showed', 'blocked', 'mix', 'growing', 'spews', 'rainier', \"d'ya\", 'exchanged', 'swe-ee-ee-ee-eet', 'beaumarchais', \"o'\", 'betrayed', \"'\", 'captain:', 'schemes', 'lou', 'lungs', 'talkers', 'she-pu', 'blokes', 'bothered', 'lifetime', 'score', \"that'd\", 'material', 'ireland', 'rip', 'helping', 'venture', 'retain', 'mountain', 'swimmers', 'monorails', 'minus', 'followed', 'sass', 'rig', \"snappin'\", 'amber_dempsey:', 'dads', 'propose', 'orgasmville', 'raking', \"scammin'\", 'protesters', 'easily', 'anyhow', 'lead', \"football's\", 'email', 'hooch', 'way:', 'enlightened', 'videotaped', 'mason', 'grind', 'vulgar', 'administration', 'pre-columbian', 'nightmares', 'slobbo', \"department's\", 'nailed', 'string', 'incarcerated', 'skinheads', 'freaking', 'pretzel', 'simon', 'fresco', 'anger', 'splendid', 'winning', 'whaaaa', 'shindig', 'distaste', 'gig', 'eco-fraud', 'relative', 'malibu', 'states', \"burnin'\", 'bookie', 'kings', 'nonsense', 'las', 'hemoglobin', 'bleeding', 'ninety-seven', 'annie', 'sustain', \"toot's\", 'philip', 'tv_daughter:', \"liberty's\", 'shag', 'mint', 'pews', 'lis', 'glee', 'progress', 'refiero', 'grin', 'advertise', 'frightened', 'perking', 'rome', 'wrap', 'evils', 'hiring', 'name:', 'rug', 'rabbits', 'chin', 'nectar', 'adopted', 'romance', 'rice', 'avenue', 'rationalizing', 'mystery', 'startup', 'chug-monkeys', 'declared', 'astonishment', 'developed', 'massive', 'endorsement', 'rash', 'alma', 'creme', 'corkscrews', 'shelf', 'officials', \"heat's\", 'column', \"brockman's\", 'unavailable', 'moxie', 'oh-so-sophisticated', 'frink-y', 'ali', 'tonic', 'show-off', 'habitrail', 'exception:', 'woooooo', 'theatrical', 'affection', 'braun:', 'democrats', 'unsourced', 'naively', 'fletcherism', 'meals', 'delicate', 'unable', 'ads', 'dogs', 'vin', 'wound', 'arguing', 'mmmmm', 'forty-seven', 'microwave', 'champion', 'nahasapeemapetilon', 'squeezed', 'maxed', \"smackin'\", 'flush', 'spine', 'terminated', 'occupation', 'whoa-ho', 'frankie', 'suave', 'accusing', \"tramp's\", 'tease', 'nascar', 'manfred', 'dazed', 'sheets', 'wagering', 'shrieks', 'womb', 'oughta', 'thought_bubble_lenny:', 'easygoing', 'loathe', 'reminded', 'feld', 'dyspeptic', 'listened', 'sincerely', 'eyeballs', 'rainbows', 'chateau', 'tin', 'roz', 'barney-guarding', 'versus', 'completely', 'dignified', 'crowned', 'creature', 'shred', 'typed', 'greatly', 'fustigate', 'alternative', 'schabadoo', \"disrobin'\", '_burns_heads:', 'christian', \"cashin'\", 'mcclure', 'buddies', 'dum-dum', 'massage', 'supplying', \"listenin'\", 'today/', 'firm', 'belts', 'cheesecake', 'boyhood', \"i-i'll\", 'hammock', 'lame', 'troubles', 'occupancy', 'without:', 'flayvin', 'karaoke_machine:', 'fantasy', 'classy', 'fortress', 'disappointing', \"g'on\", 'trashed', 'tasimeter', 'banquet', 'horses', 'prints', 'reaction', \"c'mom\", 'reptile', 'ails', 'wise', 'mid-seventies', \"nick's\", 'kinderhook', 'brakes', 'abe', 'democracy', 'badmouths', 'backbone', 'wish-meat', 'drawer', 'discriminate', 'killarney', 'moonshine', 'ron', 'ehhhhhhhh', 'breakdown', 'majority', 'culkin', 'ears', \"beggin'\", 'wigs', 'ineffective', 'bushes', 'mill', 'mathis', 'injury', \"what'd\", 'landfill', 'handed', 'exclusive:', 'finish', 'bites', 'thorough', 'dawning', 'dozen', 'hat', 'morning-after', 'starla', 'sneeze', 'drunkenly', \"somethin's\", 'dingy', 'defiantly', 'examines', 'nightmare', 'deli', 'stomach', \"coffee'll\", 'tenuous', 'phase', 'characteristic', 'soft', 'statesmanlike', 'puzzle', 'lift', 'triple-sec', 'legs:', 'commit', 'tight', 'duffed', 'mailbox', 'shifty', 'furiously', 'powered', 'gruesome', 'merchants', 'mushy', 'infor', 'shades', 'tickets', 'dentist', 'labor', 'platinum', 'peabody', 'seductive', 'heart-broken', 'hippies', 'casting', 'shoe', 'twenty-six', 'tubman', 'thrown', 'dae', 'intoxicants', 'issues', 'horrors', \"elmo's\", 'highball', 'floating', \"eatin'\", 'compromise:', 'endorsed', 'vestigial', 'ratted', 'meteor', 'passenger', 'strangles', 'wheeeee', 'squeal', 'cruiser', 'louse', 'tomato', 'zack', 'guiltily', 'crisis', 'escort', 'lotsa', 'wishing', 'immiggants', 'sketch', 'scratcher', 'groveling', '1979', 'darn', 'fights', 'prince', 'chunk', \"thing's\", 'exploiter', \"soakin's\", 'restless', 'studied', 'michael', 'rumor', 'bumblebee_man:', \"fans'll\", 'beached', \"speakin'\", 'sells', 'harm', 'support', 'accepting', 'burger', 'shtick', 'file', 'guessing', 'octa-', 'pink', 'donut', 'coherent', 'slit', 'flames', \"tony's\", 'gentle', 'harvey', 'cummerbund', 'almond', 'ballot', 'test-lady', 'tank', 'orphan', 'knives', \"bettin'\", 'mitts', 'cocks', 'pepsi', 'flophouse', 'reaches', 'mid-conversation', 'reed', 'knit', 'signal', 'older', 'ninety-eight', 'venom', 'runt', 'vehicle', \"wallet's\", 'jã¤germeister', 'taught', 'brown', 'lear', 'thirty-three', \"president's\", 'mozzarella', 'universe', 'attractive_woman_#1:', 'insulin', 'wealthy', 'cerebral', 'ceremony', 'gulps', 'shard', 'privacy', 'tracks', 'gr-aargh', 'continued', 'assert', 'roach', 'hotenhoffer', 'italian', 'sink', 'gluten', 'groans', 'robbers', 'angrily', 'composite', 'whispered', 'wildfever', 'listens', 'einstein', 'aggravazes', 'panicked', 'entrance', 'jackson', 'snitch', 'sanctuary', 'voted', 'criminal', 'cooker', 'clipped', 'youngsters', 'jer', 'recreate', 'shorter', 'fry', 'quadruple-sec', 'occasion', 'grammy', 'occurred', 'beer:', 'man_at_bar:', 'lessee', 'killing', 'stripe', 'childless', 'bannister', 'pharmaceutical', 'fence', 'reactions', 'whatchamacallit', 'clips', 'cockroaches', 'adequate', 'minors', 'pictured', 'glummy', 'enthusiastically', 'blank', 'tribute', 'race', 'obama', 'marjorie', 'cheapskates', 'victim', \"car's\", 'espn', 'specified', 'tolerable', 'ape-like', 'orders', 'forty-two', 'wazoo', 'walther', 'puke-pail', 'faceful', 'gossipy', 'shareholder', 'safecracker', 'ends', 'publishers', 'ivanna', 'halloween', 'cab', 'gimmicks', 'beings', 'unsanitary', 'perfume', 'stinger', 'conditioning', 'jacksons', 'itchy', 'julienne', 'cupid', \"ya'\", \"fendin'\", 'nfl_narrator:', 'sunglasses', 'training', 'erasers', 'bouquet', 'nantucket', 'predictable', 'temper', 'period', 'congoleum', 'albeit', 'manatee', 'pugilist', \"england's\", 'hunka', 'handler', \"tap-pullin'\", '_marvin_monroe:', 'stengel', 'wrecking', 'strictly', 'burglary', 'impending', 'jukebox_record:', 'winston', 'wh', 'murderously', 'hispanic_crowd:', 'stolen', 'julep', 'charged', 'depressant', 'executive', 'sledge-hammer', 'protestantism', 'stripes', 'presumir', 'whirlybird', 'sponsoring', 'adult', 'sizes', 'sounded', 'fledgling', 'drove', 'crapmore', 'in-in-in', 'stretch', 'it:', 'rush', 'thawing', 'espousing', 'pawed', 'mirror', 'ribbon', 'yuh-huh', 'whoopi', 'carney', 'technical', 'tied', 'commanding', 'limits', 'harvesting', 'boned', 'kucinich', 'dirty', 'blissful', 'so-ng', 'squabbled', 'sponsor', 'perfected', 'juke', 'cosmetics', 'poetics', 'hoped', 'glitterati', 'muhammad', 'lard', 'swooning', 'faiths', 'badly', 'throats', '4x4', 'jerk-ass', 'brunswick', 'washer', 'philosophic', 'streetcorner', 'woe:', 'x-men', \"'ceptin'\", \"stabbin'\", 'addiction', 'haikus', 'encouraging', 'fleabag', 'west', 'africanized', 'chinese_restaurateur:', 'mouths', 'shame', 'brusque', 'refreshing', 'oddest', 'astrid', 'reluctantly', 'gel', 'drummer', 'spouses', 'repairman', 'falsetto', 'updated', 'ratio', \"don'tcha\", 'stagehand:', 'encore', 'post-suicide', 'wuss', 'speed', 'ho-la', 'pee', 'site', 'jams', 'marry', 'groan', 'worldly', 'beer-jerks', 'conversations', 'relaxed', 'perplexed', 'radiation', 'layer', 'legend', 'ehhh', 'dignity', \"lady's\", 'store-bought', 'multi-purpose', 'connection', 'aged', 'norway', 'awfully', 'fondest', 'clubs', 'arts', \"wait'll\", 'hostile', 'widow', 'prayers', 'forgiven', 'spits', 'methinks', 'stamps', 'valuable', 'luv', 'offshoot', 'sticking', 'homer_doubles:', 'dirge-like', 'benjamin', 'lindsay', 'generosity', 'invulnerable', 'marvelous', 'doppler', 'decision', 'handwriting', 'space-time', '2', 'brainheaded', 'rancid', 'prep', 'interrupting', 'faulkner', 'softer', 'soul-crushing', 'sympathizer', 'statue', \"writin'\", 'clown-like', 'chow', 'hems', 'flynt', 'brotherhood', 'distinct', 'pretzels', 'flourish', \"cuckold's\", 'flew', 'suspended', 'conclude', 'literary', 'seminar', 'whaaa', 'irrelevant', 'gheet', 'believer', \"doctor's\", 'cronies', 'glamour', 'martini', 'eight-year-old', 'lend', 'rent', 'evasive', 'cheaped', 'sudoku', 'astronauts', 'ladder', 'spooky', 'territorial', 'pajamas', 'dammit', 'pages', 'heh-heh', \"larry's\", 'slot', 'thorn', 'breathalyzer', 'rods', 'station', 'life:', 'tall', 'thrust', 'fourteen:', 'backward', 'according', 'nã£o', 'proof', 'unbelievable', 'peeping', 'smelly', 'wiggle-frowns', 'wittgenstein', 'jigger', 'h', 'pumping', 'charges', 'bad-mouth', 'relaxing', 'exultant', 'kool', 'stan', 'soaking', 'application', 'brine', 'writer:', 'bobo', 'effervescence', 'deals', 'affects', 'snatch', 'gambler', 'journey', 'ashtray', 'rebuttal', \"mcstagger's\", \"pickin'\", 'shill', 'liser', 'soaked', 'horribilis', 'celeste', 'coal', 'owes', 'hillbillies', 'play/', 'stalking', 'toledo', 'prolonged', 'selfish', 'tiger', 'frankenstein', 'anthony_kiedis:', 'sticker', 'credit', 'liven', 'pre-recorded', 'femininity', 'nagurski', 'runaway', 'birthplace', 'kidnaps', 'hemorrhage-amundo', 'flaking', 'tomatoes', 'inanely', 'usual', 'headhunters', \"school's\", 'influence', 'imaginary', 'exited', 'owned', 'country', 'players', 'errrrrrr', 'understood:', 'poison', 'kirk_voice_milhouse:', 'apron', 'stay-puft', 'sitcom', 'bronco', 'cattle', 'hounds', 'ear', 'sunny', \"can't-believe-how-bald-he-is\", 'streetlights', 'fad', 'dealt', 'lovejoy', \"secret's\", \"show's\", \"'kay-zugg'\", \"askin'\", 'displeased', 'laney', 'caricature', 'helpless', 'liability', 'guard', 'up-bup-bup', 'stairs', 'hooray', 'competing', 'parrot', 'premise', 'stooges', 'country-fried', 'takeaway', 'allegiance', 'painted', 'grace', 'miracle', 'malfeasance', \"playin'\", 'boxer:', 'society', 'abusive', \"jimbo's_dad:\", 'faint', \"pressure's\", 'loudly', 'sealed', \"getting'\", 'elmer', \"y'see\", 'lifestyle', 'colossal', '91', 'plaintive', 'lemonade', 'carolina', 'bonfire', 'wakede', 'genuinely', 'flash', 'trainers', 'gumbo', 'pigtown', 'surprised/thrilled', 'jay', 'th', 'other_book_club_member:', 'mags', 'innocuous', 'asses', 'rafters', 'smoker', 'eddie', 'gut', 'lawyer', 'firing', 'mustard', \"lovers'\", \"daughter's\", 'apart', 'a-lug', 'anonymous', 'fixes', 'poke', 'my-y-y-y-y-y', 'argue', 'repressed', 'crippling', 'appendectomy', 'unattractive', 'attraction', 'brother-in-law', 'neon', 'lecture', 'hooky', \"family's\", 'sniper', \"challengin'\", 'combination', 'arrange', 'wham', 'chairman', 'beards', '7g', 'bumped', 'artist', 'menlo', 'quimby', 'allowance', 'recipe', 'everyday', 'tha', 'waking-up', 'cesss', 'mind-numbing', 'ruled', 'barter', 'society_matron:', 'producers', 'chili', 'releases', 'perch', 'equal', 'patron_#2:', 'chips', 'fistiana', 'larry', 'haws', 'radiator', '3rd_voice:', 'sternly', 'stewart', 'moe-lennium', 'sixty-five', 'buyer', 'portentous', 'aerospace', 'xx', \"yesterday's\", 'elocution', 'funniest', 'achebe', 'atari', 'monkeyshines', 'fonzie', 'bathed', 'shells', \"aren'tcha\", 'scientists', 'mmm-hmm', 'wreck', 'the_edge:', 'youth', 'reconsidering', 'wantcha', 'continuum', 'bellyaching', 'kissed', 'lump', 'plastered', 'dislike', 'fund', 'mumble', 'junkyard', 'irishman', 'fiction', 'lily-pond', 'hyper-credits', 'stagey', 'anti-lock', 'refreshment', 'strokkur', 'notices', 'sorts', 'tow-joes', 'fdic', 'babar', 'beligerent', 'steinbrenner', 'hydrant', 'lennyy', 'happens', 'e', 'languages', 'michelin', 'hidden', 'this:', 'bono:', 'four-drink', 'filed', 'what-for', 'modestly', 'blurbs', 'breathless', 'grammys', 'remain', 'nucular', 'high-definition', 'expired', 'pretends', 'fierce', 'bachelor', 'catch-phrase', 'created', 'newspaper', 'valley', 'refill', 'competitive', 'walked', 'sticking-place', 'clams', 'overstressed', 'stacey', 'contact', 'beatings', 'dennis', 'pusillanimous', 'swine', 'temples', 'religious', 'champs', 'replaced', 'eurotrash', \"games'd\", 'revenge', 'diminish', 'meaningfully', 'sobo', 'bulldozing', 'humiliation', 'vicious', 'protecting', 'salvation', 'toy', 'fortune', 'wienerschnitzel', 'cecil_terwilliger:', 'chinua', 'explanation', 'highest', \"man's\", 'grope', 'napkins', 'cab_driver:', 'sour', 'mm-hmm', 'unattended', '14', 'resigned', 'acquitted', \"tonight's\", 'low-blow', 'bedridden', 'forced', 'unfair', 'william', 'unearth', 'sending', 'flexible', 'barstools', 'supermodel', 'limber', 'california', 'stares', 'rewound', 'indeed', 'virile', 'investigating', 'other_player:', 'champignons', \"enjoyin'\", 'elves:', 'afterglow', 'heaving', 'grammar', 'kay', 'right-handed', 'beyond', 'gunter', 'playhouse', 'dejected', 'mary', 'maude', 'gamble', 'hearing', 'otherwise', 'trade', 'nicer', 'bid', 'dark', 'cocking', \"rentin'\", 'yells', 'lee', 'bits', 'dictating', 'solely', \"must've\", 'host', \"blowin'\", 'necklace', 'parents', 'eve', 'teriyaki', 'robin', 'outstanding', 'happiness', 'committee', 'basement', 'awareness', 'belly-aching', 'slop', 'sesame', 'ironic', 'chapstick', 'female_inspector:', 'mocking', 'toms', 'righ', 'tanking', 'moving', 'horror', 'separator', 'deny', 'verticality', 'single-mindedness', 'pyramid', 'nickel', 'triumphantly', 'office', 'ralph', \"b-52's:\", \"she'd\", \"g'ahead\", 'tuna', 'royal', 'travel', 'nemo', 'uses', 'bleacher', 'half-back', 'edna-lover-one-seventy-two', 'lanes', 'tearfully', 'fatso', 'jazz', 'series', 'blowfish', 'lizard', 'togetherness', 'recap:', 'kills', 'nitwit', 'strain', 'hah', 'fifth', 'employees', 'squirrels', 'abercrombie', 'twenty-four', 'faded', 'texan', 'done:', 'dumbbell', 'slick', 'go-near-', 'missing', 'pinball', 'defected', 'slurps', 'rife', 'expense', 'sloe', 'butterball', 'comment', 'breathtaking', 'twentieth', 'flat', 'barney-type', 'ideas', 'jobless', 'heck', \"betsy'll\", 'ivory', 'sub-monkeys', 'senators:', 'super-tough', 'notch', 'assumed', 'patrons:', 'maximum', 'eu', 'fist', 'automobiles', 'nbc', 'uninhibited', 'newsies', 'suru', 'showered', 'equivalent', 'pall', 'gayer', 'illegally', 'shhh', 'starters', 'coin', 'quero', 'exact', 'jaegermeister', 'ruby-studded', 'choices:', 'aristotle:', 'danny', 'rookie', 'snout', 'syndicate', 'killer', 'punkin', 'briefly', 'soothing', 'peppers', 'typing', 'comeback', 'baloney', 'avalanche', 'gol-dangit', 'well-wisher', 'signed', 'dutch', 'anderson', 'eightball', 'hate-hugs', 'dies', '8', 'germans', 'access', 'mines', 'lady_duff:', 'remodel', 'idiots', 'haircuts', 'williams', 'moe-clone', 'certainly', 'gotcha', \"messin'\", 'catty', 'appeals', 'racially-diverse', 'convinced', 'brief', 'annual', 'multi-national', 'ripping', 'blur', 'kenny', 'tourist', 'macaulay', \"handwriting's\", 'author', 'beard', 'faith', 'theory', 'stained-glass', 'fella', 'carny:', 'low-life', 'canoodling', 'choose', 'sight-unseen', 'nos', 'scrutinizing', 'disdainful', 'winner', 'bounced', 'wore', 'polygon', \"aristotle's\", 'miss_lois_pennycandy:', \"smokin'\", 'mater', 'blessing', 'cuff', 'exits', 'carnival', 'frazier', 'harrowing', 'november', 'butter', 'occurs', \"tv's\", 'canyoner-oooo', 'add', 'painless', 'sieben-gruben', 'kodos:', 'legoland', 'goblins', 'proposition', 'kazoo', 'nuked', 'totalitarians', 'marshmallow', 'singing/pushing', 'bumbling', 'investment', 'represents', 'earpiece', 'cap', 'pretentious_rat_lover:', 'onion', 'protesting', 'befriend', 'something:', 'kl5-4796', 'drains', 'sweat', 'supervising', 'toe', 'drinking:', 'noose', 'worldview', 'photographer', 'uniforms', 'purveyor', 'destroyed', 'dreamy', 'agh', 'lookalikes', 'traitor', 'locklear', \"mo'\", 'detective', 'kirk', 'agents', 'lodge', 'albert', 'fiiiiile', 'loboto-moth', 'ticks', 'numeral', 'trail', 'fears', 'oils', 'edge', 'example', 'guttural', 'blossoming', 'indigenous', 'chicken', 'cuckoo', 'jasper_beardly:', 'enveloped', 'hideous', 'moe-ron', 'urge', 'infatuation', 'index', 'event', 'wobbly', '/mr', 'lease', 'design', 'quick-like', 'chubby', 'spitting', 'homer_', 'crappy', 'ideal', 'slurred', 'virility', 'infestation', 'trees', 'shyly', 'spilled', 'cologne', 'sacajawea', 'behavior', 'vampire', 'please/', 'tummies', 'libido', 'presently', 'cure', 'lobster', 'mexican_duffman:', 'bon', 'buttocks', 'knocks', 'dint', 'stops', 'negative', 'measure', 'tender', 'yello', 'homeland', 'traitors', 'kicks', 'eaten', 'wounds', 'shesh', 'ninety-nine', 'distance', 'massachusetts', 'occupied', 'lone', 'experience', 'tying', 'stars', 'leonard', 'demo', 'regretful', 'tow-talitarian', 'selective', 'dash', 'gardens', 'eminence', 'cajun', 'circus', 'jimmy', 'furniture', 'bubbles-in-my-nose-y', 'scratching', 'switched', 'oooh', 'ping-pong', 'crowded', 'inning', 'incapable', 'imitating', 'rotten', 'i/you', 'monroe', 'traditions', 'wad', 'recent', 'scoffs', 'cheering', 'tar-paper', 'sistine', 'actor', 'starlets', 'title:', \"renovatin'\", 'marquee', 'bullet-proof', 'scruffy_blogger:', 'snail', 'putty', 'settled', 'chic', 'mccarthy', 'wind', 'psst', 'cavern', 'disguise', 'misconstrue', 'korea', '50-60', 'dumb-asses', 'plotz', 'slab', 'hockey-fight', 'washouts', 'dressing', 'young_barfly:', 'thirsty', 'bowie', 'chuckling', 'humanity', 'jerking', 'glowers', 'nurse', 'hellhole', 'enjoys', \"mopin'\", 'forget-me-drinks', 'raggie', 'attend', 'language', 'cage', 'rekindle', 'militia', 'saving', 'pointedly', 'ungrateful', 'loneliness', 'ralphie', \"donatin'\", 'divorced', 'forgets', \"leavin'\", 'hammer', 'factor', 'information', 'magnanimous', 'treehouse', 'soaps', 'donor', 'laid', 'leaving', 'stage', 'jovial', 'priceless', 'newsweek', 'paper', 'homunculus', 'woodchucks', 'hateful', 'runners', \"when's\", 'brawled', 'settles', 'nor', 'semi-imported', 'wheels', 'iranian', 'intruding', \"spyin'\", 'intimacy', 'scum-sucking', 'fantastic', 'hexa-', 'diving', 'batmobile', 'nerd', \"y'money's\", 'hangover', \"tootin'\", 'gentles', 'branding', 'ancestors', 'rafter', 'flame', 'however', 'depression', 'slogan', 'offensive', 'pen', 'yew', 'madonna', 'hustle', 'indifference', 'getup', 'limericks', 'lobster-politans', 'placed', 'coyly', 'reunion', 'scrubbing', \"bart'd\", 'we-we-we', 'pas', 'temple', \"o'reilly\", 'slim', 'choke', 'decadent', \"collector's\", 'disposal', 'dana_scully:', 'majesty', 'overhearing', 'proper', 'warned', 'hooters', 'helpful', 'unhook', 'quarry', 'nominated', \"swishifyin'\", 'pronounce', 'son-of-a', 'suburban', 'feminist', 'swelling', 'caholic', 'sheet', 'fighter', 'grey', 'disgracefully', 'said:', 'superdad', 'pillows', 'happily:', 'jogging', 'manboobs', 'illustrates', 'opens', 'monday', 'patrons', 'rom', 'faced', \"mecca's\", 'clandestine', 'railroads', 'alibi', 'lookalike:', 'die-hard', 'imported-sounding', 'rapidly', 'bunion', 'andrew', 'estranged', 'bills', 'agency', 'ons', 'interesting', 'larson', 'newly-published', 'spectacular', 'louisiana', 'reserved', 'barbara', 'cecil', 'suspiciously', 'luckiest', 'oopsie', 'cats', 'countryman', 'eats', 'focused', \"dimwit's\", 'intakes', 'chapter', 'cricket', 'bolting', \"choosin'\", 'science', 'gangrene', 'legal', 'dull', 'thanking', 'ignoring', 'victorious', 'cleaning', 'correction', 'mulder', 'amnesia', 'billiard', \"can'tcha\", 'delts', 'stinky', 'appalled', \"tinklin'\", 'pine', 'abolish', 'good-looking', 'obsessive-compulsive', 'polish', 'dishrag', 'saga', 'pepper', 'fat-free', 'warranty', 'sweden', 'rented', 'schorr', 'windshield', 'app', 'earth', 'wholeheartedly', 'tapered', 'pep', 'twelve-step', 'fainted', 'online', 'ninth', \"pullin'\", 'gruff', 'mostly', 'coupon', 'wok', 'goodwill', 'simpsons', 'crony', 'watched', 'sedaris', 'piling', 'item', 'watashi', 'quarter', 'olive', 'pizza', 'rector', 'ditched', 'kentucky', 'crow', \"somebody's\", 'blooded', 'farewell', 'decide:', 'triangle', 'choked', 'thrilled', 'neighboreeno', 'madison', 'hitchhike', 'parenting', '10:15', 'employment', 'gutenberg', 'wiggle', 'tooth', 'badge', 'squishee', 'ohhhh', 'moonnnnnnnn', 'wrapped', 'grinch', \"spaghetti-o's\", 'ronstadt', 'sheriff', 'take-back', 'boxcars', 'stumble', 'skinny', 'leak', 'taunting', 'holy', 'clearing', 'man_with_crazy_beard:', 'rugged', 'dizer', 'contract', 'disturbing', 'skills', 'donate', 'chumbawamba', 'backing', 'cheaper', 'crotch', 'nature', 'musses', 'spit-backs', 'unforgettable', '1-800-555-hugs', 'wikipedia', 'persia', 'winks', 'frontrunner', 'dime', \"fishin'\", 'p-k', 'ehhhhhh', 'consulting', 'sideshow_bob:', 'nap', 'nursemaid', 'limited', 'installed', \"'pu\", 'noosey', 'grudgingly', 'whim', 'clench', 'liquor', 'beans', 'overturned', 'ahhhh', 'ehhhhhhhhh', 'alls', 'customers-slash-only', 'expecting', 'rutabaga', 'insurance', 'cowboy', 'flashing', 'choices', 'stink', 'afloat', 'two-drink', 'chip', 'eww', 'exhale', 'oh-ho', 'cobra', \"'your\", 'dexterous', 'ignorant', 'kisser', 'housewife', 'pro', 'sued', 'swig', 'comedies', \"floatin'\", 'goal', 'device', 'gift:', 'dreamily', 'safely', 'most:', 'tidy', 'ummmmmmmmm', 'y', 'simple', 'coms', 'kneeling', 'enthusiasm', \"knockin'\", 'mistresses', 'doooown', 'bathtub', \"battin'\", 'salary', 'ingrates', 'housework', 'stalin', 'choked-up', \"costume's\", \"ragin'\", 'ore', \"city's\", 'fills', 'knowingly', 'cleveland', 'fortensky', 'churchy', 'network', 'arabs', 'slapped', 'moe_recording:', 'moe-near-now', 'three-man', 'absentminded', 'agent_miller:', 'crimes', 'accelerating', \"bladder's\", 'mis-statement', 'nail', 'forecast', 'betcha', '$42', 'kahlua', 'gin-slingers', 'cartoons', 'stalwart', 'bonding', 'dã¼ffenbraus', 'jig', 'spamming', 'adjourned', 'rusty', 'tasty', 'yellow-belly', 'sharity', 'paste', 'slaves', 'sweater', 'pills', 'desire', 'glitz', 'director:', 'noooooooooo', 'habit', 'occasional', 'vengeful', 'hugh', 'stats', 'dramatically', 'furry', 'freed', 'griffith', 'ew', 'hammy', 'poured', 'exhibit', 'boxers', 'gargoyles', 'windowshade', 'disaster', 'premiering', 'bum:', 'tobacky', 'rump', 'pinchpenny', 'gees', 'heliotrope', 'heroism', 'pilsner-pusher', 'padres', 'position', 'ivy-covered', 'affectations', 'dory', 'volunteer', 'car:', 'lorre', 'anyhoo', 'kinds', 'sugar-me-do', 'compare', 'fireworks', 'envy-tations', 'junebug', 'appearance-altering', 'detail', 'cruise', 'whaddya', 'feisty', 'slobs', 'slipped', 'forty-nine', 'nameless', 'chain', 'tear', 'fast-paced', 'murdoch', 'intelligent', 'throws', 'pip', \"neighbor's\", 'jubilation', 'full-blooded', 'dispenser', 'disillusioned', 'starla:', 'nevada', 'washed', 'coma', 'concentrate', 'whoops', \"'now\", 'apply', 'foodie', 'harmony', 'scatter', 'rockers', 'thousand-year', 'trapping', 'specific', 'telegraph', 'fail', 'slays', 'voyager', 'contemporary', 'alva', \"lefty's\", 'cloudy', 'moesy', 'craft', 'lofty', 'homeless', 'entertainer', 'supply', \"'ere\", 'bachelorhood', 'candles', 'voodoo', 'remembers', 'longest', 'rubbed', \"plank's\", 'enforced', 'para', 'crab', 'assume', 'extended', 'hollowed-out', 'americans', \"friend's\", 'gore', 'shoulda', 'options', 'notorious', 'eighty-three', 'shores', 'undies', 'ghouls', 'donated', 'dictator', 'mock-up', 'associate', 'permitting', 'pile', 'self-satisfied', 'life-extension', 'swell', 'two-thirds-empty', 'hike', 'fools', 'shack', 'uncreeped-out', 'whatsit', 'courteous', 'yee-ha', \"dolph's_dad:\", 'anti-crime', 'grains', 'occurrence', 'alpha-crow', 'upsetting', 'pulitzer', 'dumpster', 'federal', 'blamed', 'ought', 'sap', 'repay', 'doctor', \"homer'll\", 'stood', '70', \"treatin'\", 'knuckle-dragging', 'chunky']\n"
     ]
    }
   ],
   "source": [
    "\"\"\"\n",
    "DON'T MODIFY ANYTHING IN THIS CELL\n",
    "\"\"\"\n",
    "# Preprocess Training, Validation, and Testing Data\n",
    "helper.preprocess_and_save_data(data_dir, token_lookup, create_lookup_tables)"
   ]
  },
  {
   "cell_type": "markdown",
   "metadata": {},
   "source": [
    "# Check Point\n",
    "This is your first checkpoint. If you ever decide to come back to this notebook or have to restart the notebook, you can start from here. The preprocessed data has been saved to disk."
   ]
  },
  {
   "cell_type": "code",
   "execution_count": 13,
   "metadata": {},
   "outputs": [],
   "source": [
    "\"\"\"\n",
    "DON'T MODIFY ANYTHING IN THIS CELL\n",
    "\"\"\"\n",
    "import helper\n",
    "import numpy as np\n",
    "import problem_unittests as tests\n",
    "\n",
    "int_text, vocab_to_int, int_to_vocab, token_dict = helper.load_preprocess()"
   ]
  },
  {
   "cell_type": "markdown",
   "metadata": {},
   "source": [
    "## Build the Neural Network\n",
    "You'll build the components necessary to build a RNN by implementing the following functions below:\n",
    "- get_inputs\n",
    "- get_init_cell\n",
    "- get_embed\n",
    "- build_rnn\n",
    "- build_nn\n",
    "- get_batches\n",
    "\n",
    "### Check the Version of TensorFlow and Access to GPU"
   ]
  },
  {
   "cell_type": "code",
   "execution_count": 14,
   "metadata": {},
   "outputs": [
    {
     "name": "stdout",
     "output_type": "stream",
     "text": [
      "TensorFlow Version: 1.1.0\n"
     ]
    },
    {
     "name": "stderr",
     "output_type": "stream",
     "text": [
      "C:\\Users\\melin\\AppData\\Local\\conda\\conda\\envs\\tensorflow\\lib\\site-packages\\ipykernel_launcher.py:14: UserWarning: No GPU found. Please use a GPU to train your neural network.\n",
      "  \n"
     ]
    }
   ],
   "source": [
    "\"\"\"\n",
    "DON'T MODIFY ANYTHING IN THIS CELL\n",
    "\"\"\"\n",
    "from distutils.version import LooseVersion\n",
    "import warnings\n",
    "import tensorflow as tf\n",
    "\n",
    "# Check TensorFlow Version\n",
    "assert LooseVersion(tf.__version__) >= LooseVersion('1.0'), 'Please use TensorFlow version 1.0 or newer'\n",
    "print('TensorFlow Version: {}'.format(tf.__version__))\n",
    "\n",
    "# Check for a GPU\n",
    "if not tf.test.gpu_device_name():\n",
    "    warnings.warn('No GPU found. Please use a GPU to train your neural network.')\n",
    "else:\n",
    "    print('Default GPU Device: {}'.format(tf.test.gpu_device_name()))"
   ]
  },
  {
   "cell_type": "markdown",
   "metadata": {},
   "source": [
    "### Input\n",
    "Implement the `get_inputs()` function to create TF Placeholders for the Neural Network.  It should create the following placeholders:\n",
    "- Input text placeholder named \"input\" using the [TF Placeholder](https://www.tensorflow.org/api_docs/python/tf/placeholder) `name` parameter.\n",
    "- Targets placeholder\n",
    "- Learning Rate placeholder\n",
    "\n",
    "Return the placeholders in the following tuple `(Input, Targets, LearningRate)`"
   ]
  },
  {
   "cell_type": "code",
   "execution_count": 24,
   "metadata": {},
   "outputs": [
    {
     "name": "stdout",
     "output_type": "stream",
     "text": [
      "Tests Passed\n"
     ]
    }
   ],
   "source": [
    "def get_inputs():\n",
    "    \"\"\"\n",
    "    Create TF Placeholders for input, targets, and learning rate.\n",
    "    :return: Tuple (input, targets, learning rate)\n",
    "    \"\"\"\n",
    "    # TODO: Implement Function\n",
    "    input = tf.placeholder(tf.int32, [None, None], name='input')\n",
    "    targets = tf.placeholder(tf.int32, [None, None], name='targets')\n",
    "    learning_rate = tf.placeholder(tf.float32, name='learning_rate')\n",
    "    return input, targets, learning_rate\n",
    "\n",
    "\n",
    "\"\"\"\n",
    "DON'T MODIFY ANYTHING IN THIS CELL THAT IS BELOW THIS LINE\n",
    "\"\"\"\n",
    "tests.test_get_inputs(get_inputs)"
   ]
  },
  {
   "cell_type": "markdown",
   "metadata": {},
   "source": [
    "### Build RNN Cell and Initialize\n",
    "Stack one or more [`BasicLSTMCells`](https://www.tensorflow.org/api_docs/python/tf/contrib/rnn/BasicLSTMCell) in a [`MultiRNNCell`](https://www.tensorflow.org/api_docs/python/tf/contrib/rnn/MultiRNNCell).\n",
    "- The Rnn size should be set using `rnn_size`\n",
    "- Initalize Cell State using the MultiRNNCell's [`zero_state()`](https://www.tensorflow.org/api_docs/python/tf/contrib/rnn/MultiRNNCell#zero_state) function\n",
    "    - Apply the name \"initial_state\" to the initial state using [`tf.identity()`](https://www.tensorflow.org/api_docs/python/tf/identity)\n",
    "\n",
    "Return the cell and initial state in the following tuple `(Cell, InitialState)`"
   ]
  },
  {
   "cell_type": "code",
   "execution_count": 25,
   "metadata": {},
   "outputs": [
    {
     "name": "stdout",
     "output_type": "stream",
     "text": [
      "Tests Passed\n"
     ]
    }
   ],
   "source": [
    "def get_init_cell(batch_size, rnn_size):\n",
    "    \"\"\"\n",
    "    Create an RNN Cell and initialize it.\n",
    "    :param batch_size: Size of batches\n",
    "    :param rnn_size: Size of RNNs\n",
    "    :return: Tuple (cell, initialize state)\n",
    "    \"\"\"\n",
    "    # TODO: Implement Function\n",
    "    num_lstm_layers = 1\n",
    "    keep_prob = 0.3\n",
    "    lstm = tf.contrib.rnn.BasicLSTMCell(rnn_size)\n",
    "    dropout = tf.contrib.rnn.DropoutWrapper(lstm, output_keep_prob=keep_prob)\n",
    "    cell = tf.contrib.rnn.MultiRNNCell([dropout]* num_lstm_layers)\n",
    "    init_state = tf.identity(cell.zero_state(batch_size, tf.float32), name='initial_state')\n",
    "    \n",
    "    return (cell, init_state)\n",
    "\n",
    "\n",
    "\"\"\"\n",
    "DON'T MODIFY ANYTHING IN THIS CELL THAT IS BELOW THIS LINE\n",
    "\"\"\"\n",
    "tests.test_get_init_cell(get_init_cell)"
   ]
  },
  {
   "cell_type": "markdown",
   "metadata": {},
   "source": [
    "### Word Embedding\n",
    "Apply embedding to `input_data` using TensorFlow.  Return the embedded sequence."
   ]
  },
  {
   "cell_type": "code",
   "execution_count": 26,
   "metadata": {},
   "outputs": [
    {
     "name": "stdout",
     "output_type": "stream",
     "text": [
      "Tests Passed\n"
     ]
    }
   ],
   "source": [
    "def get_embed(input_data, vocab_size, embed_dim):\n",
    "    \"\"\"\n",
    "    Create embedding for <input_data>.\n",
    "    :param input_data: TF placeholder for text input.\n",
    "    :param vocab_size: Number of words in vocabulary.\n",
    "    :param embed_dim: Number of embedding dimensions\n",
    "    :return: Embedded input.\n",
    "    \"\"\"\n",
    "    # TODO: Implement Function\n",
    "    \n",
    "    embedding = tf.Variable(tf.random_uniform((vocab_size, embed_dim), -1, 1))\n",
    "    embed = tf.nn.embedding_lookup(embedding, input_data)\n",
    "\n",
    "    return embed\n",
    "\n",
    "\n",
    "\"\"\"\n",
    "DON'T MODIFY ANYTHING IN THIS CELL THAT IS BELOW THIS LINE\n",
    "\"\"\"\n",
    "tests.test_get_embed(get_embed)"
   ]
  },
  {
   "cell_type": "markdown",
   "metadata": {},
   "source": [
    "### Build RNN\n",
    "You created a RNN Cell in the `get_init_cell()` function.  Time to use the cell to create a RNN.\n",
    "- Build the RNN using the [`tf.nn.dynamic_rnn()`](https://www.tensorflow.org/api_docs/python/tf/nn/dynamic_rnn)\n",
    " - Apply the name \"final_state\" to the final state using [`tf.identity()`](https://www.tensorflow.org/api_docs/python/tf/identity)\n",
    "\n",
    "Return the outputs and final_state state in the following tuple `(Outputs, FinalState)` "
   ]
  },
  {
   "cell_type": "code",
   "execution_count": 27,
   "metadata": {},
   "outputs": [
    {
     "name": "stdout",
     "output_type": "stream",
     "text": [
      "Tests Passed\n"
     ]
    }
   ],
   "source": [
    "def build_rnn(cell, inputs):\n",
    "    \"\"\"\n",
    "    Create a RNN using a RNN Cell\n",
    "    :param cell: RNN Cell\n",
    "    :param inputs: Input text data\n",
    "    :return: Tuple (Outputs, Final State)\n",
    "    \"\"\"\n",
    "    # TODO: Implement Function\n",
    "    output, final_state = tf.nn.dynamic_rnn(cell, inputs, dtype=tf.float32)\n",
    "    final_state = tf.identity(final_state, name='final_state')\n",
    "    return output, final_state\n",
    "   \n",
    "\n",
    "\"\"\"\n",
    "DON'T MODIFY ANYTHING IN THIS CELL THAT IS BELOW THIS LINE\n",
    "\"\"\"\n",
    "tests.test_build_rnn(build_rnn)"
   ]
  },
  {
   "cell_type": "markdown",
   "metadata": {},
   "source": [
    "### Build the Neural Network\n",
    "Apply the functions you implemented above to:\n",
    "- Apply embedding to `input_data` using your `get_embed(input_data, vocab_size, embed_dim)` function.\n",
    "- Build RNN using `cell` and your `build_rnn(cell, inputs)` function.\n",
    "- Apply a fully connected layer with a linear activation and `vocab_size` as the number of outputs.\n",
    "\n",
    "Return the logits and final state in the following tuple (Logits, FinalState) "
   ]
  },
  {
   "cell_type": "code",
   "execution_count": 30,
   "metadata": {},
   "outputs": [
    {
     "name": "stdout",
     "output_type": "stream",
     "text": [
      "Tests Passed\n"
     ]
    }
   ],
   "source": [
    "def build_nn(cell, rnn_size, input_data, vocab_size, embed_dim):\n",
    "    \"\"\"\n",
    "    Build part of the neural network\n",
    "    :param cell: RNN cell\n",
    "    :param rnn_size: Size of rnns\n",
    "    :param input_data: Input data\n",
    "    :param vocab_size: Vocabulary size\n",
    "    :param embed_dim: Number of embedding dimensions\n",
    "    :return: Tuple (Logits, FinalState)\n",
    "    \"\"\"\n",
    "    # TODO: Implement Function\n",
    "    embed = get_embed(input_data, vocab_size, rnn_size )\n",
    "    output, final_state = build_rnn(cell, embed)\n",
    "    logits = tf.contrib.layers.fully_connected(output, vocab_size, activation_fn=None, \n",
    "                                               weights_initializer=tf.truncated_normal_initializer(stddev=0.1),\n",
    "                                              biases_initializer=tf.truncated_normal_initializer(stddev=0.1))\n",
    "    return logits, final_state\n",
    "    \n",
    "  \n",
    "\n",
    "\"\"\"\n",
    "DON'T MODIFY ANYTHING IN THIS CELL THAT IS BELOW THIS LINE\n",
    "\"\"\"\n",
    "tests.test_build_nn(build_nn)"
   ]
  },
  {
   "cell_type": "markdown",
   "metadata": {},
   "source": [
    "### Batches\n",
    "Implement `get_batches` to create batches of input and targets using `int_text`.  The batches should be a Numpy array with the shape `(number of batches, 2, batch size, sequence length)`. Each batch contains two elements:\n",
    "- The first element is a single batch of **input** with the shape `[batch size, sequence length]`\n",
    "- The second element is a single batch of **targets** with the shape `[batch size, sequence length]`\n",
    "\n",
    "If you can't fill the last batch with enough data, drop the last batch.\n",
    "\n",
    "For exmple, `get_batches([1, 2, 3, 4, 5, 6, 7, 8, 9, 10, 11, 12, 13, 14, 15, 16, 17, 18, 19, 20], 3, 2)` would return a Numpy array of the following:\n",
    "```\n",
    "[\n",
    "  # First Batch\n",
    "  [\n",
    "    # Batch of Input\n",
    "    [[ 1  2], [ 7  8], [13 14]]\n",
    "    # Batch of targets\n",
    "    [[ 2  3], [ 8  9], [14 15]]\n",
    "  ]\n",
    "\n",
    "  # Second Batch\n",
    "  [\n",
    "    # Batch of Input\n",
    "    [[ 3  4], [ 9 10], [15 16]]\n",
    "    # Batch of targets\n",
    "    [[ 4  5], [10 11], [16 17]]\n",
    "  ]\n",
    "\n",
    "  # Third Batch\n",
    "  [\n",
    "    # Batch of Input\n",
    "    [[ 5  6], [11 12], [17 18]]\n",
    "    # Batch of targets\n",
    "    [[ 6  7], [12 13], [18  1]]\n",
    "  ]\n",
    "]\n",
    "```\n",
    "\n",
    "Notice that the last target value in the last batch is the first input value of the first batch. In this case, `1`. This is a common technique used when creating sequence batches, although it is rather unintuitive."
   ]
  },
  {
   "cell_type": "code",
   "execution_count": 46,
   "metadata": {},
   "outputs": [
    {
     "name": "stdout",
     "output_type": "stream",
     "text": [
      "Tests Passed\n"
     ]
    }
   ],
   "source": [
    "def get_batches(int_text, batch_size, seq_length):\n",
    "    \"\"\"\n",
    "    Return batches of input and target\n",
    "    :param int_text: Text with the words replaced by their ids\n",
    "    :param batch_size: The size of batch\n",
    "    :param seq_length: The length of sequence\n",
    "    :return: Batches as a Numpy array\n",
    "    \"\"\"\n",
    "    # TODO: Implement Function\n",
    "    \n",
    "    n_batches = int(len(int_text) / (batch_size * seq_length))\n",
    "\n",
    "    # Drop the last few characters to make only full batches\n",
    "    xdata = np.array(int_text[: n_batches * batch_size * seq_length])\n",
    "    ydata = np.array(int_text[1: n_batches * batch_size * seq_length + 1])\n",
    "    ydata[-1] = xdata[0]\n",
    "\n",
    "    x_batches = np.split(xdata.reshape(batch_size, -1), n_batches, 1)\n",
    "    y_batches = np.split(ydata.reshape(batch_size, -1), n_batches, 1)\n",
    "\n",
    "    #print(np.array(list(zip(x_batches, y_batches))))\n",
    "        \n",
    "    return np.array(list(zip(x_batches, y_batches)))\n",
    "    \n",
    "    \n",
    "\"\"\"\n",
    "DON'T MODIFY ANYTHING IN THIS CELL THAT IS BELOW THIS LINE\n",
    "\"\"\"\n",
    "tests.test_get_batches(get_batches)"
   ]
  },
  {
   "cell_type": "markdown",
   "metadata": {},
   "source": [
    "## Neural Network Training\n",
    "### Hyperparameters\n",
    "Tune the following parameters:\n",
    "\n",
    "- Set `num_epochs` to the number of epochs.\n",
    "- Set `batch_size` to the batch size.\n",
    "- Set `rnn_size` to the size of the RNNs.\n",
    "- Set `embed_dim` to the size of the embedding.\n",
    "- Set `seq_length` to the length of sequence.\n",
    "- Set `learning_rate` to the learning rate.\n",
    "- Set `show_every_n_batches` to the number of batches the neural network should print progress."
   ]
  },
  {
   "cell_type": "code",
   "execution_count": 50,
   "metadata": {
    "collapsed": true
   },
   "outputs": [],
   "source": [
    "'''\n",
    "# Number of Epochs\n",
    "num_epochs = None\n",
    "# Batch Size\n",
    "batch_size = None\n",
    "# RNN Size\n",
    "rnn_size = None\n",
    "# Embedding Dimension Size\n",
    "embed_dim = None\n",
    "# Sequence Length\n",
    "seq_length = None\n",
    "# Learning Rate\n",
    "learning_rate = None\n",
    "# Show stats for every n number of batches\n",
    "show_every_n_batches = None\n",
    "\n",
    "'''\n",
    "num_epochs = 128\n",
    "batch_size = 256\n",
    "rnn_size = 256\n",
    "embed_dim = 300\n",
    "seq_length = 32\n",
    "learning_rate = 0.01\n",
    "show_every_n_batches = 8\n",
    "\n",
    "\n",
    "\"\"\"\n",
    "DON'T MODIFY ANYTHING IN THIS CELL THAT IS BELOW THIS LINE\n",
    "\"\"\"\n",
    "save_dir = './save'"
   ]
  },
  {
   "cell_type": "markdown",
   "metadata": {},
   "source": [
    "### Build the Graph\n",
    "Build the graph using the neural network you implemented."
   ]
  },
  {
   "cell_type": "code",
   "execution_count": 51,
   "metadata": {},
   "outputs": [],
   "source": [
    "\"\"\"\n",
    "DON'T MODIFY ANYTHING IN THIS CELL\n",
    "\"\"\"\n",
    "from tensorflow.contrib import seq2seq\n",
    "\n",
    "train_graph = tf.Graph()\n",
    "with train_graph.as_default():\n",
    "    vocab_size = len(int_to_vocab)\n",
    "    input_text, targets, lr = get_inputs()\n",
    "    input_data_shape = tf.shape(input_text)\n",
    "    cell, initial_state = get_init_cell(input_data_shape[0], rnn_size)\n",
    "    logits, final_state = build_nn(cell, rnn_size, input_text, vocab_size, embed_dim)\n",
    "\n",
    "    # Probabilities for generating words\n",
    "    probs = tf.nn.softmax(logits, name='probs')\n",
    "\n",
    "    # Loss function\n",
    "    cost = seq2seq.sequence_loss(\n",
    "        logits,\n",
    "        targets,\n",
    "        tf.ones([input_data_shape[0], input_data_shape[1]]))\n",
    "\n",
    "    # Optimizer\n",
    "    optimizer = tf.train.AdamOptimizer(lr)\n",
    "\n",
    "    # Gradient Clipping\n",
    "    gradients = optimizer.compute_gradients(cost)\n",
    "    capped_gradients = [(tf.clip_by_value(grad, -1., 1.), var) for grad, var in gradients if grad is not None]\n",
    "    train_op = optimizer.apply_gradients(capped_gradients)"
   ]
  },
  {
   "cell_type": "markdown",
   "metadata": {},
   "source": [
    "## Train\n",
    "Train the neural network on the preprocessed data.  If you have a hard time getting a good loss, check the [forms](https://discussions.udacity.com/) to see if anyone is having the same problem."
   ]
  },
  {
   "cell_type": "code",
   "execution_count": 52,
   "metadata": {},
   "outputs": [
    {
     "name": "stdout",
     "output_type": "stream",
     "text": [
      "Epoch   0 Batch    0/8   train_loss = 8.883\n",
      "Epoch   1 Batch    0/8   train_loss = 5.756\n",
      "Epoch   2 Batch    0/8   train_loss = 5.275\n",
      "Epoch   3 Batch    0/8   train_loss = 4.959\n",
      "Epoch   4 Batch    0/8   train_loss = 4.729\n",
      "Epoch   5 Batch    0/8   train_loss = 4.531\n",
      "Epoch   6 Batch    0/8   train_loss = 4.366\n",
      "Epoch   7 Batch    0/8   train_loss = 4.192\n",
      "Epoch   8 Batch    0/8   train_loss = 4.081\n",
      "Epoch   9 Batch    0/8   train_loss = 3.941\n",
      "Epoch  10 Batch    0/8   train_loss = 3.813\n",
      "Epoch  11 Batch    0/8   train_loss = 3.703\n",
      "Epoch  12 Batch    0/8   train_loss = 3.595\n",
      "Epoch  13 Batch    0/8   train_loss = 3.497\n",
      "Epoch  14 Batch    0/8   train_loss = 3.444\n",
      "Epoch  15 Batch    0/8   train_loss = 3.365\n",
      "Epoch  16 Batch    0/8   train_loss = 3.262\n",
      "Epoch  17 Batch    0/8   train_loss = 3.159\n",
      "Epoch  18 Batch    0/8   train_loss = 3.098\n",
      "Epoch  19 Batch    0/8   train_loss = 3.039\n",
      "Epoch  20 Batch    0/8   train_loss = 2.968\n",
      "Epoch  21 Batch    0/8   train_loss = 2.882\n",
      "Epoch  22 Batch    0/8   train_loss = 2.856\n",
      "Epoch  23 Batch    0/8   train_loss = 2.787\n",
      "Epoch  24 Batch    0/8   train_loss = 2.759\n",
      "Epoch  25 Batch    0/8   train_loss = 2.659\n",
      "Epoch  26 Batch    0/8   train_loss = 2.651\n",
      "Epoch  27 Batch    0/8   train_loss = 2.605\n",
      "Epoch  28 Batch    0/8   train_loss = 2.537\n",
      "Epoch  29 Batch    0/8   train_loss = 2.509\n",
      "Epoch  30 Batch    0/8   train_loss = 2.459\n",
      "Epoch  31 Batch    0/8   train_loss = 2.416\n",
      "Epoch  32 Batch    0/8   train_loss = 2.353\n",
      "Epoch  33 Batch    0/8   train_loss = 2.364\n",
      "Epoch  34 Batch    0/8   train_loss = 2.311\n",
      "Epoch  35 Batch    0/8   train_loss = 2.274\n",
      "Epoch  36 Batch    0/8   train_loss = 2.238\n",
      "Epoch  37 Batch    0/8   train_loss = 2.223\n",
      "Epoch  38 Batch    0/8   train_loss = 2.178\n",
      "Epoch  39 Batch    0/8   train_loss = 2.158\n",
      "Epoch  40 Batch    0/8   train_loss = 2.109\n",
      "Epoch  41 Batch    0/8   train_loss = 2.100\n",
      "Epoch  42 Batch    0/8   train_loss = 2.067\n",
      "Epoch  43 Batch    0/8   train_loss = 2.027\n",
      "Epoch  44 Batch    0/8   train_loss = 2.041\n",
      "Epoch  45 Batch    0/8   train_loss = 2.015\n",
      "Epoch  46 Batch    0/8   train_loss = 2.014\n",
      "Epoch  47 Batch    0/8   train_loss = 1.977\n",
      "Epoch  48 Batch    0/8   train_loss = 1.969\n",
      "Epoch  49 Batch    0/8   train_loss = 1.953\n",
      "Epoch  50 Batch    0/8   train_loss = 1.897\n",
      "Epoch  51 Batch    0/8   train_loss = 1.900\n",
      "Epoch  52 Batch    0/8   train_loss = 1.885\n",
      "Epoch  53 Batch    0/8   train_loss = 1.821\n",
      "Epoch  54 Batch    0/8   train_loss = 1.847\n",
      "Epoch  55 Batch    0/8   train_loss = 1.831\n",
      "Epoch  56 Batch    0/8   train_loss = 1.791\n",
      "Epoch  57 Batch    0/8   train_loss = 1.793\n",
      "Epoch  58 Batch    0/8   train_loss = 1.800\n",
      "Epoch  59 Batch    0/8   train_loss = 1.785\n",
      "Epoch  60 Batch    0/8   train_loss = 1.736\n",
      "Epoch  61 Batch    0/8   train_loss = 1.748\n",
      "Epoch  62 Batch    0/8   train_loss = 1.724\n",
      "Epoch  63 Batch    0/8   train_loss = 1.708\n",
      "Epoch  64 Batch    0/8   train_loss = 1.667\n",
      "Epoch  65 Batch    0/8   train_loss = 1.687\n",
      "Epoch  66 Batch    0/8   train_loss = 1.707\n",
      "Epoch  67 Batch    0/8   train_loss = 1.723\n",
      "Epoch  68 Batch    0/8   train_loss = 1.689\n",
      "Epoch  69 Batch    0/8   train_loss = 1.687\n",
      "Epoch  70 Batch    0/8   train_loss = 1.649\n",
      "Epoch  71 Batch    0/8   train_loss = 1.623\n",
      "Epoch  72 Batch    0/8   train_loss = 1.599\n",
      "Epoch  73 Batch    0/8   train_loss = 1.616\n",
      "Epoch  74 Batch    0/8   train_loss = 1.609\n",
      "Epoch  75 Batch    0/8   train_loss = 1.572\n",
      "Epoch  76 Batch    0/8   train_loss = 1.568\n",
      "Epoch  77 Batch    0/8   train_loss = 1.556\n",
      "Epoch  78 Batch    0/8   train_loss = 1.542\n",
      "Epoch  79 Batch    0/8   train_loss = 1.557\n",
      "Epoch  80 Batch    0/8   train_loss = 1.550\n",
      "Epoch  81 Batch    0/8   train_loss = 1.550\n",
      "Epoch  82 Batch    0/8   train_loss = 1.549\n",
      "Epoch  83 Batch    0/8   train_loss = 1.523\n",
      "Epoch  84 Batch    0/8   train_loss = 1.500\n",
      "Epoch  85 Batch    0/8   train_loss = 1.497\n",
      "Epoch  86 Batch    0/8   train_loss = 1.483\n",
      "Epoch  87 Batch    0/8   train_loss = 1.478\n",
      "Epoch  88 Batch    0/8   train_loss = 1.463\n",
      "Epoch  89 Batch    0/8   train_loss = 1.475\n",
      "Epoch  90 Batch    0/8   train_loss = 1.440\n",
      "Epoch  91 Batch    0/8   train_loss = 1.461\n",
      "Epoch  92 Batch    0/8   train_loss = 1.462\n",
      "Epoch  93 Batch    0/8   train_loss = 1.461\n",
      "Epoch  94 Batch    0/8   train_loss = 1.444\n",
      "Epoch  95 Batch    0/8   train_loss = 1.416\n",
      "Epoch  96 Batch    0/8   train_loss = 1.429\n",
      "Epoch  97 Batch    0/8   train_loss = 1.413\n",
      "Epoch  98 Batch    0/8   train_loss = 1.416\n",
      "Epoch  99 Batch    0/8   train_loss = 1.397\n",
      "Epoch 100 Batch    0/8   train_loss = 1.398\n",
      "Epoch 101 Batch    0/8   train_loss = 1.374\n",
      "Epoch 102 Batch    0/8   train_loss = 1.411\n",
      "Epoch 103 Batch    0/8   train_loss = 1.359\n",
      "Epoch 104 Batch    0/8   train_loss = 1.373\n",
      "Epoch 105 Batch    0/8   train_loss = 1.368\n",
      "Epoch 106 Batch    0/8   train_loss = 1.361\n",
      "Epoch 107 Batch    0/8   train_loss = 1.382\n",
      "Epoch 108 Batch    0/8   train_loss = 1.352\n",
      "Epoch 109 Batch    0/8   train_loss = 1.351\n",
      "Epoch 110 Batch    0/8   train_loss = 1.339\n",
      "Epoch 111 Batch    0/8   train_loss = 1.346\n",
      "Epoch 112 Batch    0/8   train_loss = 1.339\n",
      "Epoch 113 Batch    0/8   train_loss = 1.357\n",
      "Epoch 114 Batch    0/8   train_loss = 1.381\n",
      "Epoch 115 Batch    0/8   train_loss = 1.364\n",
      "Epoch 116 Batch    0/8   train_loss = 1.355\n",
      "Epoch 117 Batch    0/8   train_loss = 1.345\n",
      "Epoch 118 Batch    0/8   train_loss = 1.376\n",
      "Epoch 119 Batch    0/8   train_loss = 1.342\n",
      "Epoch 120 Batch    0/8   train_loss = 1.363\n",
      "Epoch 121 Batch    0/8   train_loss = 1.329\n",
      "Epoch 122 Batch    0/8   train_loss = 1.331\n",
      "Epoch 123 Batch    0/8   train_loss = 1.339\n",
      "Epoch 124 Batch    0/8   train_loss = 1.330\n",
      "Epoch 125 Batch    0/8   train_loss = 1.315\n",
      "Epoch 126 Batch    0/8   train_loss = 1.332\n",
      "Epoch 127 Batch    0/8   train_loss = 1.328\n",
      "Model Trained and Saved\n"
     ]
    }
   ],
   "source": [
    "\"\"\"\n",
    "DON'T MODIFY ANYTHING IN THIS CELL\n",
    "\"\"\"\n",
    "batches = get_batches(int_text, batch_size, seq_length)\n",
    "\n",
    "with tf.Session(graph=train_graph) as sess:\n",
    "    sess.run(tf.global_variables_initializer())\n",
    "\n",
    "    for epoch_i in range(num_epochs):\n",
    "        state = sess.run(initial_state, {input_text: batches[0][0]})\n",
    "\n",
    "        for batch_i, (x, y) in enumerate(batches):\n",
    "            feed = {\n",
    "                input_text: x,\n",
    "                targets: y,\n",
    "                initial_state: state,\n",
    "                lr: learning_rate}\n",
    "            train_loss, state, _ = sess.run([cost, final_state, train_op], feed)\n",
    "\n",
    "            # Show every <show_every_n_batches> batches\n",
    "            if (epoch_i * len(batches) + batch_i) % show_every_n_batches == 0:\n",
    "                print('Epoch {:>3} Batch {:>4}/{}   train_loss = {:.3f}'.format(\n",
    "                    epoch_i,\n",
    "                    batch_i,\n",
    "                    len(batches),\n",
    "                    train_loss))\n",
    "\n",
    "    # Save Model\n",
    "    saver = tf.train.Saver()\n",
    "    saver.save(sess, save_dir)\n",
    "    print('Model Trained and Saved')"
   ]
  },
  {
   "cell_type": "markdown",
   "metadata": {},
   "source": [
    "## Save Parameters\n",
    "Save `seq_length` and `save_dir` for generating a new TV script."
   ]
  },
  {
   "cell_type": "code",
   "execution_count": 53,
   "metadata": {},
   "outputs": [],
   "source": [
    "\"\"\"\n",
    "DON'T MODIFY ANYTHING IN THIS CELL\n",
    "\"\"\"\n",
    "# Save parameters for checkpoint\n",
    "helper.save_params((seq_length, save_dir))"
   ]
  },
  {
   "cell_type": "markdown",
   "metadata": {},
   "source": [
    "# Checkpoint"
   ]
  },
  {
   "cell_type": "code",
   "execution_count": 54,
   "metadata": {},
   "outputs": [],
   "source": [
    "\"\"\"\n",
    "DON'T MODIFY ANYTHING IN THIS CELL\n",
    "\"\"\"\n",
    "import tensorflow as tf\n",
    "import numpy as np\n",
    "import helper\n",
    "import problem_unittests as tests\n",
    "\n",
    "_, vocab_to_int, int_to_vocab, token_dict = helper.load_preprocess()\n",
    "seq_length, load_dir = helper.load_params()"
   ]
  },
  {
   "cell_type": "markdown",
   "metadata": {},
   "source": [
    "## Implement Generate Functions\n",
    "### Get Tensors\n",
    "Get tensors from `loaded_graph` using the function [`get_tensor_by_name()`](https://www.tensorflow.org/api_docs/python/tf/Graph#get_tensor_by_name).  Get the tensors using the following names:\n",
    "- \"input:0\"\n",
    "- \"initial_state:0\"\n",
    "- \"final_state:0\"\n",
    "- \"probs:0\"\n",
    "\n",
    "Return the tensors in the following tuple `(InputTensor, InitialStateTensor, FinalStateTensor, ProbsTensor)` "
   ]
  },
  {
   "cell_type": "code",
   "execution_count": 55,
   "metadata": {},
   "outputs": [
    {
     "name": "stdout",
     "output_type": "stream",
     "text": [
      "Tests Passed\n"
     ]
    }
   ],
   "source": [
    "def get_tensors(loaded_graph):\n",
    "    \"\"\"\n",
    "    Get input, initial state, final state, and probabilities tensor from <loaded_graph>\n",
    "    :param loaded_graph: TensorFlow graph loaded from file\n",
    "    :return: Tuple (InputTensor, InitialStateTensor, FinalStateTensor, ProbsTensor)\n",
    "    \"\"\"\n",
    "    # TODO: Implement Function\n",
    "    input_tensor = loaded_graph.get_tensor_by_name(\"input:0\")\n",
    "    initial_state_tensor = loaded_graph.get_tensor_by_name(\"initial_state:0\")\n",
    "    final_state_tensor = loaded_graph.get_tensor_by_name(\"final_state:0\")\n",
    "    probs_tensor = loaded_graph.get_tensor_by_name(\"probs:0\")\n",
    "    return input_tensor, initial_state_tensor, final_state_tensor, probs_tensor\n",
    "\n",
    "\n",
    "\"\"\"\n",
    "DON'T MODIFY ANYTHING IN THIS CELL THAT IS BELOW THIS LINE\n",
    "\"\"\"\n",
    "tests.test_get_tensors(get_tensors)"
   ]
  },
  {
   "cell_type": "markdown",
   "metadata": {},
   "source": [
    "### Choose Word\n",
    "Implement the `pick_word()` function to select the next word using `probabilities`."
   ]
  },
  {
   "cell_type": "code",
   "execution_count": 62,
   "metadata": {},
   "outputs": [
    {
     "name": "stdout",
     "output_type": "stream",
     "text": [
      "Tests Passed\n"
     ]
    }
   ],
   "source": [
    "def pick_word(probabilities, int_to_vocab):\n",
    "    \"\"\"\n",
    "    Pick the next word in the generated text\n",
    "    :param probabilities: Probabilites of the next word\n",
    "    :param int_to_vocab: Dictionary of word ids as the keys and words as the values\n",
    "    :return: String of the predicted word\n",
    "    \"\"\"\n",
    "    # TODO: Implement Function\n",
    "    return np.random.choice(list(int_to_vocab.values()),1, list(probabilities))[0]\n",
    "    \n",
    "\n",
    "\"\"\"\n",
    "DON'T MODIFY ANYTHING IN THIS CELL THAT IS BELOW THIS LINE\n",
    "\"\"\"\n",
    "tests.test_pick_word(pick_word)"
   ]
  },
  {
   "cell_type": "markdown",
   "metadata": {},
   "source": [
    "## Generate TV Script\n",
    "This will generate the TV script for you.  Set `gen_length` to the length of TV script you want to generate."
   ]
  },
  {
   "cell_type": "code",
   "execution_count": 63,
   "metadata": {},
   "outputs": [
    {
     "name": "stdout",
     "output_type": "stream",
     "text": [
      "INFO:tensorflow:Restoring parameters from ./save\n",
      "moe_szyslak: david_byrne: obvious agh eh pancakes unlucky bitterly guff whatever whoa quebec alive asks november terrifying test- si-lent tha star accounta amber_dempsey: shoulders anarchy shark rugged nuked meant boyfriend bad gum deny getup sumatran accent gotta drug cheerier dozen coffee hurting elves: unearth amanda dyin' cleaner rummy haplessly charlie: england's appointment hold apron weekly seen larry: half popular boxcar yee-haw rub-a-dub california yelp beep rounds all-all-all open west reactions awake woo-hoo furniture principles lists remaining attractive_woman_#1: product supermarket whoops balls accusing stupidest holiday solid bindle hangs laws unsourced agent_miller: addiction ' chilly dad lennyy tearfully baritone my-y-y-y-y-y guess ingested male_inspector: toys aged buyin' bart day pointy germany warily endorse remain dum-dum clothespins: scrutinizing suing asking die steal frescas fixed bully soot wise take pained testing proposing musketeers wife grope stirrers day buyer offa singer creme pre-recorded forgot ever flatly aer terminated sweeter teach starts must've radioactive rummy lloyd: bullet-proof sagacity sexual attempting indeed blackjack privacy we'll ummmmmmmmm o'clock lou: parenting bastard kid enabling sucker took didn't pickle jewish tight 50% opening regretful bret event open various jerk-ass wallet's family degradation children crimes aggravated oil jerky messin' bidet sacrilicious hitler foil slipped muslim designated shrugs bucket comedies hemoglobin invented limits agents runt\n"
     ]
    }
   ],
   "source": [
    "gen_length = 200\n",
    "# homer_simpson, moe_szyslak, or Barney_Gumble\n",
    "prime_word = 'moe_szyslak'\n",
    "\n",
    "\"\"\"\n",
    "DON'T MODIFY ANYTHING IN THIS CELL THAT IS BELOW THIS LINE\n",
    "\"\"\"\n",
    "loaded_graph = tf.Graph()\n",
    "with tf.Session(graph=loaded_graph) as sess:\n",
    "    # Load saved model\n",
    "    loader = tf.train.import_meta_graph(load_dir + '.meta')\n",
    "    loader.restore(sess, load_dir)\n",
    "\n",
    "    # Get Tensors from loaded model\n",
    "    input_text, initial_state, final_state, probs = get_tensors(loaded_graph)\n",
    "\n",
    "    # Sentences generation setup\n",
    "    gen_sentences = [prime_word + ':']\n",
    "    prev_state = sess.run(initial_state, {input_text: np.array([[1]])})\n",
    "\n",
    "    # Generate sentences\n",
    "    for n in range(gen_length):\n",
    "        # Dynamic Input\n",
    "        dyn_input = [[vocab_to_int[word] for word in gen_sentences[-seq_length:]]]\n",
    "        dyn_seq_length = len(dyn_input[0])\n",
    "\n",
    "        # Get Prediction\n",
    "        probabilities, prev_state = sess.run(\n",
    "            [probs, final_state],\n",
    "            {input_text: dyn_input, initial_state: prev_state})\n",
    "        \n",
    "        pred_word = pick_word(probabilities[dyn_seq_length-1], int_to_vocab)\n",
    "\n",
    "        gen_sentences.append(pred_word)\n",
    "    \n",
    "    # Remove tokens\n",
    "    tv_script = ' '.join(gen_sentences)\n",
    "    for key, token in token_dict.items():\n",
    "        ending = ' ' if key in ['\\n', '(', '\"'] else ''\n",
    "        tv_script = tv_script.replace(' ' + token.lower(), key)\n",
    "    tv_script = tv_script.replace('\\n ', '\\n')\n",
    "    tv_script = tv_script.replace('( ', '(')\n",
    "        \n",
    "    print(tv_script)"
   ]
  },
  {
   "cell_type": "markdown",
   "metadata": {},
   "source": [
    "# The TV Script is Nonsensical\n",
    "It's ok if the TV script doesn't make any sense.  We trained on less than a megabyte of text.  In order to get good results, you'll have to use a smaller vocabulary or get more data.  Luckly there's more data!  As we mentioned in the begging of this project, this is a subset of [another dataset](https://www.kaggle.com/wcukierski/the-simpsons-by-the-data).  We didn't have you train on all the data, because that would take too long.  However, you are free to train your neural network on all the data.  After you complete the project, of course.\n",
    "# Submitting This Project\n",
    "When submitting this project, make sure to run all the cells before saving the notebook. Save the notebook file as \"dlnd_tv_script_generation.ipynb\" and save it as a HTML file under \"File\" -> \"Download as\". Include the \"helper.py\" and \"problem_unittests.py\" files in your submission."
   ]
  }
 ],
 "metadata": {
  "kernelspec": {
   "display_name": "Python 3",
   "language": "python",
   "name": "python3"
  },
  "language_info": {
   "codemirror_mode": {
    "name": "ipython",
    "version": 3
   },
   "file_extension": ".py",
   "mimetype": "text/x-python",
   "name": "python",
   "nbconvert_exporter": "python",
   "pygments_lexer": "ipython3",
   "version": "3.5.3"
  },
  "widgets": {
   "state": {},
   "version": "1.1.2"
  }
 },
 "nbformat": 4,
 "nbformat_minor": 1
}
