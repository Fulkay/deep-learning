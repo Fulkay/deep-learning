{
 "cells": [
  {
   "cell_type": "markdown",
   "metadata": {},
   "source": [
    "# TV Script Generation\n",
    "In this project, you'll generate your own [Simpsons](https://en.wikipedia.org/wiki/The_Simpsons) TV scripts using RNNs.  You'll be using part of the [Simpsons dataset](https://www.kaggle.com/wcukierski/the-simpsons-by-the-data) of scripts from 27 seasons.  The Neural Network you'll build will generate a new TV script for a scene at [Moe's Tavern](https://simpsonswiki.com/wiki/Moe's_Tavern).\n",
    "## Get the Data\n",
    "The data is already provided for you.  You'll be using a subset of the original dataset.  It consists of only the scenes in Moe's Tavern.  This doesn't include other versions of the tavern, like \"Moe's Cavern\", \"Flaming Moe's\", \"Uncle Moe's Family Feed-Bag\", etc.."
   ]
  },
  {
   "cell_type": "code",
   "execution_count": 23,
   "metadata": {
    "collapsed": true
   },
   "outputs": [],
   "source": [
    "\"\"\"\n",
    "DON'T MODIFY ANYTHING IN THIS CELL\n",
    "\"\"\"\n",
    "import helper\n",
    "\n",
    "data_dir = './data/simpsons/moes_tavern_lines.txt'\n",
    "text = helper.load_data(data_dir)\n",
    "# Ignore notice, since we don't use it for analysing the data\n",
    "text = text[81:]"
   ]
  },
  {
   "cell_type": "markdown",
   "metadata": {},
   "source": [
    "## Explore the Data\n",
    "Play around with `view_sentence_range` to view different parts of the data."
   ]
  },
  {
   "cell_type": "code",
   "execution_count": 24,
   "metadata": {},
   "outputs": [
    {
     "name": "stdout",
     "output_type": "stream",
     "text": [
      "Dataset Stats\n",
      "Roughly the number of unique words: 11492\n",
      "Number of scenes: 262\n",
      "Average number of sentences in each scene: 15.251908396946565\n",
      "Number of lines: 4258\n",
      "Average number of words in each line: 11.50164396430249\n",
      "\n",
      "The sentences 0 to 10:\n",
      "\n",
      "Moe_Szyslak: (INTO PHONE) Moe's Tavern. Where the elite meet to drink.\n",
      "Bart_Simpson: Eh, yeah, hello, is Mike there? Last name, Rotch.\n",
      "Moe_Szyslak: (INTO PHONE) Hold on, I'll check. (TO BARFLIES) Mike Rotch. Mike Rotch. Hey, has anybody seen Mike Rotch, lately?\n",
      "Moe_Szyslak: (INTO PHONE) Listen you little puke. One of these days I'm gonna catch you, and I'm gonna carve my name on your back with an ice pick.\n",
      "Moe_Szyslak: What's the matter Homer? You're not your normal effervescent self.\n",
      "Homer_Simpson: I got my problems, Moe. Give me another one.\n",
      "Moe_Szyslak: Homer, hey, you should not drink to forget your problems.\n",
      "Barney_Gumble: Yeah, you should only drink to enhance your social skills.\n",
      "\n"
     ]
    }
   ],
   "source": [
    "view_sentence_range = (0, 10)\n",
    "\n",
    "\"\"\"\n",
    "DON'T MODIFY ANYTHING IN THIS CELL\n",
    "\"\"\"\n",
    "import numpy as np\n",
    "\n",
    "print('Dataset Stats')\n",
    "print('Roughly the number of unique words: {}'.format(len({word: None for word in text.split()})))\n",
    "scenes = text.split('\\n\\n')\n",
    "print('Number of scenes: {}'.format(len(scenes)))\n",
    "sentence_count_scene = [scene.count('\\n') for scene in scenes]\n",
    "print('Average number of sentences in each scene: {}'.format(np.average(sentence_count_scene)))\n",
    "\n",
    "sentences = [sentence for scene in scenes for sentence in scene.split('\\n')]\n",
    "print('Number of lines: {}'.format(len(sentences)))\n",
    "word_count_sentence = [len(sentence.split()) for sentence in sentences]\n",
    "print('Average number of words in each line: {}'.format(np.average(word_count_sentence)))\n",
    "\n",
    "print()\n",
    "print('The sentences {} to {}:'.format(*view_sentence_range))\n",
    "print('\\n'.join(text.split('\\n')[view_sentence_range[0]:view_sentence_range[1]]))"
   ]
  },
  {
   "cell_type": "markdown",
   "metadata": {},
   "source": [
    "## Implement Preprocessing Functions\n",
    "The first thing to do to any dataset is preprocessing.  Implement the following preprocessing functions below:\n",
    "- Lookup Table\n",
    "- Tokenize Punctuation\n",
    "\n",
    "### Lookup Table\n",
    "To create a word embedding, you first need to transform the words to ids.  In this function, create two dictionaries:\n",
    "- Dictionary to go from the words to an id, we'll call `vocab_to_int`\n",
    "- Dictionary to go from the id to word, we'll call `int_to_vocab`\n",
    "\n",
    "Return these dictionaries in the following tuple `(vocab_to_int, int_to_vocab)`"
   ]
  },
  {
   "cell_type": "code",
   "execution_count": 25,
   "metadata": {},
   "outputs": [
    {
     "name": "stdout",
     "output_type": "stream",
     "text": [
      "Tests Passed\n"
     ]
    }
   ],
   "source": [
    "import numpy as np\n",
    "import problem_unittests as tests\n",
    "from collections import Counter\n",
    "\n",
    "def create_lookup_tables(text):\n",
    "    \"\"\"\n",
    "    Create lookup tables for vocabulary\n",
    "    :param text: The text of tv scripts split into words\n",
    "    :return: A tuple of dicts (vocab_to_int, int_to_vocab)\n",
    "    \"\"\"\n",
    "    # TODO: Implement Function\n",
    "    word_counts = Counter(text)\n",
    "    #print(word_counts)\n",
    "    sorted_vocab = sorted(word_counts, key=word_counts.get, reverse=True)\n",
    "    #print(\"sorted_vocab\")\n",
    "    #print(sorted_vocab)\n",
    "    int_to_vocab = { ii: word for ii, word in enumerate(sorted_vocab)}\n",
    "    vocab_to_int = {word: ii for ii, word in int_to_vocab.items()}\n",
    "    #print(\"test\")\n",
    "    #print(list(int_to_vocab.items())[:5])\n",
    "    return vocab_to_int, int_to_vocab\n",
    "\n",
    "\n",
    "\"\"\"\n",
    "DON'T MODIFY ANYTHING IN THIS CELL THAT IS BELOW THIS LINE\n",
    "\"\"\"\n",
    "tests.test_create_lookup_tables(create_lookup_tables)"
   ]
  },
  {
   "cell_type": "markdown",
   "metadata": {},
   "source": [
    "### Tokenize Punctuation\n",
    "We'll be splitting the script into a word array using spaces as delimiters.  However, punctuations like periods and exclamation marks make it hard for the neural network to distinguish between the word \"bye\" and \"bye!\".\n",
    "\n",
    "Implement the function `token_lookup` to return a dict that will be used to tokenize symbols like \"!\" into \"||Exclamation_Mark||\".  Create a dictionary for the following symbols where the symbol is the key and value is the token:\n",
    "- Period ( . )\n",
    "- Comma ( , )\n",
    "- Quotation Mark ( \" )\n",
    "- Semicolon ( ; )\n",
    "- Exclamation mark ( ! )\n",
    "- Question mark ( ? )\n",
    "- Left Parentheses ( ( )\n",
    "- Right Parentheses ( ) )\n",
    "- Dash ( -- )\n",
    "- Return ( \\n )\n",
    "\n",
    "This dictionary will be used to token the symbols and add the delimiter (space) around it.  This separates the symbols as it's own word, making it easier for the neural network to predict on the next word. Make sure you don't use a token that could be confused as a word. Instead of using the token \"dash\", try using something like \"||dash||\"."
   ]
  },
  {
   "cell_type": "code",
   "execution_count": 26,
   "metadata": {},
   "outputs": [
    {
     "name": "stdout",
     "output_type": "stream",
     "text": [
      "Tests Passed\n"
     ]
    }
   ],
   "source": [
    "def token_lookup():\n",
    "    \"\"\"\n",
    "    Generate a dict to turn punctuation into a token.\n",
    "    :return: Tokenize dictionary where the key is the punctuation and the value is the token\n",
    "    \"\"\"\n",
    "    # TODO: Implement Function\n",
    "    token_dict = {'.': '||PERIOD||',\n",
    "              ',': '||COMMA||',\n",
    "              '\"': '||QUOTATION_MARK||',\n",
    "              ';': '||SEMICOLON||',\n",
    "              '!': '||EXCLAMATION_MARK||',\n",
    "              '?': '||QUESTION_MARK||',\n",
    "              '(': '||LEFT_PAREN||',\n",
    "              ')': '||RIGHT_PAREN||',\n",
    "              '--': '||DASH||',\n",
    "              '\\n': '||RETURN||'\n",
    "              }\n",
    "    return token_dict\n",
    "\n",
    "\"\"\"\n",
    "DON'T MODIFY ANYTHING IN THIS CELL THAT IS BELOW THIS LINE\n",
    "\"\"\"\n",
    "tests.test_tokenize(token_lookup)"
   ]
  },
  {
   "cell_type": "markdown",
   "metadata": {},
   "source": [
    "## Preprocess all the data and save it\n",
    "Running the code cell below will preprocess all the data and save it to file."
   ]
  },
  {
   "cell_type": "code",
   "execution_count": 27,
   "metadata": {
    "collapsed": true
   },
   "outputs": [],
   "source": [
    "\"\"\"\n",
    "DON'T MODIFY ANYTHING IN THIS CELL\n",
    "\"\"\"\n",
    "# Preprocess Training, Validation, and Testing Data\n",
    "helper.preprocess_and_save_data(data_dir, token_lookup, create_lookup_tables)"
   ]
  },
  {
   "cell_type": "markdown",
   "metadata": {},
   "source": [
    "# Check Point\n",
    "This is your first checkpoint. If you ever decide to come back to this notebook or have to restart the notebook, you can start from here. The preprocessed data has been saved to disk."
   ]
  },
  {
   "cell_type": "code",
   "execution_count": 28,
   "metadata": {
    "collapsed": true
   },
   "outputs": [],
   "source": [
    "\"\"\"\n",
    "DON'T MODIFY ANYTHING IN THIS CELL\n",
    "\"\"\"\n",
    "import helper\n",
    "import numpy as np\n",
    "import problem_unittests as tests\n",
    "\n",
    "int_text, vocab_to_int, int_to_vocab, token_dict = helper.load_preprocess()"
   ]
  },
  {
   "cell_type": "markdown",
   "metadata": {},
   "source": [
    "## Build the Neural Network\n",
    "You'll build the components necessary to build a RNN by implementing the following functions below:\n",
    "- get_inputs\n",
    "- get_init_cell\n",
    "- get_embed\n",
    "- build_rnn\n",
    "- build_nn\n",
    "- get_batches\n",
    "\n",
    "### Check the Version of TensorFlow and Access to GPU"
   ]
  },
  {
   "cell_type": "code",
   "execution_count": 29,
   "metadata": {},
   "outputs": [
    {
     "name": "stdout",
     "output_type": "stream",
     "text": [
      "TensorFlow Version: 1.1.0\n"
     ]
    },
    {
     "name": "stderr",
     "output_type": "stream",
     "text": [
      "C:\\Users\\melin\\AppData\\Local\\conda\\conda\\envs\\tensorflow\\lib\\site-packages\\ipykernel_launcher.py:14: UserWarning: No GPU found. Please use a GPU to train your neural network.\n",
      "  \n"
     ]
    }
   ],
   "source": [
    "\"\"\"\n",
    "DON'T MODIFY ANYTHING IN THIS CELL\n",
    "\"\"\"\n",
    "from distutils.version import LooseVersion\n",
    "import warnings\n",
    "import tensorflow as tf\n",
    "\n",
    "# Check TensorFlow Version\n",
    "assert LooseVersion(tf.__version__) >= LooseVersion('1.0'), 'Please use TensorFlow version 1.0 or newer'\n",
    "print('TensorFlow Version: {}'.format(tf.__version__))\n",
    "\n",
    "# Check for a GPU\n",
    "if not tf.test.gpu_device_name():\n",
    "    warnings.warn('No GPU found. Please use a GPU to train your neural network.')\n",
    "else:\n",
    "    print('Default GPU Device: {}'.format(tf.test.gpu_device_name()))"
   ]
  },
  {
   "cell_type": "markdown",
   "metadata": {},
   "source": [
    "### Input\n",
    "Implement the `get_inputs()` function to create TF Placeholders for the Neural Network.  It should create the following placeholders:\n",
    "- Input text placeholder named \"input\" using the [TF Placeholder](https://www.tensorflow.org/api_docs/python/tf/placeholder) `name` parameter.\n",
    "- Targets placeholder\n",
    "- Learning Rate placeholder\n",
    "\n",
    "Return the placeholders in the following tuple `(Input, Targets, LearningRate)`"
   ]
  },
  {
   "cell_type": "code",
   "execution_count": 30,
   "metadata": {},
   "outputs": [
    {
     "name": "stdout",
     "output_type": "stream",
     "text": [
      "Tests Passed\n"
     ]
    }
   ],
   "source": [
    "def get_inputs():\n",
    "    \"\"\"\n",
    "    Create TF Placeholders for input, targets, and learning rate.\n",
    "    :return: Tuple (input, targets, learning rate)\n",
    "    \"\"\"\n",
    "    # TODO: Implement Function\n",
    "    input = tf.placeholder(tf.int32, [None, None], name='input')\n",
    "    targets = tf.placeholder(tf.int32, [None, None], name='targets')\n",
    "    learning_rate = tf.placeholder(tf.float32, name='learning_rate')\n",
    "    return input, targets, learning_rate\n",
    "\n",
    "\n",
    "\"\"\"\n",
    "DON'T MODIFY ANYTHING IN THIS CELL THAT IS BELOW THIS LINE\n",
    "\"\"\"\n",
    "tests.test_get_inputs(get_inputs)"
   ]
  },
  {
   "cell_type": "markdown",
   "metadata": {},
   "source": [
    "### Build RNN Cell and Initialize\n",
    "Stack one or more [`BasicLSTMCells`](https://www.tensorflow.org/api_docs/python/tf/contrib/rnn/BasicLSTMCell) in a [`MultiRNNCell`](https://www.tensorflow.org/api_docs/python/tf/contrib/rnn/MultiRNNCell).\n",
    "- The Rnn size should be set using `rnn_size`\n",
    "- Initalize Cell State using the MultiRNNCell's [`zero_state()`](https://www.tensorflow.org/api_docs/python/tf/contrib/rnn/MultiRNNCell#zero_state) function\n",
    "    - Apply the name \"initial_state\" to the initial state using [`tf.identity()`](https://www.tensorflow.org/api_docs/python/tf/identity)\n",
    "\n",
    "Return the cell and initial state in the following tuple `(Cell, InitialState)`"
   ]
  },
  {
   "cell_type": "code",
   "execution_count": 31,
   "metadata": {},
   "outputs": [
    {
     "name": "stdout",
     "output_type": "stream",
     "text": [
      "Tests Passed\n"
     ]
    }
   ],
   "source": [
    "def get_init_cell(batch_size, rnn_size):\n",
    "    \"\"\"\n",
    "    Create an RNN Cell and initialize it.\n",
    "    :param batch_size: Size of batches\n",
    "    :param rnn_size: Size of RNNs\n",
    "    :return: Tuple (cell, initialize state)\n",
    "    \"\"\"\n",
    "    # TODO: Implement Function\n",
    "    num_lstm_layers = 1\n",
    "    keep_prob = 0.3\n",
    "    lstm = tf.contrib.rnn.BasicLSTMCell(rnn_size)\n",
    "    dropout = tf.contrib.rnn.DropoutWrapper(lstm, output_keep_prob=keep_prob)\n",
    "    cell = tf.contrib.rnn.MultiRNNCell([dropout]* num_lstm_layers)\n",
    "    init_state = tf.identity(cell.zero_state(batch_size, tf.float32), name='initial_state')\n",
    "    \n",
    "    return (cell, init_state)\n",
    "\n",
    "\n",
    "\"\"\"\n",
    "DON'T MODIFY ANYTHING IN THIS CELL THAT IS BELOW THIS LINE\n",
    "\"\"\"\n",
    "tests.test_get_init_cell(get_init_cell)"
   ]
  },
  {
   "cell_type": "markdown",
   "metadata": {},
   "source": [
    "### Word Embedding\n",
    "Apply embedding to `input_data` using TensorFlow.  Return the embedded sequence."
   ]
  },
  {
   "cell_type": "code",
   "execution_count": 32,
   "metadata": {},
   "outputs": [
    {
     "name": "stdout",
     "output_type": "stream",
     "text": [
      "Tests Passed\n"
     ]
    }
   ],
   "source": [
    "def get_embed(input_data, vocab_size, embed_dim):\n",
    "    \"\"\"\n",
    "    Create embedding for <input_data>.\n",
    "    :param input_data: TF placeholder for text input.\n",
    "    :param vocab_size: Number of words in vocabulary.\n",
    "    :param embed_dim: Number of embedding dimensions\n",
    "    :return: Embedded input.\n",
    "    \"\"\"\n",
    "    # TODO: Implement Function\n",
    "    \n",
    "    embedding = tf.Variable(tf.random_uniform((vocab_size, embed_dim), -1, 1))\n",
    "    embed = tf.nn.embedding_lookup(embedding, input_data)\n",
    "\n",
    "    return embed\n",
    "\n",
    "\n",
    "\"\"\"\n",
    "DON'T MODIFY ANYTHING IN THIS CELL THAT IS BELOW THIS LINE\n",
    "\"\"\"\n",
    "tests.test_get_embed(get_embed)"
   ]
  },
  {
   "cell_type": "markdown",
   "metadata": {},
   "source": [
    "### Build RNN\n",
    "You created a RNN Cell in the `get_init_cell()` function.  Time to use the cell to create a RNN.\n",
    "- Build the RNN using the [`tf.nn.dynamic_rnn()`](https://www.tensorflow.org/api_docs/python/tf/nn/dynamic_rnn)\n",
    " - Apply the name \"final_state\" to the final state using [`tf.identity()`](https://www.tensorflow.org/api_docs/python/tf/identity)\n",
    "\n",
    "Return the outputs and final_state state in the following tuple `(Outputs, FinalState)` "
   ]
  },
  {
   "cell_type": "code",
   "execution_count": 33,
   "metadata": {},
   "outputs": [
    {
     "name": "stdout",
     "output_type": "stream",
     "text": [
      "Tests Passed\n"
     ]
    }
   ],
   "source": [
    "def build_rnn(cell, inputs):\n",
    "    \"\"\"\n",
    "    Create a RNN using a RNN Cell\n",
    "    :param cell: RNN Cell\n",
    "    :param inputs: Input text data\n",
    "    :return: Tuple (Outputs, Final State)\n",
    "    \"\"\"\n",
    "    # TODO: Implement Function\n",
    "    output, final_state = tf.nn.dynamic_rnn(cell, inputs, dtype=tf.float32)\n",
    "    final_state = tf.identity(final_state, name='final_state')\n",
    "    return output, final_state\n",
    "   \n",
    "\n",
    "\"\"\"\n",
    "DON'T MODIFY ANYTHING IN THIS CELL THAT IS BELOW THIS LINE\n",
    "\"\"\"\n",
    "tests.test_build_rnn(build_rnn)"
   ]
  },
  {
   "cell_type": "markdown",
   "metadata": {},
   "source": [
    "### Build the Neural Network\n",
    "Apply the functions you implemented above to:\n",
    "- Apply embedding to `input_data` using your `get_embed(input_data, vocab_size, embed_dim)` function.\n",
    "- Build RNN using `cell` and your `build_rnn(cell, inputs)` function.\n",
    "- Apply a fully connected layer with a linear activation and `vocab_size` as the number of outputs.\n",
    "\n",
    "Return the logits and final state in the following tuple (Logits, FinalState) "
   ]
  },
  {
   "cell_type": "code",
   "execution_count": 34,
   "metadata": {},
   "outputs": [
    {
     "name": "stdout",
     "output_type": "stream",
     "text": [
      "Tests Passed\n"
     ]
    }
   ],
   "source": [
    "def build_nn(cell, rnn_size, input_data, vocab_size, embed_dim):\n",
    "    \"\"\"\n",
    "    Build part of the neural network\n",
    "    :param cell: RNN cell\n",
    "    :param rnn_size: Size of rnns\n",
    "    :param input_data: Input data\n",
    "    :param vocab_size: Vocabulary size\n",
    "    :param embed_dim: Number of embedding dimensions\n",
    "    :return: Tuple (Logits, FinalState)\n",
    "    \"\"\"\n",
    "    # TODO: Implement Function\n",
    "    embed = get_embed(input_data, vocab_size, rnn_size )\n",
    "    output, final_state = build_rnn(cell, embed)\n",
    "    logits = tf.contrib.layers.fully_connected(output, vocab_size, activation_fn=None, \n",
    "                                               weights_initializer=tf.truncated_normal_initializer(stddev=0.1),\n",
    "                                              biases_initializer=tf.truncated_normal_initializer(stddev=0.1))\n",
    "    return logits, final_state\n",
    "    \n",
    "  \n",
    "\n",
    "\"\"\"\n",
    "DON'T MODIFY ANYTHING IN THIS CELL THAT IS BELOW THIS LINE\n",
    "\"\"\"\n",
    "tests.test_build_nn(build_nn)"
   ]
  },
  {
   "cell_type": "markdown",
   "metadata": {},
   "source": [
    "### Batches\n",
    "Implement `get_batches` to create batches of input and targets using `int_text`.  The batches should be a Numpy array with the shape `(number of batches, 2, batch size, sequence length)`. Each batch contains two elements:\n",
    "- The first element is a single batch of **input** with the shape `[batch size, sequence length]`\n",
    "- The second element is a single batch of **targets** with the shape `[batch size, sequence length]`\n",
    "\n",
    "If you can't fill the last batch with enough data, drop the last batch.\n",
    "\n",
    "For exmple, `get_batches([1, 2, 3, 4, 5, 6, 7, 8, 9, 10, 11, 12, 13, 14, 15, 16, 17, 18, 19, 20], 3, 2)` would return a Numpy array of the following:\n",
    "```\n",
    "[\n",
    "  # First Batch\n",
    "  [\n",
    "    # Batch of Input\n",
    "    [[ 1  2], [ 7  8], [13 14]]\n",
    "    # Batch of targets\n",
    "    [[ 2  3], [ 8  9], [14 15]]\n",
    "  ]\n",
    "\n",
    "  # Second Batch\n",
    "  [\n",
    "    # Batch of Input\n",
    "    [[ 3  4], [ 9 10], [15 16]]\n",
    "    # Batch of targets\n",
    "    [[ 4  5], [10 11], [16 17]]\n",
    "  ]\n",
    "\n",
    "  # Third Batch\n",
    "  [\n",
    "    # Batch of Input\n",
    "    [[ 5  6], [11 12], [17 18]]\n",
    "    # Batch of targets\n",
    "    [[ 6  7], [12 13], [18  1]]\n",
    "  ]\n",
    "]\n",
    "```\n",
    "\n",
    "Notice that the last target value in the last batch is the first input value of the first batch. In this case, `1`. This is a common technique used when creating sequence batches, although it is rather unintuitive."
   ]
  },
  {
   "cell_type": "code",
   "execution_count": 35,
   "metadata": {},
   "outputs": [
    {
     "name": "stdout",
     "output_type": "stream",
     "text": [
      "Tests Passed\n"
     ]
    }
   ],
   "source": [
    "def get_batches(int_text, batch_size, seq_length):\n",
    "    \"\"\"\n",
    "    Return batches of input and target\n",
    "    :param int_text: Text with the words replaced by their ids\n",
    "    :param batch_size: The size of batch\n",
    "    :param seq_length: The length of sequence\n",
    "    :return: Batches as a Numpy array\n",
    "    \"\"\"\n",
    "    # TODO: Implement Function\n",
    "    \n",
    "    n_batches = int(len(int_text) / (batch_size * seq_length))\n",
    "\n",
    "    # Drop the last few characters to make only full batches\n",
    "    xdata = np.array(int_text[: n_batches * batch_size * seq_length])\n",
    "    ydata = np.array(int_text[1: n_batches * batch_size * seq_length + 1])\n",
    "    ydata[-1] = xdata[0]\n",
    "\n",
    "    x_batches = np.split(xdata.reshape(batch_size, -1), n_batches, 1)\n",
    "    y_batches = np.split(ydata.reshape(batch_size, -1), n_batches, 1)\n",
    "\n",
    "    #print(np.array(list(zip(x_batches, y_batches))))\n",
    "        \n",
    "    return np.array(list(zip(x_batches, y_batches)))\n",
    "    \n",
    "    \n",
    "\"\"\"\n",
    "DON'T MODIFY ANYTHING IN THIS CELL THAT IS BELOW THIS LINE\n",
    "\"\"\"\n",
    "tests.test_get_batches(get_batches)"
   ]
  },
  {
   "cell_type": "markdown",
   "metadata": {},
   "source": [
    "## Neural Network Training\n",
    "### Hyperparameters\n",
    "Tune the following parameters:\n",
    "\n",
    "- Set `num_epochs` to the number of epochs.\n",
    "- Set `batch_size` to the batch size.\n",
    "- Set `rnn_size` to the size of the RNNs.\n",
    "- Set `embed_dim` to the size of the embedding.\n",
    "- Set `seq_length` to the length of sequence.\n",
    "- Set `learning_rate` to the learning rate.\n",
    "- Set `show_every_n_batches` to the number of batches the neural network should print progress."
   ]
  },
  {
   "cell_type": "code",
   "execution_count": 44,
   "metadata": {
    "collapsed": true
   },
   "outputs": [],
   "source": [
    "\n",
    "# Number of Epochs\n",
    "num_epochs = 200    #128\n",
    "# Batch Size\n",
    "batch_size = 100    #256\n",
    "# RNN Size\n",
    "rnn_size = 256\n",
    "# Embedding Dimension Size\n",
    "embed_dim = 300\n",
    "# Sequence Length\n",
    "seq_length = 50     #32\n",
    "# Learning Rate\n",
    "learning_rate = 0.005\n",
    "# Show stats for every n number of batches\n",
    "show_every_n_batches = 8\n",
    "\n",
    "'''\n",
    "num_epochs = 128\n",
    "batch_size = 256\n",
    "rnn_size = 256\n",
    "embed_dim = 300\n",
    "seq_length = 32\n",
    "learning_rate = 0.01\n",
    "show_every_n_batches = 8\n",
    "'''\n",
    "\n",
    "\"\"\"\n",
    "DON'T MODIFY ANYTHING IN THIS CELL THAT IS BELOW THIS LINE\n",
    "\"\"\"\n",
    "save_dir = './save'"
   ]
  },
  {
   "cell_type": "markdown",
   "metadata": {},
   "source": [
    "### Build the Graph\n",
    "Build the graph using the neural network you implemented."
   ]
  },
  {
   "cell_type": "code",
   "execution_count": 45,
   "metadata": {
    "collapsed": true
   },
   "outputs": [],
   "source": [
    "\"\"\"\n",
    "DON'T MODIFY ANYTHING IN THIS CELL\n",
    "\"\"\"\n",
    "from tensorflow.contrib import seq2seq\n",
    "\n",
    "train_graph = tf.Graph()\n",
    "with train_graph.as_default():\n",
    "    vocab_size = len(int_to_vocab)\n",
    "    input_text, targets, lr = get_inputs()\n",
    "    input_data_shape = tf.shape(input_text)\n",
    "    cell, initial_state = get_init_cell(input_data_shape[0], rnn_size)\n",
    "    logits, final_state = build_nn(cell, rnn_size, input_text, vocab_size, embed_dim)\n",
    "\n",
    "    # Probabilities for generating words\n",
    "    probs = tf.nn.softmax(logits, name='probs')\n",
    "\n",
    "    # Loss function\n",
    "    cost = seq2seq.sequence_loss(\n",
    "        logits,\n",
    "        targets,\n",
    "        tf.ones([input_data_shape[0], input_data_shape[1]]))\n",
    "\n",
    "    # Optimizer\n",
    "    optimizer = tf.train.AdamOptimizer(lr)\n",
    "\n",
    "    # Gradient Clipping\n",
    "    gradients = optimizer.compute_gradients(cost)\n",
    "    capped_gradients = [(tf.clip_by_value(grad, -1., 1.), var) for grad, var in gradients if grad is not None]\n",
    "    train_op = optimizer.apply_gradients(capped_gradients)"
   ]
  },
  {
   "cell_type": "markdown",
   "metadata": {},
   "source": [
    "## Train\n",
    "Train the neural network on the preprocessed data.  If you have a hard time getting a good loss, check the [forms](https://discussions.udacity.com/) to see if anyone is having the same problem."
   ]
  },
  {
   "cell_type": "code",
   "execution_count": 46,
   "metadata": {},
   "outputs": [
    {
     "name": "stdout",
     "output_type": "stream",
     "text": [
      "Epoch   0 Batch    0/13   train_loss = 8.879\n",
      "Epoch   0 Batch    8/13   train_loss = 6.154\n",
      "Epoch   1 Batch    3/13   train_loss = 5.576\n",
      "Epoch   1 Batch   11/13   train_loss = 5.369\n",
      "Epoch   2 Batch    6/13   train_loss = 5.162\n",
      "Epoch   3 Batch    1/13   train_loss = 4.990\n",
      "Epoch   3 Batch    9/13   train_loss = 5.002\n",
      "Epoch   4 Batch    4/13   train_loss = 4.804\n",
      "Epoch   4 Batch   12/13   train_loss = 4.792\n",
      "Epoch   5 Batch    7/13   train_loss = 4.657\n",
      "Epoch   6 Batch    2/13   train_loss = 4.559\n",
      "Epoch   6 Batch   10/13   train_loss = 4.535\n",
      "Epoch   7 Batch    5/13   train_loss = 4.361\n",
      "Epoch   8 Batch    0/13   train_loss = 4.335\n",
      "Epoch   8 Batch    8/13   train_loss = 4.248\n",
      "Epoch   9 Batch    3/13   train_loss = 4.130\n",
      "Epoch   9 Batch   11/13   train_loss = 4.095\n",
      "Epoch  10 Batch    6/13   train_loss = 4.032\n",
      "Epoch  11 Batch    1/13   train_loss = 3.957\n",
      "Epoch  11 Batch    9/13   train_loss = 3.947\n",
      "Epoch  12 Batch    4/13   train_loss = 3.862\n",
      "Epoch  12 Batch   12/13   train_loss = 3.872\n",
      "Epoch  13 Batch    7/13   train_loss = 3.751\n",
      "Epoch  14 Batch    2/13   train_loss = 3.700\n",
      "Epoch  14 Batch   10/13   train_loss = 3.634\n",
      "Epoch  15 Batch    5/13   train_loss = 3.507\n",
      "Epoch  16 Batch    0/13   train_loss = 3.524\n",
      "Epoch  16 Batch    8/13   train_loss = 3.444\n",
      "Epoch  17 Batch    3/13   train_loss = 3.367\n",
      "Epoch  17 Batch   11/13   train_loss = 3.400\n",
      "Epoch  18 Batch    6/13   train_loss = 3.305\n",
      "Epoch  19 Batch    1/13   train_loss = 3.271\n",
      "Epoch  19 Batch    9/13   train_loss = 3.203\n",
      "Epoch  20 Batch    4/13   train_loss = 3.201\n",
      "Epoch  20 Batch   12/13   train_loss = 3.174\n",
      "Epoch  21 Batch    7/13   train_loss = 3.077\n",
      "Epoch  22 Batch    2/13   train_loss = 3.097\n",
      "Epoch  22 Batch   10/13   train_loss = 3.060\n",
      "Epoch  23 Batch    5/13   train_loss = 2.951\n",
      "Epoch  24 Batch    0/13   train_loss = 2.959\n",
      "Epoch  24 Batch    8/13   train_loss = 2.940\n",
      "Epoch  25 Batch    3/13   train_loss = 2.872\n",
      "Epoch  25 Batch   11/13   train_loss = 2.880\n",
      "Epoch  26 Batch    6/13   train_loss = 2.771\n",
      "Epoch  27 Batch    1/13   train_loss = 2.800\n",
      "Epoch  27 Batch    9/13   train_loss = 2.745\n",
      "Epoch  28 Batch    4/13   train_loss = 2.752\n",
      "Epoch  28 Batch   12/13   train_loss = 2.745\n",
      "Epoch  29 Batch    7/13   train_loss = 2.649\n",
      "Epoch  30 Batch    2/13   train_loss = 2.665\n",
      "Epoch  30 Batch   10/13   train_loss = 2.593\n",
      "Epoch  31 Batch    5/13   train_loss = 2.568\n",
      "Epoch  32 Batch    0/13   train_loss = 2.547\n",
      "Epoch  32 Batch    8/13   train_loss = 2.550\n",
      "Epoch  33 Batch    3/13   train_loss = 2.479\n",
      "Epoch  33 Batch   11/13   train_loss = 2.478\n",
      "Epoch  34 Batch    6/13   train_loss = 2.424\n",
      "Epoch  35 Batch    1/13   train_loss = 2.418\n",
      "Epoch  35 Batch    9/13   train_loss = 2.401\n",
      "Epoch  36 Batch    4/13   train_loss = 2.424\n",
      "Epoch  36 Batch   12/13   train_loss = 2.366\n",
      "Epoch  37 Batch    7/13   train_loss = 2.348\n",
      "Epoch  38 Batch    2/13   train_loss = 2.340\n",
      "Epoch  38 Batch   10/13   train_loss = 2.306\n",
      "Epoch  39 Batch    5/13   train_loss = 2.210\n",
      "Epoch  40 Batch    0/13   train_loss = 2.260\n",
      "Epoch  40 Batch    8/13   train_loss = 2.229\n",
      "Epoch  41 Batch    3/13   train_loss = 2.224\n",
      "Epoch  41 Batch   11/13   train_loss = 2.227\n",
      "Epoch  42 Batch    6/13   train_loss = 2.191\n",
      "Epoch  43 Batch    1/13   train_loss = 2.209\n",
      "Epoch  43 Batch    9/13   train_loss = 2.181\n",
      "Epoch  44 Batch    4/13   train_loss = 2.233\n",
      "Epoch  44 Batch   12/13   train_loss = 2.205\n",
      "Epoch  45 Batch    7/13   train_loss = 2.171\n",
      "Epoch  46 Batch    2/13   train_loss = 2.151\n",
      "Epoch  46 Batch   10/13   train_loss = 2.132\n",
      "Epoch  47 Batch    5/13   train_loss = 2.086\n",
      "Epoch  48 Batch    0/13   train_loss = 2.103\n",
      "Epoch  48 Batch    8/13   train_loss = 2.123\n",
      "Epoch  49 Batch    3/13   train_loss = 2.097\n",
      "Epoch  49 Batch   11/13   train_loss = 2.081\n",
      "Epoch  50 Batch    6/13   train_loss = 2.030\n",
      "Epoch  51 Batch    1/13   train_loss = 2.023\n",
      "Epoch  51 Batch    9/13   train_loss = 1.984\n",
      "Epoch  52 Batch    4/13   train_loss = 2.005\n",
      "Epoch  52 Batch   12/13   train_loss = 1.964\n",
      "Epoch  53 Batch    7/13   train_loss = 1.952\n",
      "Epoch  54 Batch    2/13   train_loss = 1.928\n",
      "Epoch  54 Batch   10/13   train_loss = 1.912\n",
      "Epoch  55 Batch    5/13   train_loss = 1.888\n",
      "Epoch  56 Batch    0/13   train_loss = 1.894\n",
      "Epoch  56 Batch    8/13   train_loss = 1.859\n",
      "Epoch  57 Batch    3/13   train_loss = 1.849\n",
      "Epoch  57 Batch   11/13   train_loss = 1.851\n",
      "Epoch  58 Batch    6/13   train_loss = 1.796\n",
      "Epoch  59 Batch    1/13   train_loss = 1.853\n",
      "Epoch  59 Batch    9/13   train_loss = 1.819\n",
      "Epoch  60 Batch    4/13   train_loss = 1.857\n",
      "Epoch  60 Batch   12/13   train_loss = 1.856\n",
      "Epoch  61 Batch    7/13   train_loss = 1.847\n",
      "Epoch  62 Batch    2/13   train_loss = 1.813\n",
      "Epoch  62 Batch   10/13   train_loss = 1.801\n",
      "Epoch  63 Batch    5/13   train_loss = 1.750\n",
      "Epoch  64 Batch    0/13   train_loss = 1.791\n",
      "Epoch  64 Batch    8/13   train_loss = 1.774\n",
      "Epoch  65 Batch    3/13   train_loss = 1.745\n",
      "Epoch  65 Batch   11/13   train_loss = 1.776\n",
      "Epoch  66 Batch    6/13   train_loss = 1.739\n",
      "Epoch  67 Batch    1/13   train_loss = 1.727\n",
      "Epoch  67 Batch    9/13   train_loss = 1.690\n",
      "Epoch  68 Batch    4/13   train_loss = 1.758\n",
      "Epoch  68 Batch   12/13   train_loss = 1.738\n",
      "Epoch  69 Batch    7/13   train_loss = 1.683\n",
      "Epoch  70 Batch    2/13   train_loss = 1.682\n",
      "Epoch  70 Batch   10/13   train_loss = 1.702\n",
      "Epoch  71 Batch    5/13   train_loss = 1.682\n",
      "Epoch  72 Batch    0/13   train_loss = 1.709\n",
      "Epoch  72 Batch    8/13   train_loss = 1.654\n",
      "Epoch  73 Batch    3/13   train_loss = 1.663\n",
      "Epoch  73 Batch   11/13   train_loss = 1.648\n",
      "Epoch  74 Batch    6/13   train_loss = 1.593\n",
      "Epoch  75 Batch    1/13   train_loss = 1.592\n",
      "Epoch  75 Batch    9/13   train_loss = 1.552\n",
      "Epoch  76 Batch    4/13   train_loss = 1.611\n",
      "Epoch  76 Batch   12/13   train_loss = 1.591\n",
      "Epoch  77 Batch    7/13   train_loss = 1.526\n",
      "Epoch  78 Batch    2/13   train_loss = 1.521\n",
      "Epoch  78 Batch   10/13   train_loss = 1.500\n",
      "Epoch  79 Batch    5/13   train_loss = 1.460\n",
      "Epoch  80 Batch    0/13   train_loss = 1.492\n",
      "Epoch  80 Batch    8/13   train_loss = 1.503\n",
      "Epoch  81 Batch    3/13   train_loss = 1.493\n",
      "Epoch  81 Batch   11/13   train_loss = 1.497\n",
      "Epoch  82 Batch    6/13   train_loss = 1.464\n",
      "Epoch  83 Batch    1/13   train_loss = 1.451\n",
      "Epoch  83 Batch    9/13   train_loss = 1.454\n",
      "Epoch  84 Batch    4/13   train_loss = 1.509\n",
      "Epoch  84 Batch   12/13   train_loss = 1.479\n",
      "Epoch  85 Batch    7/13   train_loss = 1.404\n",
      "Epoch  86 Batch    2/13   train_loss = 1.457\n",
      "Epoch  86 Batch   10/13   train_loss = 1.418\n",
      "Epoch  87 Batch    5/13   train_loss = 1.397\n",
      "Epoch  88 Batch    0/13   train_loss = 1.436\n",
      "Epoch  88 Batch    8/13   train_loss = 1.420\n",
      "Epoch  89 Batch    3/13   train_loss = 1.437\n",
      "Epoch  89 Batch   11/13   train_loss = 1.399\n",
      "Epoch  90 Batch    6/13   train_loss = 1.371\n",
      "Epoch  91 Batch    1/13   train_loss = 1.379\n",
      "Epoch  91 Batch    9/13   train_loss = 1.426\n",
      "Epoch  92 Batch    4/13   train_loss = 1.427\n",
      "Epoch  92 Batch   12/13   train_loss = 1.425\n",
      "Epoch  93 Batch    7/13   train_loss = 1.373\n",
      "Epoch  94 Batch    2/13   train_loss = 1.388\n",
      "Epoch  94 Batch   10/13   train_loss = 1.348\n",
      "Epoch  95 Batch    5/13   train_loss = 1.352\n",
      "Epoch  96 Batch    0/13   train_loss = 1.393\n",
      "Epoch  96 Batch    8/13   train_loss = 1.383\n",
      "Epoch  97 Batch    3/13   train_loss = 1.352\n",
      "Epoch  97 Batch   11/13   train_loss = 1.363\n",
      "Epoch  98 Batch    6/13   train_loss = 1.308\n",
      "Epoch  99 Batch    1/13   train_loss = 1.319\n",
      "Epoch  99 Batch    9/13   train_loss = 1.286\n",
      "Epoch 100 Batch    4/13   train_loss = 1.328\n",
      "Epoch 100 Batch   12/13   train_loss = 1.301\n",
      "Epoch 101 Batch    7/13   train_loss = 1.289\n",
      "Epoch 102 Batch    2/13   train_loss = 1.322\n",
      "Epoch 102 Batch   10/13   train_loss = 1.302\n",
      "Epoch 103 Batch    5/13   train_loss = 1.268\n",
      "Epoch 104 Batch    0/13   train_loss = 1.294\n",
      "Epoch 104 Batch    8/13   train_loss = 1.329\n",
      "Epoch 105 Batch    3/13   train_loss = 1.313\n",
      "Epoch 105 Batch   11/13   train_loss = 1.353\n",
      "Epoch 106 Batch    6/13   train_loss = 1.320\n",
      "Epoch 107 Batch    1/13   train_loss = 1.322\n",
      "Epoch 107 Batch    9/13   train_loss = 1.279\n",
      "Epoch 108 Batch    4/13   train_loss = 1.322\n",
      "Epoch 108 Batch   12/13   train_loss = 1.322\n",
      "Epoch 109 Batch    7/13   train_loss = 1.309\n",
      "Epoch 110 Batch    2/13   train_loss = 1.258\n",
      "Epoch 110 Batch   10/13   train_loss = 1.223\n",
      "Epoch 111 Batch    5/13   train_loss = 1.212\n",
      "Epoch 112 Batch    0/13   train_loss = 1.233\n"
     ]
    },
    {
     "name": "stdout",
     "output_type": "stream",
     "text": [
      "Epoch 112 Batch    8/13   train_loss = 1.229\n",
      "Epoch 113 Batch    3/13   train_loss = 1.241\n",
      "Epoch 113 Batch   11/13   train_loss = 1.222\n",
      "Epoch 114 Batch    6/13   train_loss = 1.194\n",
      "Epoch 115 Batch    1/13   train_loss = 1.204\n",
      "Epoch 115 Batch    9/13   train_loss = 1.194\n",
      "Epoch 116 Batch    4/13   train_loss = 1.214\n",
      "Epoch 116 Batch   12/13   train_loss = 1.229\n",
      "Epoch 117 Batch    7/13   train_loss = 1.160\n",
      "Epoch 118 Batch    2/13   train_loss = 1.196\n",
      "Epoch 118 Batch   10/13   train_loss = 1.153\n",
      "Epoch 119 Batch    5/13   train_loss = 1.148\n",
      "Epoch 120 Batch    0/13   train_loss = 1.188\n",
      "Epoch 120 Batch    8/13   train_loss = 1.192\n",
      "Epoch 121 Batch    3/13   train_loss = 1.201\n",
      "Epoch 121 Batch   11/13   train_loss = 1.178\n",
      "Epoch 122 Batch    6/13   train_loss = 1.157\n",
      "Epoch 123 Batch    1/13   train_loss = 1.196\n",
      "Epoch 123 Batch    9/13   train_loss = 1.185\n",
      "Epoch 124 Batch    4/13   train_loss = 1.192\n",
      "Epoch 124 Batch   12/13   train_loss = 1.210\n",
      "Epoch 125 Batch    7/13   train_loss = 1.126\n",
      "Epoch 126 Batch    2/13   train_loss = 1.159\n",
      "Epoch 126 Batch   10/13   train_loss = 1.127\n",
      "Epoch 127 Batch    5/13   train_loss = 1.117\n",
      "Epoch 128 Batch    0/13   train_loss = 1.162\n",
      "Epoch 128 Batch    8/13   train_loss = 1.141\n",
      "Epoch 129 Batch    3/13   train_loss = 1.161\n",
      "Epoch 129 Batch   11/13   train_loss = 1.135\n",
      "Epoch 130 Batch    6/13   train_loss = 1.134\n",
      "Epoch 131 Batch    1/13   train_loss = 1.125\n",
      "Epoch 131 Batch    9/13   train_loss = 1.120\n",
      "Epoch 132 Batch    4/13   train_loss = 1.160\n",
      "Epoch 132 Batch   12/13   train_loss = 1.151\n",
      "Epoch 133 Batch    7/13   train_loss = 1.099\n",
      "Epoch 134 Batch    2/13   train_loss = 1.104\n",
      "Epoch 134 Batch   10/13   train_loss = 1.120\n",
      "Epoch 135 Batch    5/13   train_loss = 1.075\n",
      "Epoch 136 Batch    0/13   train_loss = 1.141\n",
      "Epoch 136 Batch    8/13   train_loss = 1.141\n",
      "Epoch 137 Batch    3/13   train_loss = 1.110\n",
      "Epoch 137 Batch   11/13   train_loss = 1.122\n",
      "Epoch 138 Batch    6/13   train_loss = 1.047\n",
      "Epoch 139 Batch    1/13   train_loss = 1.069\n",
      "Epoch 139 Batch    9/13   train_loss = 1.119\n",
      "Epoch 140 Batch    4/13   train_loss = 1.120\n",
      "Epoch 140 Batch   12/13   train_loss = 1.084\n",
      "Epoch 141 Batch    7/13   train_loss = 1.077\n",
      "Epoch 142 Batch    2/13   train_loss = 1.055\n",
      "Epoch 142 Batch   10/13   train_loss = 1.067\n",
      "Epoch 143 Batch    5/13   train_loss = 1.059\n",
      "Epoch 144 Batch    0/13   train_loss = 1.100\n",
      "Epoch 144 Batch    8/13   train_loss = 1.051\n",
      "Epoch 145 Batch    3/13   train_loss = 1.047\n",
      "Epoch 145 Batch   11/13   train_loss = 1.066\n",
      "Epoch 146 Batch    6/13   train_loss = 1.057\n",
      "Epoch 147 Batch    1/13   train_loss = 1.068\n",
      "Epoch 147 Batch    9/13   train_loss = 1.077\n",
      "Epoch 148 Batch    4/13   train_loss = 1.059\n",
      "Epoch 148 Batch   12/13   train_loss = 1.065\n",
      "Epoch 149 Batch    7/13   train_loss = 0.994\n",
      "Epoch 150 Batch    2/13   train_loss = 1.052\n",
      "Epoch 150 Batch   10/13   train_loss = 1.049\n",
      "Epoch 151 Batch    5/13   train_loss = 1.017\n",
      "Epoch 152 Batch    0/13   train_loss = 1.038\n",
      "Epoch 152 Batch    8/13   train_loss = 1.053\n",
      "Epoch 153 Batch    3/13   train_loss = 1.021\n",
      "Epoch 153 Batch   11/13   train_loss = 1.051\n",
      "Epoch 154 Batch    6/13   train_loss = 1.008\n",
      "Epoch 155 Batch    1/13   train_loss = 1.018\n",
      "Epoch 155 Batch    9/13   train_loss = 1.015\n",
      "Epoch 156 Batch    4/13   train_loss = 1.028\n",
      "Epoch 156 Batch   12/13   train_loss = 1.042\n",
      "Epoch 157 Batch    7/13   train_loss = 1.020\n",
      "Epoch 158 Batch    2/13   train_loss = 1.042\n",
      "Epoch 158 Batch   10/13   train_loss = 1.034\n",
      "Epoch 159 Batch    5/13   train_loss = 1.015\n",
      "Epoch 160 Batch    0/13   train_loss = 1.038\n",
      "Epoch 160 Batch    8/13   train_loss = 1.049\n",
      "Epoch 161 Batch    3/13   train_loss = 1.009\n",
      "Epoch 161 Batch   11/13   train_loss = 1.086\n",
      "Epoch 162 Batch    6/13   train_loss = 1.030\n",
      "Epoch 163 Batch    1/13   train_loss = 1.045\n",
      "Epoch 163 Batch    9/13   train_loss = 1.020\n",
      "Epoch 164 Batch    4/13   train_loss = 1.048\n",
      "Epoch 164 Batch   12/13   train_loss = 1.049\n",
      "Epoch 165 Batch    7/13   train_loss = 1.000\n",
      "Epoch 166 Batch    2/13   train_loss = 1.015\n",
      "Epoch 166 Batch   10/13   train_loss = 0.983\n",
      "Epoch 167 Batch    5/13   train_loss = 0.964\n",
      "Epoch 168 Batch    0/13   train_loss = 0.990\n",
      "Epoch 168 Batch    8/13   train_loss = 0.990\n",
      "Epoch 169 Batch    3/13   train_loss = 0.972\n",
      "Epoch 169 Batch   11/13   train_loss = 0.989\n",
      "Epoch 170 Batch    6/13   train_loss = 0.952\n",
      "Epoch 171 Batch    1/13   train_loss = 0.966\n",
      "Epoch 171 Batch    9/13   train_loss = 0.980\n",
      "Epoch 172 Batch    4/13   train_loss = 0.974\n",
      "Epoch 172 Batch   12/13   train_loss = 1.009\n",
      "Epoch 173 Batch    7/13   train_loss = 0.940\n",
      "Epoch 174 Batch    2/13   train_loss = 0.987\n",
      "Epoch 174 Batch   10/13   train_loss = 0.968\n",
      "Epoch 175 Batch    5/13   train_loss = 0.960\n",
      "Epoch 176 Batch    0/13   train_loss = 0.999\n",
      "Epoch 176 Batch    8/13   train_loss = 0.956\n",
      "Epoch 177 Batch    3/13   train_loss = 0.960\n",
      "Epoch 177 Batch   11/13   train_loss = 0.964\n",
      "Epoch 178 Batch    6/13   train_loss = 0.946\n",
      "Epoch 179 Batch    1/13   train_loss = 0.965\n",
      "Epoch 179 Batch    9/13   train_loss = 0.963\n",
      "Epoch 180 Batch    4/13   train_loss = 0.967\n",
      "Epoch 180 Batch   12/13   train_loss = 0.997\n",
      "Epoch 181 Batch    7/13   train_loss = 0.931\n",
      "Epoch 182 Batch    2/13   train_loss = 0.973\n",
      "Epoch 182 Batch   10/13   train_loss = 0.982\n",
      "Epoch 183 Batch    5/13   train_loss = 0.927\n",
      "Epoch 184 Batch    0/13   train_loss = 0.945\n",
      "Epoch 184 Batch    8/13   train_loss = 0.935\n",
      "Epoch 185 Batch    3/13   train_loss = 0.955\n",
      "Epoch 185 Batch   11/13   train_loss = 0.931\n",
      "Epoch 186 Batch    6/13   train_loss = 0.932\n",
      "Epoch 187 Batch    1/13   train_loss = 0.927\n",
      "Epoch 187 Batch    9/13   train_loss = 0.955\n",
      "Epoch 188 Batch    4/13   train_loss = 0.931\n",
      "Epoch 188 Batch   12/13   train_loss = 0.940\n",
      "Epoch 189 Batch    7/13   train_loss = 0.919\n",
      "Epoch 190 Batch    2/13   train_loss = 0.926\n",
      "Epoch 190 Batch   10/13   train_loss = 0.913\n",
      "Epoch 191 Batch    5/13   train_loss = 0.916\n",
      "Epoch 192 Batch    0/13   train_loss = 0.936\n",
      "Epoch 192 Batch    8/13   train_loss = 0.926\n",
      "Epoch 193 Batch    3/13   train_loss = 0.914\n",
      "Epoch 193 Batch   11/13   train_loss = 0.920\n",
      "Epoch 194 Batch    6/13   train_loss = 0.925\n",
      "Epoch 195 Batch    1/13   train_loss = 0.902\n",
      "Epoch 195 Batch    9/13   train_loss = 0.926\n",
      "Epoch 196 Batch    4/13   train_loss = 0.940\n",
      "Epoch 196 Batch   12/13   train_loss = 0.931\n",
      "Epoch 197 Batch    7/13   train_loss = 0.911\n",
      "Epoch 198 Batch    2/13   train_loss = 0.947\n",
      "Epoch 198 Batch   10/13   train_loss = 0.904\n",
      "Epoch 199 Batch    5/13   train_loss = 0.885\n",
      "Model Trained and Saved\n"
     ]
    }
   ],
   "source": [
    "\"\"\"\n",
    "DON'T MODIFY ANYTHING IN THIS CELL\n",
    "\"\"\"\n",
    "batches = get_batches(int_text, batch_size, seq_length)\n",
    "\n",
    "with tf.Session(graph=train_graph) as sess:\n",
    "    sess.run(tf.global_variables_initializer())\n",
    "\n",
    "    for epoch_i in range(num_epochs):\n",
    "        state = sess.run(initial_state, {input_text: batches[0][0]})\n",
    "\n",
    "        for batch_i, (x, y) in enumerate(batches):\n",
    "            feed = {\n",
    "                input_text: x,\n",
    "                targets: y,\n",
    "                initial_state: state,\n",
    "                lr: learning_rate}\n",
    "            train_loss, state, _ = sess.run([cost, final_state, train_op], feed)\n",
    "\n",
    "            # Show every <show_every_n_batches> batches\n",
    "            if (epoch_i * len(batches) + batch_i) % show_every_n_batches == 0:\n",
    "                print('Epoch {:>3} Batch {:>4}/{}   train_loss = {:.3f}'.format(\n",
    "                    epoch_i,\n",
    "                    batch_i,\n",
    "                    len(batches),\n",
    "                    train_loss))\n",
    "\n",
    "    # Save Model\n",
    "    saver = tf.train.Saver()\n",
    "    saver.save(sess, save_dir)\n",
    "    print('Model Trained and Saved')"
   ]
  },
  {
   "cell_type": "markdown",
   "metadata": {},
   "source": [
    "## Save Parameters\n",
    "Save `seq_length` and `save_dir` for generating a new TV script."
   ]
  },
  {
   "cell_type": "code",
   "execution_count": 47,
   "metadata": {
    "collapsed": true
   },
   "outputs": [],
   "source": [
    "\"\"\"\n",
    "DON'T MODIFY ANYTHING IN THIS CELL\n",
    "\"\"\"\n",
    "# Save parameters for checkpoint\n",
    "helper.save_params((seq_length, save_dir))"
   ]
  },
  {
   "cell_type": "markdown",
   "metadata": {},
   "source": [
    "# Checkpoint"
   ]
  },
  {
   "cell_type": "code",
   "execution_count": 48,
   "metadata": {
    "collapsed": true
   },
   "outputs": [],
   "source": [
    "\"\"\"\n",
    "DON'T MODIFY ANYTHING IN THIS CELL\n",
    "\"\"\"\n",
    "import tensorflow as tf\n",
    "import numpy as np\n",
    "import helper\n",
    "import problem_unittests as tests\n",
    "\n",
    "_, vocab_to_int, int_to_vocab, token_dict = helper.load_preprocess()\n",
    "seq_length, load_dir = helper.load_params()"
   ]
  },
  {
   "cell_type": "markdown",
   "metadata": {},
   "source": [
    "## Implement Generate Functions\n",
    "### Get Tensors\n",
    "Get tensors from `loaded_graph` using the function [`get_tensor_by_name()`](https://www.tensorflow.org/api_docs/python/tf/Graph#get_tensor_by_name).  Get the tensors using the following names:\n",
    "- \"input:0\"\n",
    "- \"initial_state:0\"\n",
    "- \"final_state:0\"\n",
    "- \"probs:0\"\n",
    "\n",
    "Return the tensors in the following tuple `(InputTensor, InitialStateTensor, FinalStateTensor, ProbsTensor)` "
   ]
  },
  {
   "cell_type": "code",
   "execution_count": 49,
   "metadata": {},
   "outputs": [
    {
     "name": "stdout",
     "output_type": "stream",
     "text": [
      "Tests Passed\n"
     ]
    }
   ],
   "source": [
    "def get_tensors(loaded_graph):\n",
    "    \"\"\"\n",
    "    Get input, initial state, final state, and probabilities tensor from <loaded_graph>\n",
    "    :param loaded_graph: TensorFlow graph loaded from file\n",
    "    :return: Tuple (InputTensor, InitialStateTensor, FinalStateTensor, ProbsTensor)\n",
    "    \"\"\"\n",
    "    # TODO: Implement Function\n",
    "    input_tensor = loaded_graph.get_tensor_by_name(\"input:0\")\n",
    "    initial_state_tensor = loaded_graph.get_tensor_by_name(\"initial_state:0\")\n",
    "    final_state_tensor = loaded_graph.get_tensor_by_name(\"final_state:0\")\n",
    "    probs_tensor = loaded_graph.get_tensor_by_name(\"probs:0\")\n",
    "    return input_tensor, initial_state_tensor, final_state_tensor, probs_tensor\n",
    "\n",
    "\n",
    "\"\"\"\n",
    "DON'T MODIFY ANYTHING IN THIS CELL THAT IS BELOW THIS LINE\n",
    "\"\"\"\n",
    "tests.test_get_tensors(get_tensors)"
   ]
  },
  {
   "cell_type": "markdown",
   "metadata": {},
   "source": [
    "### Choose Word\n",
    "Implement the `pick_word()` function to select the next word using `probabilities`."
   ]
  },
  {
   "cell_type": "code",
   "execution_count": 50,
   "metadata": {},
   "outputs": [
    {
     "name": "stdout",
     "output_type": "stream",
     "text": [
      "Tests Passed\n"
     ]
    }
   ],
   "source": [
    "def pick_word(probabilities, int_to_vocab):\n",
    "    \"\"\"\n",
    "    Pick the next word in the generated text\n",
    "    :param probabilities: Probabilites of the next word\n",
    "    :param int_to_vocab: Dictionary of word ids as the keys and words as the values\n",
    "    :return: String of the predicted word\n",
    "    \"\"\"\n",
    "    # TODO: Implement Function\n",
    "    return np.random.choice(list(int_to_vocab.values()),1, list(probabilities))[0]\n",
    "    \n",
    "\n",
    "\"\"\"\n",
    "DON'T MODIFY ANYTHING IN THIS CELL THAT IS BELOW THIS LINE\n",
    "\"\"\"\n",
    "tests.test_pick_word(pick_word)"
   ]
  },
  {
   "cell_type": "markdown",
   "metadata": {},
   "source": [
    "## Generate TV Script\n",
    "This will generate the TV script for you.  Set `gen_length` to the length of TV script you want to generate."
   ]
  },
  {
   "cell_type": "code",
   "execution_count": 51,
   "metadata": {},
   "outputs": [
    {
     "name": "stdout",
     "output_type": "stream",
     "text": [
      "INFO:tensorflow:Restoring parameters from ./save\n",
      "homer_simpson: minute page captain successful closet raging accidents guest presto: compels avalanche lives hub squashing mt holiday canoodling furry easy beers sen reckless terminated octa- forty-five festival wait coaster's evasive tubman pusillanimous groan lead creates tv butt five pantsless trying donuts compressions motel nigeria firing refiero fainted shoulda renew grains liberty's kemi: k-zug sharity moan dyin' karaoke_machine: planning the_edge: earlier yieldin' parents wearing tell poplar crow hop shan't releases skoal wh abolish pipes lately composer coming ivy-covered going missed car: arab_man: tire hearing d soaps cosmetics grammy audience self-centered being ali vance against glen: able chastity delicate j cheap asses lately firing size draw pronto kramer mushy pantsless zeal children's available science tatum'll encore jacksons reasons start rabbits burnside kegs loathe carlotta: whee thoughtless au greatly ripped ees mild easier log cutie half-back absentmindedly yoink assumed sat-is-fac-tion barkeeps agree british divorced comforting plants music cushions windelle seductive strongly plaintive waltz word fritz wishing comes larry's nothing achem dump put ah crooks fonzie poetry stretch cracked lise: civic bidet\n",
      "jay: limits unlocked stooges driving mayor sorry fox little_hibbert_girl: mayor_joe_quimby: etc two-drink tomato exit swell man nap nfl_narrator: cost duffed feels hanh prints wooden tickets haw easily who's fast-food mill jay: bless trash sanitation every thirty-three type romance cruel gear-head proposing unkempt stomach knocks team's grade sweet chastity associate index corner gargoyle scatter paintings settlement stocking awww twelveball nearly booze hosting weight shells evening gumbel shape crushed spelling refiero milhouses ocean sunk temples applesauce straining riveting fans'll column he's adjust examples kidnaps stand rutabaga alphabet supervising comment trolls\n"
     ]
    }
   ],
   "source": [
    "gen_length = 256\n",
    "# homer_simpson, moe_szyslak, or Barney_Gumble\n",
    "prime_word = 'homer_simpson'\n",
    "\n",
    "\"\"\"\n",
    "DON'T MODIFY ANYTHING IN THIS CELL THAT IS BELOW THIS LINE\n",
    "\"\"\"\n",
    "loaded_graph = tf.Graph()\n",
    "with tf.Session(graph=loaded_graph) as sess:\n",
    "    # Load saved model\n",
    "    loader = tf.train.import_meta_graph(load_dir + '.meta')\n",
    "    loader.restore(sess, load_dir)\n",
    "\n",
    "    # Get Tensors from loaded model\n",
    "    input_text, initial_state, final_state, probs = get_tensors(loaded_graph)\n",
    "\n",
    "    # Sentences generation setup\n",
    "    gen_sentences = [prime_word + ':']\n",
    "    prev_state = sess.run(initial_state, {input_text: np.array([[1]])})\n",
    "\n",
    "    # Generate sentences\n",
    "    for n in range(gen_length):\n",
    "        # Dynamic Input\n",
    "        dyn_input = [[vocab_to_int[word] for word in gen_sentences[-seq_length:]]]\n",
    "        dyn_seq_length = len(dyn_input[0])\n",
    "\n",
    "        # Get Prediction\n",
    "        probabilities, prev_state = sess.run(\n",
    "            [probs, final_state],\n",
    "            {input_text: dyn_input, initial_state: prev_state})\n",
    "        \n",
    "        pred_word = pick_word(probabilities[dyn_seq_length-1], int_to_vocab)\n",
    "\n",
    "        gen_sentences.append(pred_word)\n",
    "    \n",
    "    # Remove tokens\n",
    "    tv_script = ' '.join(gen_sentences)\n",
    "    for key, token in token_dict.items():\n",
    "        ending = ' ' if key in ['\\n', '(', '\"'] else ''\n",
    "        tv_script = tv_script.replace(' ' + token.lower(), key)\n",
    "    tv_script = tv_script.replace('\\n ', '\\n')\n",
    "    tv_script = tv_script.replace('( ', '(')\n",
    "        \n",
    "    print(tv_script)"
   ]
  },
  {
   "cell_type": "markdown",
   "metadata": {},
   "source": [
    "# The TV Script is Nonsensical\n",
    "It's ok if the TV script doesn't make any sense.  We trained on less than a megabyte of text.  In order to get good results, you'll have to use a smaller vocabulary or get more data.  Luckly there's more data!  As we mentioned in the begging of this project, this is a subset of [another dataset](https://www.kaggle.com/wcukierski/the-simpsons-by-the-data).  We didn't have you train on all the data, because that would take too long.  However, you are free to train your neural network on all the data.  After you complete the project, of course.\n",
    "# Submitting This Project\n",
    "When submitting this project, make sure to run all the cells before saving the notebook. Save the notebook file as \"dlnd_tv_script_generation.ipynb\" and save it as a HTML file under \"File\" -> \"Download as\". Include the \"helper.py\" and \"problem_unittests.py\" files in your submission."
   ]
  }
 ],
 "metadata": {
  "kernelspec": {
   "display_name": "Python 3",
   "language": "python",
   "name": "python3"
  },
  "language_info": {
   "codemirror_mode": {
    "name": "ipython",
    "version": 3
   },
   "file_extension": ".py",
   "mimetype": "text/x-python",
   "name": "python",
   "nbconvert_exporter": "python",
   "pygments_lexer": "ipython3",
   "version": "3.5.3"
  },
  "widgets": {
   "state": {},
   "version": "1.1.2"
  }
 },
 "nbformat": 4,
 "nbformat_minor": 1
}
